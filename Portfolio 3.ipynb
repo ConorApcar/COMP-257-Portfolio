{
 "cells": [
  {
   "cell_type": "code",
   "execution_count": 1,
   "metadata": {
    "collapsed": true
   },
   "outputs": [],
   "source": [
    "# Your Name: Conor Apcar\n",
    "# Your Student ID: 44624336"
   ]
  },
  {
   "cell_type": "markdown",
   "metadata": {},
   "source": [
    "# Online Retail Customer Clustering\n",
    "\n",
    "This exercise uses a dataset containing records of online retail transactions. The data is available at [The UCI ML Repository](https://archive.ics.uci.edu/ml/datasets/Online+Retail).  \n",
    "\n",
    "The goal of the exercise is to use clustering techniques to idenfity customer segments in the data that might be suitable for targetted marketing or market research.   There is a discussion of this along with an example analysis (in R) [in this blog post](http://www.kimberlycoffey.com/blog/2016/8/k-means-clustering-for-customer-segmentation).   Your task is to reproduce this in Python and comment on the results that you observe.\n",
    "\n",
    "The data is available as a spreadsheet, I've saved this as a CSV file.   I've written some code below to read \n",
    "the data and to add some derived columns to the data frame.  I've done this, rather than ask you to do it, \n",
    "because it was fairly tricky to find out how to do this and uses groupby and aggregate functions that we've not\n",
    "covered much.  Take this as an example of data preparation.\n"
   ]
  },
  {
   "cell_type": "code",
   "execution_count": 2,
   "metadata": {},
   "outputs": [
    {
     "data": {
      "text/html": [
       "<div>\n",
       "<style>\n",
       "    .dataframe thead tr:only-child th {\n",
       "        text-align: right;\n",
       "    }\n",
       "\n",
       "    .dataframe thead th {\n",
       "        text-align: left;\n",
       "    }\n",
       "\n",
       "    .dataframe tbody tr th {\n",
       "        vertical-align: top;\n",
       "    }\n",
       "</style>\n",
       "<table border=\"1\" class=\"dataframe\">\n",
       "  <thead>\n",
       "    <tr style=\"text-align: right;\">\n",
       "      <th></th>\n",
       "      <th>InvoiceNo</th>\n",
       "      <th>StockCode</th>\n",
       "      <th>Description</th>\n",
       "      <th>Quantity</th>\n",
       "      <th>InvoiceDate</th>\n",
       "      <th>UnitPrice</th>\n",
       "      <th>CustomerID</th>\n",
       "      <th>Country</th>\n",
       "    </tr>\n",
       "  </thead>\n",
       "  <tbody>\n",
       "    <tr>\n",
       "      <th>0</th>\n",
       "      <td>536365</td>\n",
       "      <td>85123A</td>\n",
       "      <td>WHITE HANGING HEART T-LIGHT HOLDER</td>\n",
       "      <td>6</td>\n",
       "      <td>1/12/10 8:26</td>\n",
       "      <td>2.55</td>\n",
       "      <td>17850.0</td>\n",
       "      <td>United Kingdom</td>\n",
       "    </tr>\n",
       "    <tr>\n",
       "      <th>1</th>\n",
       "      <td>536365</td>\n",
       "      <td>71053</td>\n",
       "      <td>WHITE METAL LANTERN</td>\n",
       "      <td>6</td>\n",
       "      <td>1/12/10 8:26</td>\n",
       "      <td>3.39</td>\n",
       "      <td>17850.0</td>\n",
       "      <td>United Kingdom</td>\n",
       "    </tr>\n",
       "    <tr>\n",
       "      <th>2</th>\n",
       "      <td>536365</td>\n",
       "      <td>84406B</td>\n",
       "      <td>CREAM CUPID HEARTS COAT HANGER</td>\n",
       "      <td>8</td>\n",
       "      <td>1/12/10 8:26</td>\n",
       "      <td>2.75</td>\n",
       "      <td>17850.0</td>\n",
       "      <td>United Kingdom</td>\n",
       "    </tr>\n",
       "    <tr>\n",
       "      <th>3</th>\n",
       "      <td>536365</td>\n",
       "      <td>84029G</td>\n",
       "      <td>KNITTED UNION FLAG HOT WATER BOTTLE</td>\n",
       "      <td>6</td>\n",
       "      <td>1/12/10 8:26</td>\n",
       "      <td>3.39</td>\n",
       "      <td>17850.0</td>\n",
       "      <td>United Kingdom</td>\n",
       "    </tr>\n",
       "    <tr>\n",
       "      <th>4</th>\n",
       "      <td>536365</td>\n",
       "      <td>84029E</td>\n",
       "      <td>RED WOOLLY HOTTIE WHITE HEART.</td>\n",
       "      <td>6</td>\n",
       "      <td>1/12/10 8:26</td>\n",
       "      <td>3.39</td>\n",
       "      <td>17850.0</td>\n",
       "      <td>United Kingdom</td>\n",
       "    </tr>\n",
       "  </tbody>\n",
       "</table>\n",
       "</div>"
      ],
      "text/plain": [
       "  InvoiceNo StockCode                          Description  Quantity  \\\n",
       "0    536365    85123A   WHITE HANGING HEART T-LIGHT HOLDER         6   \n",
       "1    536365     71053                  WHITE METAL LANTERN         6   \n",
       "2    536365    84406B       CREAM CUPID HEARTS COAT HANGER         8   \n",
       "3    536365    84029G  KNITTED UNION FLAG HOT WATER BOTTLE         6   \n",
       "4    536365    84029E       RED WOOLLY HOTTIE WHITE HEART.         6   \n",
       "\n",
       "    InvoiceDate  UnitPrice  CustomerID         Country  \n",
       "0  1/12/10 8:26       2.55     17850.0  United Kingdom  \n",
       "1  1/12/10 8:26       3.39     17850.0  United Kingdom  \n",
       "2  1/12/10 8:26       2.75     17850.0  United Kingdom  \n",
       "3  1/12/10 8:26       3.39     17850.0  United Kingdom  \n",
       "4  1/12/10 8:26       3.39     17850.0  United Kingdom  "
      ]
     },
     "execution_count": 2,
     "metadata": {},
     "output_type": "execute_result"
    }
   ],
   "source": [
    "import pandas as pd\n",
    "import numpy as np\n",
    "from sklearn.cluster import KMeans\n",
    "from sklearn import metrics\n",
    "import matplotlib.pylab as plt\n",
    "from sklearn import cluster\n",
    "from scipy.cluster.hierarchy import linkage, dendrogram\n",
    "from scipy.spatial.distance import pdist\n",
    "from sklearn.decomposition import PCA\n",
    "%matplotlib inline\n",
    "\n",
    "retail = pd.read_csv('files/online-retail.csv')\n",
    "retail.head()"
   ]
  },
  {
   "cell_type": "markdown",
   "metadata": {},
   "source": [
    "Went through and checked the data for outliers, and any data that needed to be cleaned. First noticed was the high and lowe min and max  with a mean no where near either. \n",
    "Looking at a scatter plot for both quantity and unit price we can see that there are a couple of points that are strethcing out the data and need to be removed.\n",
    "Also remove any empty values before restricting the size of both quantity and unit price to between -10000 and 10000. I do this since it gets rid of the really high outliers however on the new scatter plots we can see a better spread but still with a lot of the data hovering around that 0 mark.\n",
    "I felt I couldn't remove more since this is to do with customers spending and it is important to still look and people who buy a lot more and spend a lot more than most people seem to do.\n",
    "\n",
    "Also limited the data to one year and one country being the UK similar to what was done in the blog to help clean it a little better, and it can show spending habits of people only in the UK which for a marketing company can help with specific promotions driven for England."
   ]
  },
  {
   "cell_type": "code",
   "execution_count": 3,
   "metadata": {},
   "outputs": [
    {
     "data": {
      "text/plain": [
       "(541909, 8)"
      ]
     },
     "execution_count": 3,
     "metadata": {},
     "output_type": "execute_result"
    }
   ],
   "source": [
    "retail.shape #Check shape of dataframe"
   ]
  },
  {
   "cell_type": "code",
   "execution_count": 4,
   "metadata": {},
   "outputs": [
    {
     "data": {
      "text/html": [
       "<div>\n",
       "<style>\n",
       "    .dataframe thead tr:only-child th {\n",
       "        text-align: right;\n",
       "    }\n",
       "\n",
       "    .dataframe thead th {\n",
       "        text-align: left;\n",
       "    }\n",
       "\n",
       "    .dataframe tbody tr th {\n",
       "        vertical-align: top;\n",
       "    }\n",
       "</style>\n",
       "<table border=\"1\" class=\"dataframe\">\n",
       "  <thead>\n",
       "    <tr style=\"text-align: right;\">\n",
       "      <th></th>\n",
       "      <th>Quantity</th>\n",
       "      <th>UnitPrice</th>\n",
       "      <th>CustomerID</th>\n",
       "    </tr>\n",
       "  </thead>\n",
       "  <tbody>\n",
       "    <tr>\n",
       "      <th>count</th>\n",
       "      <td>541909.000000</td>\n",
       "      <td>541909.000000</td>\n",
       "      <td>406829.000000</td>\n",
       "    </tr>\n",
       "    <tr>\n",
       "      <th>mean</th>\n",
       "      <td>9.552250</td>\n",
       "      <td>4.611114</td>\n",
       "      <td>15287.690570</td>\n",
       "    </tr>\n",
       "    <tr>\n",
       "      <th>std</th>\n",
       "      <td>218.081158</td>\n",
       "      <td>96.759853</td>\n",
       "      <td>1713.600303</td>\n",
       "    </tr>\n",
       "    <tr>\n",
       "      <th>min</th>\n",
       "      <td>-80995.000000</td>\n",
       "      <td>-11062.060000</td>\n",
       "      <td>12346.000000</td>\n",
       "    </tr>\n",
       "    <tr>\n",
       "      <th>25%</th>\n",
       "      <td>1.000000</td>\n",
       "      <td>1.250000</td>\n",
       "      <td>13953.000000</td>\n",
       "    </tr>\n",
       "    <tr>\n",
       "      <th>50%</th>\n",
       "      <td>3.000000</td>\n",
       "      <td>2.080000</td>\n",
       "      <td>15152.000000</td>\n",
       "    </tr>\n",
       "    <tr>\n",
       "      <th>75%</th>\n",
       "      <td>10.000000</td>\n",
       "      <td>4.130000</td>\n",
       "      <td>16791.000000</td>\n",
       "    </tr>\n",
       "    <tr>\n",
       "      <th>max</th>\n",
       "      <td>80995.000000</td>\n",
       "      <td>38970.000000</td>\n",
       "      <td>18287.000000</td>\n",
       "    </tr>\n",
       "  </tbody>\n",
       "</table>\n",
       "</div>"
      ],
      "text/plain": [
       "            Quantity      UnitPrice     CustomerID\n",
       "count  541909.000000  541909.000000  406829.000000\n",
       "mean        9.552250       4.611114   15287.690570\n",
       "std       218.081158      96.759853    1713.600303\n",
       "min    -80995.000000  -11062.060000   12346.000000\n",
       "25%         1.000000       1.250000   13953.000000\n",
       "50%         3.000000       2.080000   15152.000000\n",
       "75%        10.000000       4.130000   16791.000000\n",
       "max     80995.000000   38970.000000   18287.000000"
      ]
     },
     "execution_count": 4,
     "metadata": {},
     "output_type": "execute_result"
    }
   ],
   "source": [
    "retail.describe() #describe the dataframe"
   ]
  },
  {
   "cell_type": "code",
   "execution_count": 5,
   "metadata": {},
   "outputs": [
    {
     "data": {
      "text/plain": [
       "<matplotlib.collections.PathCollection at 0x113964f60>"
      ]
     },
     "execution_count": 5,
     "metadata": {},
     "output_type": "execute_result"
    },
    {
     "data": {
      "image/png": "[encoded data removed]",
      "text/plain": [
       "<matplotlib.figure.Figure at 0x116da5c18>"
      ]
     },
     "metadata": {},
     "output_type": "display_data"
    }
   ],
   "source": [
    "plt.scatter(retail.index, retail['UnitPrice']) #Plot the UnitPrice check for outliers"
   ]
  },
  {
   "cell_type": "code",
   "execution_count": 6,
   "metadata": {},
   "outputs": [
    {
     "data": {
      "text/plain": [
       "<matplotlib.collections.PathCollection at 0x113b09438>"
      ]
     },
     "execution_count": 6,
     "metadata": {},
     "output_type": "execute_result"
    },
    {
     "data": {
      "image/png": "[encoded data removed]",
      "text/plain": [
       "<matplotlib.figure.Figure at 0x113971ef0>"
      ]
     },
     "metadata": {},
     "output_type": "display_data"
    }
   ],
   "source": [
    "plt.scatter(retail.index, retail['Quantity']) #Plot the Quantity check for outliers"
   ]
  },
  {
   "cell_type": "code",
   "execution_count": 7,
   "metadata": {},
   "outputs": [
    {
     "data": {
      "text/plain": [
       "(406829, 8)"
      ]
     },
     "execution_count": 7,
     "metadata": {},
     "output_type": "execute_result"
    }
   ],
   "source": [
    "retail.dropna(inplace=True) #Drop all data that is empty\n",
    "retail.shape"
   ]
  },
  {
   "cell_type": "code",
   "execution_count": 8,
   "metadata": {},
   "outputs": [
    {
     "name": "stdout",
     "output_type": "stream",
     "text": [
      "(406828, 8)\n"
     ]
    },
    {
     "data": {
      "text/plain": [
       "<matplotlib.collections.PathCollection at 0x1161f8b00>"
      ]
     },
     "execution_count": 8,
     "metadata": {},
     "output_type": "execute_result"
    },
    {
     "data": {
      "image/png": "[encoded data removed]",
      "text/plain": [
       "<matplotlib.figure.Figure at 0x113b3c7f0>"
      ]
     },
     "metadata": {},
     "output_type": "display_data"
    }
   ],
   "source": [
    "#Restrict the UnitPrice to certain size to get rid of outliers and create better clusters\n",
    "retail = retail.drop(retail.index[retail['UnitPrice'] <= -10000])\n",
    "retail = retail.drop(retail.index[retail['UnitPrice'] > 10000])\n",
    "print(retail.shape)\n",
    "plt.scatter(retail.index, retail['UnitPrice'])"
   ]
  },
  {
   "cell_type": "code",
   "execution_count": 9,
   "metadata": {},
   "outputs": [
    {
     "name": "stdout",
     "output_type": "stream",
     "text": [
      "(406823, 8)\n"
     ]
    },
    {
     "data": {
      "text/plain": [
       "<matplotlib.collections.PathCollection at 0x1160cf860>"
      ]
     },
     "execution_count": 9,
     "metadata": {},
     "output_type": "execute_result"
    },
    {
     "data": {
      "image/png": "[encoded data removed]",
      "text/plain": [
       "<matplotlib.figure.Figure at 0x1161125f8>"
      ]
     },
     "metadata": {},
     "output_type": "display_data"
    }
   ],
   "source": [
    "#Restrict the Quantity to certain size to get rid of outliers and create better clusters\n",
    "retail = retail.drop(retail.index[retail['Quantity'] <= -10000])\n",
    "retail = retail.drop(retail.index[retail['Quantity']  > 10000])\n",
    "print(retail.shape)\n",
    "plt.scatter(retail.index, retail['Quantity'])"
   ]
  },
  {
   "cell_type": "code",
   "execution_count": 10,
   "metadata": {},
   "outputs": [
    {
     "data": {
      "text/html": [
       "<div>\n",
       "<style>\n",
       "    .dataframe thead tr:only-child th {\n",
       "        text-align: right;\n",
       "    }\n",
       "\n",
       "    .dataframe thead th {\n",
       "        text-align: left;\n",
       "    }\n",
       "\n",
       "    .dataframe tbody tr th {\n",
       "        vertical-align: top;\n",
       "    }\n",
       "</style>\n",
       "<table border=\"1\" class=\"dataframe\">\n",
       "  <thead>\n",
       "    <tr style=\"text-align: right;\">\n",
       "      <th></th>\n",
       "      <th>InvoiceNo</th>\n",
       "      <th>StockCode</th>\n",
       "      <th>Description</th>\n",
       "      <th>Quantity</th>\n",
       "      <th>InvoiceDate</th>\n",
       "      <th>UnitPrice</th>\n",
       "      <th>CustomerID</th>\n",
       "      <th>Country</th>\n",
       "    </tr>\n",
       "  </thead>\n",
       "  <tbody>\n",
       "    <tr>\n",
       "      <th>0</th>\n",
       "      <td>536365</td>\n",
       "      <td>85123A</td>\n",
       "      <td>WHITE HANGING HEART T-LIGHT HOLDER</td>\n",
       "      <td>6</td>\n",
       "      <td>2010-01-12 08:26:00</td>\n",
       "      <td>2.55</td>\n",
       "      <td>17850.0</td>\n",
       "      <td>United Kingdom</td>\n",
       "    </tr>\n",
       "    <tr>\n",
       "      <th>1</th>\n",
       "      <td>536365</td>\n",
       "      <td>71053</td>\n",
       "      <td>WHITE METAL LANTERN</td>\n",
       "      <td>6</td>\n",
       "      <td>2010-01-12 08:26:00</td>\n",
       "      <td>3.39</td>\n",
       "      <td>17850.0</td>\n",
       "      <td>United Kingdom</td>\n",
       "    </tr>\n",
       "    <tr>\n",
       "      <th>2</th>\n",
       "      <td>536365</td>\n",
       "      <td>84406B</td>\n",
       "      <td>CREAM CUPID HEARTS COAT HANGER</td>\n",
       "      <td>8</td>\n",
       "      <td>2010-01-12 08:26:00</td>\n",
       "      <td>2.75</td>\n",
       "      <td>17850.0</td>\n",
       "      <td>United Kingdom</td>\n",
       "    </tr>\n",
       "    <tr>\n",
       "      <th>3</th>\n",
       "      <td>536365</td>\n",
       "      <td>84029G</td>\n",
       "      <td>KNITTED UNION FLAG HOT WATER BOTTLE</td>\n",
       "      <td>6</td>\n",
       "      <td>2010-01-12 08:26:00</td>\n",
       "      <td>3.39</td>\n",
       "      <td>17850.0</td>\n",
       "      <td>United Kingdom</td>\n",
       "    </tr>\n",
       "    <tr>\n",
       "      <th>4</th>\n",
       "      <td>536365</td>\n",
       "      <td>84029E</td>\n",
       "      <td>RED WOOLLY HOTTIE WHITE HEART.</td>\n",
       "      <td>6</td>\n",
       "      <td>2010-01-12 08:26:00</td>\n",
       "      <td>3.39</td>\n",
       "      <td>17850.0</td>\n",
       "      <td>United Kingdom</td>\n",
       "    </tr>\n",
       "  </tbody>\n",
       "</table>\n",
       "</div>"
      ],
      "text/plain": [
       "  InvoiceNo StockCode                          Description  Quantity  \\\n",
       "0    536365    85123A   WHITE HANGING HEART T-LIGHT HOLDER         6   \n",
       "1    536365     71053                  WHITE METAL LANTERN         6   \n",
       "2    536365    84406B       CREAM CUPID HEARTS COAT HANGER         8   \n",
       "3    536365    84029G  KNITTED UNION FLAG HOT WATER BOTTLE         6   \n",
       "4    536365    84029E       RED WOOLLY HOTTIE WHITE HEART.         6   \n",
       "\n",
       "          InvoiceDate  UnitPrice  CustomerID         Country  \n",
       "0 2010-01-12 08:26:00       2.55     17850.0  United Kingdom  \n",
       "1 2010-01-12 08:26:00       3.39     17850.0  United Kingdom  \n",
       "2 2010-01-12 08:26:00       2.75     17850.0  United Kingdom  \n",
       "3 2010-01-12 08:26:00       3.39     17850.0  United Kingdom  \n",
       "4 2010-01-12 08:26:00       3.39     17850.0  United Kingdom  "
      ]
     },
     "execution_count": 10,
     "metadata": {},
     "output_type": "execute_result"
    }
   ],
   "source": [
    "#Change InvoiceDate into 'datetime' to help limit dataset\n",
    "retail['InvoiceDate'] = pd.to_datetime(retail['InvoiceDate'])\n",
    "retail.head()"
   ]
  },
  {
   "cell_type": "code",
   "execution_count": 11,
   "metadata": {},
   "outputs": [
    {
     "data": {
      "text/plain": [
       "(349800, 8)"
      ]
     },
     "execution_count": 11,
     "metadata": {},
     "output_type": "execute_result"
    }
   ],
   "source": [
    "#Limit dataframe to 1 year\n",
    "retail = retail[retail['InvoiceDate'] >= '2010-09-12']\n",
    "#Restrict the country to the UK\n",
    "retail = retail[retail['Country'] == 'United Kingdom']\n",
    "retail.shape"
   ]
  },
  {
   "cell_type": "code",
   "execution_count": 12,
   "metadata": {},
   "outputs": [
    {
     "data": {
      "text/html": [
       "<div>\n",
       "<style>\n",
       "    .dataframe thead tr:only-child th {\n",
       "        text-align: right;\n",
       "    }\n",
       "\n",
       "    .dataframe thead th {\n",
       "        text-align: left;\n",
       "    }\n",
       "\n",
       "    .dataframe tbody tr th {\n",
       "        vertical-align: top;\n",
       "    }\n",
       "</style>\n",
       "<table border=\"1\" class=\"dataframe\">\n",
       "  <thead>\n",
       "    <tr style=\"text-align: right;\">\n",
       "      <th></th>\n",
       "      <th>Quantity</th>\n",
       "      <th>UnitPrice</th>\n",
       "      <th>CustomerID</th>\n",
       "    </tr>\n",
       "  </thead>\n",
       "  <tbody>\n",
       "    <tr>\n",
       "      <th>count</th>\n",
       "      <td>349800.000000</td>\n",
       "      <td>349800.000000</td>\n",
       "      <td>349800.000000</td>\n",
       "    </tr>\n",
       "    <tr>\n",
       "      <th>mean</th>\n",
       "      <td>11.095117</td>\n",
       "      <td>3.148853</td>\n",
       "      <td>15539.145718</td>\n",
       "    </tr>\n",
       "    <tr>\n",
       "      <th>std</th>\n",
       "      <td>43.024138</td>\n",
       "      <td>28.678303</td>\n",
       "      <td>1591.325859</td>\n",
       "    </tr>\n",
       "    <tr>\n",
       "      <th>min</th>\n",
       "      <td>-3114.000000</td>\n",
       "      <td>0.000000</td>\n",
       "      <td>12747.000000</td>\n",
       "    </tr>\n",
       "    <tr>\n",
       "      <th>25%</th>\n",
       "      <td>2.000000</td>\n",
       "      <td>1.250000</td>\n",
       "      <td>14189.000000</td>\n",
       "    </tr>\n",
       "    <tr>\n",
       "      <th>50%</th>\n",
       "      <td>4.000000</td>\n",
       "      <td>1.950000</td>\n",
       "      <td>15505.000000</td>\n",
       "    </tr>\n",
       "    <tr>\n",
       "      <th>75%</th>\n",
       "      <td>12.000000</td>\n",
       "      <td>3.750000</td>\n",
       "      <td>16923.000000</td>\n",
       "    </tr>\n",
       "    <tr>\n",
       "      <th>max</th>\n",
       "      <td>4800.000000</td>\n",
       "      <td>8142.750000</td>\n",
       "      <td>18287.000000</td>\n",
       "    </tr>\n",
       "  </tbody>\n",
       "</table>\n",
       "</div>"
      ],
      "text/plain": [
       "            Quantity      UnitPrice     CustomerID\n",
       "count  349800.000000  349800.000000  349800.000000\n",
       "mean       11.095117       3.148853   15539.145718\n",
       "std        43.024138      28.678303    1591.325859\n",
       "min     -3114.000000       0.000000   12747.000000\n",
       "25%         2.000000       1.250000   14189.000000\n",
       "50%         4.000000       1.950000   15505.000000\n",
       "75%        12.000000       3.750000   16923.000000\n",
       "max      4800.000000    8142.750000   18287.000000"
      ]
     },
     "execution_count": 12,
     "metadata": {},
     "output_type": "execute_result"
    }
   ],
   "source": [
    "retail.describe() #Check how the data looks now"
   ]
  },
  {
   "cell_type": "code",
   "execution_count": 13,
   "metadata": {},
   "outputs": [
    {
     "name": "stdout",
     "output_type": "stream",
     "text": [
      "Sales (342475, 9)\n",
      "Returns (7325, 9)\n"
     ]
    }
   ],
   "source": [
    "# add a column 'value' for the value of each transaction\n",
    "retail = retail.assign(value=retail.Quantity * retail.UnitPrice)\n",
    "\n",
    "# split into returns and sales, returns have a quantity less than zero\n",
    "returns = retail.loc[retail.Quantity<=0]\n",
    "sales = retail.loc[retail.Quantity>0]\n",
    "print(\"Sales\", sales.shape)\n",
    "print(\"Returns\", returns.shape)"
   ]
  },
  {
   "cell_type": "markdown",
   "metadata": {},
   "source": [
    "## Adding Columns\n",
    "\n",
    "This next step turns the data into a dataframe with customers as the index and aggregates the numerical columns using the mean.  So we get the mean quantity, price and value of transactions for this customer.  I also add a count of the number of transactions per customer. \n",
    "\n",
    "You should experiment with the groupby and aggregate methods, they're very useful."
   ]
  },
  {
   "cell_type": "code",
   "execution_count": 14,
   "metadata": {},
   "outputs": [
    {
     "data": {
      "text/html": [
       "<div>\n",
       "<style>\n",
       "    .dataframe thead tr:only-child th {\n",
       "        text-align: right;\n",
       "    }\n",
       "\n",
       "    .dataframe thead th {\n",
       "        text-align: left;\n",
       "    }\n",
       "\n",
       "    .dataframe tbody tr th {\n",
       "        vertical-align: top;\n",
       "    }\n",
       "</style>\n",
       "<table border=\"1\" class=\"dataframe\">\n",
       "  <thead>\n",
       "    <tr style=\"text-align: right;\">\n",
       "      <th></th>\n",
       "      <th>Quantity</th>\n",
       "      <th>UnitPrice</th>\n",
       "      <th>value</th>\n",
       "      <th>count</th>\n",
       "    </tr>\n",
       "    <tr>\n",
       "      <th>CustomerID</th>\n",
       "      <th></th>\n",
       "      <th></th>\n",
       "      <th></th>\n",
       "      <th></th>\n",
       "    </tr>\n",
       "  </thead>\n",
       "  <tbody>\n",
       "    <tr>\n",
       "      <th>12747.0</th>\n",
       "      <td>12.156250</td>\n",
       "      <td>4.466250</td>\n",
       "      <td>39.973438</td>\n",
       "      <td>96</td>\n",
       "    </tr>\n",
       "    <tr>\n",
       "      <th>12748.0</th>\n",
       "      <td>5.773736</td>\n",
       "      <td>2.701308</td>\n",
       "      <td>7.523519</td>\n",
       "      <td>4234</td>\n",
       "    </tr>\n",
       "    <tr>\n",
       "      <th>12749.0</th>\n",
       "      <td>7.391960</td>\n",
       "      <td>4.999950</td>\n",
       "      <td>20.557186</td>\n",
       "      <td>199</td>\n",
       "    </tr>\n",
       "    <tr>\n",
       "      <th>12820.0</th>\n",
       "      <td>12.237288</td>\n",
       "      <td>1.904746</td>\n",
       "      <td>15.971864</td>\n",
       "      <td>59</td>\n",
       "    </tr>\n",
       "    <tr>\n",
       "      <th>12821.0</th>\n",
       "      <td>11.666667</td>\n",
       "      <td>2.498333</td>\n",
       "      <td>15.453333</td>\n",
       "      <td>6</td>\n",
       "    </tr>\n",
       "  </tbody>\n",
       "</table>\n",
       "</div>"
      ],
      "text/plain": [
       "             Quantity  UnitPrice      value  count\n",
       "CustomerID                                        \n",
       "12747.0     12.156250   4.466250  39.973438     96\n",
       "12748.0      5.773736   2.701308   7.523519   4234\n",
       "12749.0      7.391960   4.999950  20.557186    199\n",
       "12820.0     12.237288   1.904746  15.971864     59\n",
       "12821.0     11.666667   2.498333  15.453333      6"
      ]
     },
     "execution_count": 14,
     "metadata": {},
     "output_type": "execute_result"
    }
   ],
   "source": [
    "sales_grouped = sales[['CustomerID', 'Quantity', 'UnitPrice', 'value']].groupby('CustomerID').aggregate(np.mean)\n",
    "\n",
    "# add a count of the number of invoices (== frequency in referenced analysis)\n",
    "counts = sales.groupby('CustomerID').size().to_frame(name='count')\n",
    "sales_grouped = sales_grouped.join(counts)\n",
    "\n",
    "sales_grouped.head()"
   ]
  },
  {
   "cell_type": "markdown",
   "metadata": {},
   "source": [
    "This next step computes the time from each invoice date to the most recent invoice date and converts it to days. The following step then aggregates this per customer using *max* to get the most recent invoice per customer.  This is then added to the *sales_grouped* dataframe. "
   ]
  },
  {
   "cell_type": "code",
   "execution_count": 15,
   "metadata": {
    "collapsed": true
   },
   "outputs": [],
   "source": [
    "# add recency of purchases\n",
    "# this takes some time to compute\n",
    "#Flipped the two values around so I would have positive values for recency for the log\n",
    "recency = pd.to_datetime(\"2011-12-10\") - pd.to_datetime(sales.InvoiceDate)\n",
    "# get just the number of days so that we can use this value in clustering\n",
    "recency = recency.apply(lambda x: x.days)"
   ]
  },
  {
   "cell_type": "code",
   "execution_count": 16,
   "metadata": {},
   "outputs": [
    {
     "data": {
      "text/html": [
       "<div>\n",
       "<style>\n",
       "    .dataframe thead tr:only-child th {\n",
       "        text-align: right;\n",
       "    }\n",
       "\n",
       "    .dataframe thead th {\n",
       "        text-align: left;\n",
       "    }\n",
       "\n",
       "    .dataframe tbody tr th {\n",
       "        vertical-align: top;\n",
       "    }\n",
       "</style>\n",
       "<table border=\"1\" class=\"dataframe\">\n",
       "  <thead>\n",
       "    <tr style=\"text-align: right;\">\n",
       "      <th></th>\n",
       "      <th>Quantity</th>\n",
       "      <th>UnitPrice</th>\n",
       "      <th>value</th>\n",
       "      <th>count</th>\n",
       "      <th>recency</th>\n",
       "    </tr>\n",
       "    <tr>\n",
       "      <th>CustomerID</th>\n",
       "      <th></th>\n",
       "      <th></th>\n",
       "      <th></th>\n",
       "      <th></th>\n",
       "      <th></th>\n",
       "    </tr>\n",
       "  </thead>\n",
       "  <tbody>\n",
       "    <tr>\n",
       "      <th>12747.0</th>\n",
       "      <td>12.156250</td>\n",
       "      <td>4.466250</td>\n",
       "      <td>39.973438</td>\n",
       "      <td>96</td>\n",
       "      <td>361</td>\n",
       "    </tr>\n",
       "    <tr>\n",
       "      <th>12748.0</th>\n",
       "      <td>5.773736</td>\n",
       "      <td>2.701308</td>\n",
       "      <td>7.523519</td>\n",
       "      <td>4234</td>\n",
       "      <td>453</td>\n",
       "    </tr>\n",
       "    <tr>\n",
       "      <th>12749.0</th>\n",
       "      <td>7.391960</td>\n",
       "      <td>4.999950</td>\n",
       "      <td>20.557186</td>\n",
       "      <td>199</td>\n",
       "      <td>335</td>\n",
       "    </tr>\n",
       "    <tr>\n",
       "      <th>12820.0</th>\n",
       "      <td>12.237288</td>\n",
       "      <td>1.904746</td>\n",
       "      <td>15.971864</td>\n",
       "      <td>59</td>\n",
       "      <td>326</td>\n",
       "    </tr>\n",
       "    <tr>\n",
       "      <th>12821.0</th>\n",
       "      <td>11.666667</td>\n",
       "      <td>2.498333</td>\n",
       "      <td>15.453333</td>\n",
       "      <td>6</td>\n",
       "      <td>95</td>\n",
       "    </tr>\n",
       "  </tbody>\n",
       "</table>\n",
       "</div>"
      ],
      "text/plain": [
       "             Quantity  UnitPrice      value  count  recency\n",
       "CustomerID                                                 \n",
       "12747.0     12.156250   4.466250  39.973438     96      361\n",
       "12748.0      5.773736   2.701308   7.523519   4234      453\n",
       "12749.0      7.391960   4.999950  20.557186    199      335\n",
       "12820.0     12.237288   1.904746  15.971864     59      326\n",
       "12821.0     11.666667   2.498333  15.453333      6       95"
      ]
     },
     "execution_count": 16,
     "metadata": {},
     "output_type": "execute_result"
    }
   ],
   "source": [
    "# turn recency into a dataframe with the customerID column from sales\n",
    "recency_df = sales[['CustomerID']].assign(recency=recency)\n",
    "# aggregate recency using max to get the most recent sale per customer\n",
    "grp = recency_df[['CustomerID', 'recency']].groupby('CustomerID').aggregate(np.max)\n",
    "\n",
    "# customers is our final dataframe of customer data \n",
    "customers = sales_grouped.join(grp)\n",
    "customers.head()"
   ]
  },
  {
   "cell_type": "markdown",
   "metadata": {},
   "source": [
    "## Your Analysis\n",
    "\n",
    "You now have a data frame of customer data with various columns computed from the original data.  Your task now is to find meaningful clusters in this data to give to the marketing team.  \n",
    "\n",
    "- select a clustering algorithm and it's parameters, justify your choice\n",
    "- cluster the data, evaluate the number of clusters\n",
    "- visualise your results in one or more ways\n",
    "- provide an interpretation of the resulting clusters - are there clusters that might be of interest to marketing? What characterises these customers? "
   ]
  },
  {
   "cell_type": "markdown",
   "metadata": {},
   "source": [
    "Before doing the clustering, I went through and checked customers and the new columns for outliers that i should remove that would effect the clustering, as we would see all the data in one cluster with one or two others by themeselves in another.\n",
    "\n",
    "Also normalised the data with a logarithm, I had to swap around the recency values so that it would work with recency as well.\n",
    "\n",
    "Will put both through a clustering techniques to see any difference."
   ]
  },
  {
   "cell_type": "code",
   "execution_count": 17,
   "metadata": {},
   "outputs": [
    {
     "name": "stdout",
     "output_type": "stream",
     "text": [
      "(3861, 5)\n"
     ]
    },
    {
     "data": {
      "text/html": [
       "<div>\n",
       "<style>\n",
       "    .dataframe thead tr:only-child th {\n",
       "        text-align: right;\n",
       "    }\n",
       "\n",
       "    .dataframe thead th {\n",
       "        text-align: left;\n",
       "    }\n",
       "\n",
       "    .dataframe tbody tr th {\n",
       "        vertical-align: top;\n",
       "    }\n",
       "</style>\n",
       "<table border=\"1\" class=\"dataframe\">\n",
       "  <thead>\n",
       "    <tr style=\"text-align: right;\">\n",
       "      <th></th>\n",
       "      <th>Quantity</th>\n",
       "      <th>UnitPrice</th>\n",
       "      <th>value</th>\n",
       "      <th>count</th>\n",
       "      <th>recency</th>\n",
       "    </tr>\n",
       "    <tr>\n",
       "      <th>CustomerID</th>\n",
       "      <th></th>\n",
       "      <th></th>\n",
       "      <th></th>\n",
       "      <th></th>\n",
       "      <th></th>\n",
       "    </tr>\n",
       "  </thead>\n",
       "  <tbody>\n",
       "    <tr>\n",
       "      <th>12747.0</th>\n",
       "      <td>12.156250</td>\n",
       "      <td>4.466250</td>\n",
       "      <td>39.973438</td>\n",
       "      <td>96</td>\n",
       "      <td>361</td>\n",
       "    </tr>\n",
       "    <tr>\n",
       "      <th>12748.0</th>\n",
       "      <td>5.773736</td>\n",
       "      <td>2.701308</td>\n",
       "      <td>7.523519</td>\n",
       "      <td>4234</td>\n",
       "      <td>453</td>\n",
       "    </tr>\n",
       "    <tr>\n",
       "      <th>12749.0</th>\n",
       "      <td>7.391960</td>\n",
       "      <td>4.999950</td>\n",
       "      <td>20.557186</td>\n",
       "      <td>199</td>\n",
       "      <td>335</td>\n",
       "    </tr>\n",
       "    <tr>\n",
       "      <th>12820.0</th>\n",
       "      <td>12.237288</td>\n",
       "      <td>1.904746</td>\n",
       "      <td>15.971864</td>\n",
       "      <td>59</td>\n",
       "      <td>326</td>\n",
       "    </tr>\n",
       "    <tr>\n",
       "      <th>12821.0</th>\n",
       "      <td>11.666667</td>\n",
       "      <td>2.498333</td>\n",
       "      <td>15.453333</td>\n",
       "      <td>6</td>\n",
       "      <td>95</td>\n",
       "    </tr>\n",
       "  </tbody>\n",
       "</table>\n",
       "</div>"
      ],
      "text/plain": [
       "             Quantity  UnitPrice      value  count  recency\n",
       "CustomerID                                                 \n",
       "12747.0     12.156250   4.466250  39.973438     96      361\n",
       "12748.0      5.773736   2.701308   7.523519   4234      453\n",
       "12749.0      7.391960   4.999950  20.557186    199      335\n",
       "12820.0     12.237288   1.904746  15.971864     59      326\n",
       "12821.0     11.666667   2.498333  15.453333      6       95"
      ]
     },
     "execution_count": 17,
     "metadata": {},
     "output_type": "execute_result"
    }
   ],
   "source": [
    "#Check the shape and head of customers\n",
    "print(customers.shape)\n",
    "customers.head()"
   ]
  },
  {
   "cell_type": "code",
   "execution_count": 18,
   "metadata": {
    "scrolled": true
   },
   "outputs": [
    {
     "data": {
      "text/plain": [
       "<matplotlib.collections.PathCollection at 0x11eb209e8>"
      ]
     },
     "execution_count": 18,
     "metadata": {},
     "output_type": "execute_result"
    },
    {
     "data": {
      "image/png": "[encoded data removed]",
      "text/plain": [
       "<matplotlib.figure.Figure at 0x113a5ccc0>"
      ]
     },
     "metadata": {},
     "output_type": "display_data"
    }
   ],
   "source": [
    "#Check for outliers in value\n",
    "plt.scatter(customers.index, customers['value'])"
   ]
  },
  {
   "cell_type": "code",
   "execution_count": 19,
   "metadata": {
    "scrolled": false
   },
   "outputs": [
    {
     "name": "stdout",
     "output_type": "stream",
     "text": [
      "(3860, 5)\n"
     ]
    },
    {
     "data": {
      "text/plain": [
       "<matplotlib.collections.PathCollection at 0x128949518>"
      ]
     },
     "execution_count": 19,
     "metadata": {},
     "output_type": "execute_result"
    },
    {
     "data": {
      "image/png": "[encoded data removed]",
      "text/plain": [
       "<matplotlib.figure.Figure at 0x11eb2fd30>"
      ]
     },
     "metadata": {},
     "output_type": "display_data"
    }
   ],
   "source": [
    "#Remove outliers from value\n",
    "customers = customers.drop(customers.index[customers['value'] > 10000]) \n",
    "print(customers.shape)\n",
    "#Check that data looks better\n",
    "plt.scatter(customers.index, customers['value'])"
   ]
  },
  {
   "cell_type": "code",
   "execution_count": 20,
   "metadata": {},
   "outputs": [
    {
     "data": {
      "text/plain": [
       "<matplotlib.collections.PathCollection at 0x1288caef0>"
      ]
     },
     "execution_count": 20,
     "metadata": {},
     "output_type": "execute_result"
    },
    {
     "data": {
      "image/png": "[encoded data removed]",
      "text/plain": [
       "<matplotlib.figure.Figure at 0x11eb51390>"
      ]
     },
     "metadata": {},
     "output_type": "display_data"
    }
   ],
   "source": [
    "#Check for outliers in recency\n",
    "plt.scatter(customers.index, customers['recency'])"
   ]
  },
  {
   "cell_type": "code",
   "execution_count": 21,
   "metadata": {},
   "outputs": [
    {
     "name": "stderr",
     "output_type": "stream",
     "text": [
      "/anaconda/lib/python3.6/site-packages/ipykernel_launcher.py:1: RuntimeWarning: divide by zero encountered in log10\n",
      "  \"\"\"Entry point for launching an IPython kernel.\n",
      "/anaconda/lib/python3.6/site-packages/ipykernel_launcher.py:1: RuntimeWarning: invalid value encountered in log10\n",
      "  \"\"\"Entry point for launching an IPython kernel.\n"
     ]
    },
    {
     "data": {
      "text/html": [
       "<div>\n",
       "<style>\n",
       "    .dataframe thead tr:only-child th {\n",
       "        text-align: right;\n",
       "    }\n",
       "\n",
       "    .dataframe thead th {\n",
       "        text-align: left;\n",
       "    }\n",
       "\n",
       "    .dataframe tbody tr th {\n",
       "        vertical-align: top;\n",
       "    }\n",
       "</style>\n",
       "<table border=\"1\" class=\"dataframe\">\n",
       "  <thead>\n",
       "    <tr style=\"text-align: right;\">\n",
       "      <th></th>\n",
       "      <th>Quantity</th>\n",
       "      <th>UnitPrice</th>\n",
       "      <th>value</th>\n",
       "      <th>count</th>\n",
       "      <th>recency</th>\n",
       "    </tr>\n",
       "    <tr>\n",
       "      <th>CustomerID</th>\n",
       "      <th></th>\n",
       "      <th></th>\n",
       "      <th></th>\n",
       "      <th></th>\n",
       "      <th></th>\n",
       "    </tr>\n",
       "  </thead>\n",
       "  <tbody>\n",
       "    <tr>\n",
       "      <th>12747.0</th>\n",
       "      <td>1.084800</td>\n",
       "      <td>0.649943</td>\n",
       "      <td>1.601771</td>\n",
       "      <td>1.982271</td>\n",
       "      <td>2.557507</td>\n",
       "    </tr>\n",
       "    <tr>\n",
       "      <th>12748.0</th>\n",
       "      <td>0.761457</td>\n",
       "      <td>0.431574</td>\n",
       "      <td>0.876421</td>\n",
       "      <td>3.626751</td>\n",
       "      <td>2.656098</td>\n",
       "    </tr>\n",
       "    <tr>\n",
       "      <th>12749.0</th>\n",
       "      <td>0.868760</td>\n",
       "      <td>0.698966</td>\n",
       "      <td>1.312964</td>\n",
       "      <td>2.298853</td>\n",
       "      <td>2.525045</td>\n",
       "    </tr>\n",
       "    <tr>\n",
       "      <th>12820.0</th>\n",
       "      <td>1.087685</td>\n",
       "      <td>0.279837</td>\n",
       "      <td>1.203356</td>\n",
       "      <td>1.770852</td>\n",
       "      <td>2.513218</td>\n",
       "    </tr>\n",
       "    <tr>\n",
       "      <th>12821.0</th>\n",
       "      <td>1.066947</td>\n",
       "      <td>0.397650</td>\n",
       "      <td>1.189022</td>\n",
       "      <td>0.778151</td>\n",
       "      <td>1.977724</td>\n",
       "    </tr>\n",
       "  </tbody>\n",
       "</table>\n",
       "</div>"
      ],
      "text/plain": [
       "            Quantity  UnitPrice     value     count   recency\n",
       "CustomerID                                                   \n",
       "12747.0     1.084800   0.649943  1.601771  1.982271  2.557507\n",
       "12748.0     0.761457   0.431574  0.876421  3.626751  2.656098\n",
       "12749.0     0.868760   0.698966  1.312964  2.298853  2.525045\n",
       "12820.0     1.087685   0.279837  1.203356  1.770852  2.513218\n",
       "12821.0     1.066947   0.397650  1.189022  0.778151  1.977724"
      ]
     },
     "execution_count": 21,
     "metadata": {},
     "output_type": "execute_result"
    }
   ],
   "source": [
    "#Run a log on the data to normalise\n",
    "customersLog = np.log10(customers)\n",
    "#Remove all empty and invalid values\n",
    "customersLog.replace([np.inf, -np.inf], np.nan)\n",
    "customersLog.dropna(inplace=True)\n",
    "customersLog = customersLog[~customersLog.isin([np.nan, np.inf, -np.inf]).any(1)]\n",
    "customersLog.head()"
   ]
  },
  {
   "cell_type": "code",
   "execution_count": 22,
   "metadata": {},
   "outputs": [
    {
     "data": {
      "text/html": [
       "<div>\n",
       "<style>\n",
       "    .dataframe thead tr:only-child th {\n",
       "        text-align: right;\n",
       "    }\n",
       "\n",
       "    .dataframe thead th {\n",
       "        text-align: left;\n",
       "    }\n",
       "\n",
       "    .dataframe tbody tr th {\n",
       "        vertical-align: top;\n",
       "    }\n",
       "</style>\n",
       "<table border=\"1\" class=\"dataframe\">\n",
       "  <thead>\n",
       "    <tr style=\"text-align: right;\">\n",
       "      <th></th>\n",
       "      <th>Quantity</th>\n",
       "      <th>UnitPrice</th>\n",
       "      <th>value</th>\n",
       "      <th>count</th>\n",
       "      <th>recency</th>\n",
       "    </tr>\n",
       "  </thead>\n",
       "  <tbody>\n",
       "    <tr>\n",
       "      <th>count</th>\n",
       "      <td>3850.000000</td>\n",
       "      <td>3850.000000</td>\n",
       "      <td>3850.000000</td>\n",
       "      <td>3850.000000</td>\n",
       "      <td>3850.000000</td>\n",
       "    </tr>\n",
       "    <tr>\n",
       "      <th>mean</th>\n",
       "      <td>0.988472</td>\n",
       "      <td>0.455038</td>\n",
       "      <td>1.247740</td>\n",
       "      <td>1.587715</td>\n",
       "      <td>2.258755</td>\n",
       "    </tr>\n",
       "    <tr>\n",
       "      <th>std</th>\n",
       "      <td>0.409100</td>\n",
       "      <td>0.240517</td>\n",
       "      <td>0.387450</td>\n",
       "      <td>0.575699</td>\n",
       "      <td>0.360557</td>\n",
       "    </tr>\n",
       "    <tr>\n",
       "      <th>min</th>\n",
       "      <td>0.000000</td>\n",
       "      <td>-0.911864</td>\n",
       "      <td>0.161368</td>\n",
       "      <td>0.000000</td>\n",
       "      <td>0.000000</td>\n",
       "    </tr>\n",
       "    <tr>\n",
       "      <th>25%</th>\n",
       "      <td>0.744493</td>\n",
       "      <td>0.330673</td>\n",
       "      <td>1.044238</td>\n",
       "      <td>1.230449</td>\n",
       "      <td>2.161368</td>\n",
       "    </tr>\n",
       "    <tr>\n",
       "      <th>50%</th>\n",
       "      <td>0.992639</td>\n",
       "      <td>0.452960</td>\n",
       "      <td>1.237724</td>\n",
       "      <td>1.602060</td>\n",
       "      <td>2.397940</td>\n",
       "    </tr>\n",
       "    <tr>\n",
       "      <th>75%</th>\n",
       "      <td>1.166331</td>\n",
       "      <td>0.571627</td>\n",
       "      <td>1.386658</td>\n",
       "      <td>1.991226</td>\n",
       "      <td>2.502427</td>\n",
       "    </tr>\n",
       "    <tr>\n",
       "      <th>max</th>\n",
       "      <td>3.633468</td>\n",
       "      <td>3.308159</td>\n",
       "      <td>3.648695</td>\n",
       "      <td>3.886885</td>\n",
       "      <td>2.656098</td>\n",
       "    </tr>\n",
       "  </tbody>\n",
       "</table>\n",
       "</div>"
      ],
      "text/plain": [
       "          Quantity    UnitPrice        value        count      recency\n",
       "count  3850.000000  3850.000000  3850.000000  3850.000000  3850.000000\n",
       "mean      0.988472     0.455038     1.247740     1.587715     2.258755\n",
       "std       0.409100     0.240517     0.387450     0.575699     0.360557\n",
       "min       0.000000    -0.911864     0.161368     0.000000     0.000000\n",
       "25%       0.744493     0.330673     1.044238     1.230449     2.161368\n",
       "50%       0.992639     0.452960     1.237724     1.602060     2.397940\n",
       "75%       1.166331     0.571627     1.386658     1.991226     2.502427\n",
       "max       3.633468     3.308159     3.648695     3.886885     2.656098"
      ]
     },
     "execution_count": 22,
     "metadata": {},
     "output_type": "execute_result"
    }
   ],
   "source": [
    "customersLog.describe()"
   ]
  },
  {
   "cell_type": "code",
   "execution_count": 23,
   "metadata": {},
   "outputs": [
    {
     "data": {
      "text/plain": [
       "<matplotlib.collections.PathCollection at 0x107d723c8>"
      ]
     },
     "execution_count": 23,
     "metadata": {},
     "output_type": "execute_result"
    },
    {
     "data": {
      "image/png": "[encoded data removed]",
      "text/plain": [
       "<matplotlib.figure.Figure at 0x128951b38>"
      ]
     },
     "metadata": {},
     "output_type": "display_data"
    }
   ],
   "source": [
    "#Look at the plots of the normalised data\n",
    "plt.scatter(customersLog.index, customersLog['value'])"
   ]
  },
  {
   "cell_type": "code",
   "execution_count": 24,
   "metadata": {},
   "outputs": [
    {
     "data": {
      "text/plain": [
       "<matplotlib.collections.PathCollection at 0x11341b128>"
      ]
     },
     "execution_count": 24,
     "metadata": {},
     "output_type": "execute_result"
    },
    {
     "data": {
      "image/png": "[encoded data removed]",
      "text/plain": [
       "<matplotlib.figure.Figure at 0x107d8f400>"
      ]
     },
     "metadata": {},
     "output_type": "display_data"
    }
   ],
   "source": [
    "plt.scatter(customersLog.index, customersLog['recency'])"
   ]
  },
  {
   "cell_type": "markdown",
   "metadata": {},
   "source": [
    "Put both the normalised and non-normalised through a kmeans cluster. I used k means clustering as i thought it was a best way to get an accurate output of different clusters.  I had previously tried other numbers of clusters for both but settled that 3 clusters was the best and gave an accurate representation of the data. after looking at the amount of points in each cluster."
   ]
  },
  {
   "cell_type": "code",
   "execution_count": 25,
   "metadata": {
    "scrolled": true
   },
   "outputs": [
    {
     "name": "stdout",
     "output_type": "stream",
     "text": [
      "Cluster 0: \n",
      "[12747.0, 12749.0, 12820.0, 12821.0, 12822.0, 12823.0, 12824.0, 12826.0, 12827.0, 12828.0, 12829.0, 12830.0, 12831.0, 12832.0, 12833.0, 12834.0, 12836.0, 12837.0, 12838.0, 12839.0, 12840.0, 12841.0, 12842.0, 12843.0, 12844.0, 12845.0, 12847.0, 12849.0, 12851.0, 12852.0, 12853.0, 12854.0, 12856.0, 12857.0, 12863.0, 12864.0, 12867.0, 12868.0, 12871.0, 12872.0, 12873.0, 12875.0, 12877.0, 12878.0, 12879.0, 12881.0, 12882.0, 12883.0, 12884.0, 12885.0, 12886.0, 12888.0, 12890.0, 12891.0, 12893.0, 12895.0, 12897.0, 12901.0, 12902.0, 12904.0, 12906.0, 12908.0, 12909.0, 12910.0, 12912.0, 12913.0, 12915.0, 12916.0, 12917.0, 12919.0, 12920.0, 12921.0, 12922.0, 12923.0, 12924.0, 12925.0, 12928.0, 12929.0, 12930.0, 12931.0, 12933.0, 12935.0, 12936.0, 12937.0, 12938.0, 12939.0, 12940.0, 12942.0, 12944.0, 12945.0, 12947.0, 12948.0, 12949.0, 12950.0, 12951.0, 12952.0, 12953.0, 12955.0, 12956.0, 12957.0, 12962.0, 12963.0, 12965.0, 12966.0, 12967.0, 12968.0, 12970.0, 12971.0, 12974.0, 12976.0, 12977.0, 12980.0, 12981.0, 12982.0, 12984.0, 12985.0, 12987.0, 12988.0, 12989.0, 12990.0, 12991.0, 12993.0, 12994.0, 12995.0, 12997.0, 12999.0, 13000.0, 13001.0, 13002.0, 13003.0, 13004.0, 13005.0, 13006.0, 13008.0, 13012.0, 13013.0, 13014.0, 13015.0, 13016.0, 13017.0, 13018.0, 13021.0, 13023.0, 13026.0, 13027.0, 13028.0, 13029.0, 13030.0, 13032.0, 13033.0, 13034.0, 13035.0, 13037.0, 13038.0, 13040.0, 13043.0, 13044.0, 13045.0, 13046.0, 13047.0, 13048.0, 13049.0, 13050.0, 13052.0, 13055.0, 13058.0, 13059.0, 13060.0, 13061.0, 13062.0, 13064.0, 13066.0, 13067.0, 13068.0, 13069.0, 13070.0, 13072.0, 13075.0, 13077.0, 13078.0, 13079.0, 13080.0, 13081.0, 13082.0, 13083.0, 13085.0, 13089.0, 13090.0, 13091.0, 13092.0, 13093.0, 13094.0, 13095.0, 13097.0, 13098.0, 13099.0, 13101.0, 13102.0, 13103.0, 13104.0, 13106.0, 13107.0, 13109.0, 13110.0, 13113.0, 13115.0, 13116.0, 13117.0, 13118.0, 13120.0, 13121.0, 13122.0, 13124.0, 13126.0, 13127.0, 13130.0, 13131.0, 13132.0, 13133.0, 13134.0, 13136.0, 13137.0, 13138.0, 13139.0, 13140.0, 13141.0, 13142.0, 13144.0, 13145.0, 13146.0, 13147.0, 13148.0, 13149.0, 13151.0, 13153.0, 13155.0, 13157.0, 13158.0, 13159.0, 13160.0, 13161.0, 13162.0, 13165.0, 13166.0, 13167.0, 13168.0, 13169.0, 13170.0, 13171.0, 13173.0, 13174.0, 13176.0, 13177.0, 13178.0, 13182.0, 13183.0, 13184.0, 13185.0, 13186.0, 13187.0, 13188.0, 13189.0, 13192.0, 13193.0, 13194.0, 13196.0, 13198.0, 13199.0, 13200.0, 13203.0, 13207.0, 13208.0, 13209.0, 13210.0, 13211.0, 13212.0, 13213.0, 13216.0, 13217.0, 13218.0, 13220.0, 13221.0, 13223.0, 13224.0, 13225.0, 13226.0, 13227.0, 13228.0, 13229.0, 13230.0, 13232.0, 13233.0, 13235.0, 13236.0, 13238.0, 13239.0, 13240.0, 13242.0, 13243.0, 13244.0, 13245.0, 13246.0, 13247.0, 13248.0, 13249.0, 13253.0, 13255.0, 13258.0, 13259.0, 13260.0, 13261.0, 13262.0, 13263.0, 13265.0, 13266.0, 13267.0, 13268.0, 13269.0, 13271.0, 13272.0, 13273.0, 13276.0, 13277.0, 13278.0, 13279.0, 13280.0, 13282.0, 13283.0, 13284.0, 13285.0, 13291.0, 13292.0, 13294.0, 13295.0, 13296.0, 13297.0, 13298.0, 13299.0, 13300.0, 13301.0, 13302.0, 13304.0, 13305.0, 13307.0, 13308.0, 13309.0, 13310.0, 13311.0, 13313.0, 13314.0, 13316.0, 13317.0, 13318.0, 13319.0, 13320.0, 13321.0, 13322.0, 13323.0, 13324.0, 13325.0, 13327.0, 13328.0, 13329.0, 13330.0, 13332.0, 13334.0, 13336.0, 13338.0, 13339.0, 13340.0, 13341.0, 13343.0, 13344.0, 13345.0, 13347.0, 13348.0, 13349.0, 13350.0, 13351.0, 13352.0, 13354.0, 13355.0, 13356.0, 13357.0, 13358.0, 13359.0, 13362.0, 13363.0, 13364.0, 13365.0, 13366.0, 13368.0, 13369.0, 13372.0, 13373.0, 13375.0, 13376.0, 13379.0, 13381.0, 13382.0, 13384.0, 13385.0, 13388.0, 13389.0, 13390.0, 13391.0, 13394.0, 13395.0, 13396.0, 13397.0, 13398.0, 13402.0, 13403.0, 13404.0, 13405.0, 13408.0, 13410.0, 13411.0, 13414.0, 13416.0, 13417.0, 13418.0, 13419.0, 13420.0, 13421.0, 13422.0, 13425.0, 13426.0, 13427.0, 13428.0, 13429.0, 13430.0, 13431.0, 13434.0, 13435.0, 13436.0, 13437.0, 13439.0, 13441.0, 13447.0, 13448.0, 13449.0, 13450.0, 13451.0, 13452.0, 13453.0, 13455.0, 13456.0, 13458.0, 13460.0, 13461.0, 13462.0, 13464.0, 13466.0, 13467.0, 13468.0, 13470.0, 13471.0, 13473.0, 13474.0, 13475.0, 13476.0, 13477.0, 13479.0, 13481.0, 13482.0, 13483.0, 13484.0, 13485.0, 13486.0, 13487.0, 13488.0, 13489.0, 13491.0, 13494.0, 13495.0, 13496.0, 13497.0, 13499.0, 13500.0, 13502.0, 13503.0, 13504.0, 13506.0, 13507.0, 13508.0, 13509.0, 13510.0, 13512.0, 13513.0, 13514.0, 13515.0, 13516.0, 13517.0, 13518.0, 13519.0, 13521.0, 13522.0, 13523.0, 13524.0, 13525.0, 13527.0, 13529.0, 13531.0, 13532.0, 13533.0, 13534.0, 13536.0, 13538.0, 13539.0, 13544.0, 13546.0, 13548.0, 13549.0, 13551.0, 13552.0, 13555.0, 13557.0, 13558.0, 13560.0, 13561.0, 13562.0, 13563.0, 13564.0, 13565.0, 13566.0, 13568.0, 13569.0, 13570.0, 13571.0, 13572.0, 13573.0, 13575.0, 13576.0, 13577.0, 13579.0, 13581.0, 13583.0, 13584.0, 13587.0, 13588.0, 13589.0, 13590.0, 13591.0, 13592.0, 13593.0, 13594.0, 13596.0, 13598.0, 13599.0, 13600.0, 13601.0, 13602.0, 13603.0, 13606.0, 13607.0, 13610.0, 13611.0, 13614.0, 13615.0, 13617.0, 13618.0, 13621.0, 13623.0, 13626.0, 13627.0, 13629.0, 13630.0, 13631.0, 13632.0, 13634.0, 13635.0, 13636.0, 13637.0, 13638.0, 13639.0, 13642.0, 13643.0, 13644.0, 13645.0, 13647.0, 13649.0, 13650.0, 13651.0, 13652.0, 13654.0, 13655.0, 13656.0, 13657.0, 13658.0, 13659.0, 13662.0, 13663.0, 13666.0, 13667.0, 13668.0, 13669.0, 13670.0, 13672.0, 13673.0, 13675.0, 13678.0, 13680.0, 13681.0, 13682.0, 13684.0, 13685.0, 13686.0, 13689.0, 13690.0, 13692.0, 13694.0, 13695.0, 13697.0, 13699.0, 13700.0, 13703.0, 13704.0, 13705.0, 13706.0, 13707.0, 13708.0, 13709.0, 13710.0, 13711.0, 13712.0, 13715.0, 13716.0, 13717.0, 13718.0, 13719.0, 13720.0, 13721.0, 13722.0, 13723.0, 13725.0, 13726.0, 13727.0, 13728.0, 13730.0, 13731.0, 13732.0, 13735.0, 13736.0, 13737.0, 13739.0, 13740.0, 13741.0, 13742.0, 13743.0, 13744.0, 13745.0, 13748.0, 13750.0, 13751.0, 13752.0, 13753.0, 13754.0, 13755.0, 13756.0, 13758.0, 13759.0, 13760.0, 13761.0, 13762.0, 13763.0, 13764.0, 13767.0, 13769.0, 13771.0, 13772.0, 13774.0, 13777.0, 13778.0, 13780.0, 13781.0, 13782.0, 13784.0, 13787.0, 13790.0, 13791.0, 13792.0, 13798.0, 13799.0, 13800.0, 13801.0, 13802.0, 13803.0, 13804.0, 13805.0, 13806.0, 13808.0, 13819.0, 13821.0, 13822.0, 13823.0, 13824.0, 13826.0, 13827.0, 13828.0, 13831.0, 13832.0, 13833.0, 13835.0, 13837.0, 13838.0, 13841.0, 13842.0, 13844.0, 13845.0, 13846.0, 13848.0, 13849.0, 13850.0, 13851.0, 13853.0, 13854.0, 13856.0, 13858.0, 13859.0, 13860.0, 13862.0, 13863.0, 13865.0, 13866.0, 13867.0, 13868.0, 13869.0, 13870.0, 13871.0, 13873.0, 13874.0, 13875.0, 13876.0, 13877.0, 13878.0, 13880.0, 13881.0, 13882.0, 13883.0, 13884.0, 13885.0, 13886.0, 13887.0, 13888.0, 13889.0, 13890.0, 13892.0, 13893.0, 13894.0, 13895.0, 13897.0, 13898.0, 13899.0, 13900.0, 13901.0, 13904.0, 13908.0, 13911.0, 13914.0, 13917.0, 13918.0, 13922.0, 13923.0, 13924.0, 13925.0, 13926.0, 13927.0, 13928.0, 13929.0, 13930.0, 13931.0, 13932.0, 13933.0, 13934.0, 13936.0, 13937.0, 13938.0, 13939.0, 13940.0, 13941.0, 13946.0, 13947.0, 13948.0, 13949.0, 13950.0, 13951.0, 13952.0, 13953.0, 13954.0, 13955.0, 13956.0, 13959.0, 13960.0, 13962.0, 13963.0, 13967.0, 13969.0, 13971.0, 13972.0, 13973.0, 13974.0, 13975.0, 13976.0, 13978.0, 13979.0, 13980.0, 13982.0, 13983.0, 13984.0, 13985.0, 13986.0, 13988.0, 13989.0, 13990.0, 13991.0, 13992.0, 13993.0, 13994.0, 13995.0, 13999.0, 14000.0, 14001.0, 14002.0, 14004.0, 14005.0, 14006.0, 14009.0, 14012.0, 14013.0, 14014.0, 14015.0, 14019.0, 14020.0, 14021.0, 14022.0, 14023.0, 14024.0, 14027.0, 14029.0, 14030.0, 14031.0, 14032.0, 14034.0, 14035.0, 14036.0, 14037.0, 14038.0, 14039.0, 14040.0, 14041.0, 14044.0, 14045.0, 14046.0, 14047.0, 14048.0, 14049.0, 14050.0, 14051.0, 14052.0, 14053.0, 14054.0, 14055.0, 14056.0, 14057.0, 14059.0, 14060.0, 14062.0, 14064.0, 14066.0, 14067.0, 14068.0, 14071.0, 14073.0, 14075.0, 14076.0, 14077.0, 14078.0, 14079.0, 14080.0, 14081.0, 14082.0, 14083.0, 14085.0, 14087.0, 14088.0, 14089.0, 14090.0, 14092.0, 14093.0, 14098.0, 14099.0, 14100.0, 14101.0, 14102.0, 14104.0, 14105.0, 14107.0, 14108.0, 14109.0, 14110.0, 14111.0, 14112.0, 14113.0, 14114.0, 14116.0, 14117.0, 14121.0, 14124.0, 14125.0, 14126.0, 14127.0, 14128.0, 14129.0, 14130.0, 14132.0, 14133.0, 14135.0, 14138.0, 14139.0, 14140.0, 14141.0, 14143.0, 14145.0, 14146.0, 14147.0, 14148.0, 14149.0, 14150.0, 14152.0, 14154.0, 14155.0, 14157.0, 14158.0, 14159.0, 14161.0, 14162.0, 14163.0, 14164.0, 14165.0, 14167.0, 14171.0, 14173.0, 14174.0, 14175.0, 14176.0, 14177.0, 14178.0, 14179.0, 14180.0, 14184.0, 14185.0, 14188.0, 14189.0, 14191.0, 14193.0, 14194.0, 14195.0, 14196.0, 14198.0, 14199.0, 14201.0, 14204.0, 14205.0, 14206.0, 14208.0, 14209.0, 14210.0, 14211.0, 14212.0, 14214.0, 14215.0, 14216.0, 14217.0, 14218.0, 14219.0, 14220.0, 14221.0, 14222.0, 14223.0, 14224.0, 14226.0, 14227.0, 14229.0, 14231.0, 14232.0, 14233.0, 14234.0, 14235.0, 14236.0, 14238.0, 14239.0, 14240.0, 14241.0, 14242.0, 14243.0, 14245.0, 14246.0, 14247.0, 14248.0, 14250.0, 14251.0, 14256.0, 14257.0, 14258.0, 14259.0, 14261.0, 14262.0, 14264.0, 14267.0, 14270.0, 14271.0, 14272.0, 14273.0, 14276.0, 14280.0, 14282.0, 14284.0, 14285.0, 14286.0, 14287.0, 14288.0, 14289.0, 14290.0, 14291.0, 14292.0, 14293.0, 14295.0, 14297.0, 14298.0, 14299.0, 14300.0, 14301.0, 14304.0, 14305.0, 14306.0, 14307.0, 14309.0, 14311.0, 14312.0, 14314.0, 14315.0, 14317.0, 14320.0, 14321.0, 14323.0, 14326.0, 14327.0, 14329.0, 14331.0, 14332.0, 14333.0, 14334.0, 14336.0, 14338.0, 14339.0, 14340.0, 14341.0, 14342.0, 14344.0, 14345.0, 14346.0, 14348.0, 14349.0, 14350.0, 14351.0, 14352.0, 14353.0, 14354.0, 14355.0, 14356.0, 14357.0, 14359.0, 14360.0, 14362.0, 14364.0, 14367.0, 14368.0, 14371.0, 14373.0, 14375.0, 14377.0, 14379.0, 14381.0, 14382.0, 14383.0, 14385.0, 14386.0, 14387.0, 14388.0, 14389.0, 14390.0, 14393.0, 14395.0, 14396.0, 14397.0, 14400.0, 14401.0, 14403.0, 14404.0, 14406.0, 14407.0, 14408.0, 14409.0, 14410.0, 14411.0, 14412.0, 14413.0, 14414.0, 14415.0, 14416.0, 14418.0, 14419.0, 14420.0, 14421.0, 14422.0, 14423.0, 14424.0, 14426.0, 14427.0, 14428.0, 14431.0, 14432.0, 14434.0, 14436.0, 14437.0, 14438.0, 14440.0, 14441.0, 14443.0, 14446.0, 14447.0, 14448.0, 14449.0, 14450.0, 14451.0, 14452.0, 14453.0, 14456.0, 14457.0, 14459.0, 14460.0, 14461.0, 14462.0, 14463.0, 14465.0, 14466.0, 14467.0, 14470.0, 14472.0, 14473.0, 14474.0, 14475.0, 14476.0, 14477.0, 14479.0, 14480.0, 14481.0, 14482.0, 14483.0, 14484.0, 14485.0, 14487.0, 14488.0, 14489.0, 14491.0, 14493.0, 14494.0, 14495.0, 14496.0, 14497.0, 14498.0, 14499.0, 14500.0, 14501.0, 14502.0, 14503.0, 14504.0, 14505.0, 14506.0, 14507.0, 14508.0, 14511.0, 14512.0, 14513.0, 14514.0, 14515.0, 14517.0, 14518.0, 14520.0, 14522.0, 14523.0, 14524.0, 14525.0, 14527.0, 14528.0, 14529.0, 14530.0, 14532.0, 14533.0, 14534.0, 14535.0, 14536.0, 14537.0, 14538.0, 14539.0, 14540.0, 14541.0, 14542.0, 14543.0, 14544.0, 14546.0, 14547.0, 14548.0, 14549.0, 14550.0, 14551.0, 14552.0, 14553.0, 14554.0, 14555.0, 14557.0, 14560.0, 14561.0, 14562.0, 14565.0, 14567.0, 14569.0, 14570.0, 14572.0, 14573.0, 14577.0, 14578.0, 14581.0, 14582.0, 14583.0, 14584.0, 14585.0, 14586.0, 14587.0, 14591.0, 14592.0, 14593.0, 14594.0, 14595.0, 14597.0, 14598.0, 14600.0, 14601.0, 14603.0, 14606.0, 14607.0, 14608.0, 14609.0, 14616.0, 14618.0, 14619.0, 14620.0, 14621.0, 14622.0, 14623.0, 14624.0, 14625.0, 14626.0, 14628.0, 14629.0, 14631.0, 14632.0, 14633.0, 14636.0, 14638.0, 14639.0, 14640.0, 14641.0, 14642.0, 14643.0, 14644.0, 14645.0, 14647.0, 14649.0, 14651.0, 14652.0, 14653.0, 14655.0, 14656.0, 14657.0, 14658.0, 14659.0, 14660.0, 14661.0, 14662.0, 14664.0, 14665.0, 14666.0, 14667.0, 14669.0, 14670.0, 14672.0, 14673.0, 14675.0, 14676.0, 14680.0, 14681.0, 14682.0, 14684.0, 14687.0, 14688.0, 14689.0, 14690.0, 14691.0, 14692.0, 14693.0, 14696.0, 14697.0, 14698.0, 14699.0, 14700.0, 14701.0, 14702.0, 14703.0, 14704.0, 14705.0, 14708.0, 14709.0, 14710.0, 14711.0, 14712.0, 14713.0, 14714.0, 14715.0, 14716.0, 14719.0, 14720.0, 14722.0, 14723.0, 14725.0, 14727.0, 14730.0, 14731.0, 14732.0, 14733.0, 14735.0, 14737.0, 14738.0, 14739.0, 14740.0, 14741.0, 14744.0, 14745.0, 14747.0, 14748.0, 14752.0, 14753.0, 14754.0, 14755.0, 14756.0, 14757.0, 14758.0, 14759.0, 14760.0, 14761.0, 14762.0, 14764.0, 14765.0, 14766.0, 14768.0, 14769.0, 14770.0, 14772.0, 14775.0, 14776.0, 14778.0, 14779.0, 14780.0, 14782.0, 14784.0, 14785.0, 14788.0, 14789.0, 14790.0, 14792.0, 14793.0, 14794.0, 14795.0, 14796.0, 14798.0, 14799.0, 14800.0, 14801.0, 14803.0, 14804.0, 14805.0, 14806.0, 14808.0, 14810.0, 14815.0, 14816.0, 14817.0, 14818.0, 14819.0, 14820.0, 14823.0, 14824.0, 14825.0, 14828.0, 14829.0, 14830.0, 14834.0, 14836.0, 14837.0, 14840.0, 14841.0, 14842.0, 14844.0, 14847.0, 14849.0, 14850.0, 14851.0, 14852.0, 14853.0, 14854.0, 14855.0, 14856.0, 14857.0, 14859.0, 14860.0, 14861.0, 14862.0, 14863.0, 14865.0, 14866.0, 14867.0, 14868.0, 14869.0, 14870.0, 14871.0, 14873.0, 14875.0, 14878.0, 14880.0, 14881.0, 14882.0, 14883.0, 14885.0, 14886.0, 14887.0, 14888.0, 14889.0, 14890.0, 14891.0, 14893.0, 14894.0, 14895.0, 14896.0, 14897.0, 14898.0, 14901.0, 14902.0, 14903.0, 14904.0, 14905.0, 14907.0, 14908.0, 14910.0, 14913.0, 14915.0, 14916.0, 14918.0, 14920.0, 14921.0, 14923.0, 14924.0, 14929.0, 14944.0, 14946.0, 14947.0, 14948.0, 14950.0, 14951.0, 14952.0, 14953.0, 14954.0, 14957.0, 14958.0, 14959.0, 14960.0, 14961.0, 14962.0, 14963.0, 14964.0, 14965.0, 14966.0, 14967.0, 14968.0, 14970.0, 14971.0, 14972.0, 14973.0, 14974.0, 14975.0, 14976.0, 14978.0, 14981.0, 14984.0, 14985.0, 14987.0, 14988.0, 14995.0, 14997.0, 14998.0, 15000.0, 15002.0, 15004.0, 15005.0, 15006.0, 15007.0, 15009.0, 15010.0, 15012.0, 15014.0, 15016.0, 15017.0, 15018.0, 15019.0, 15021.0, 15022.0, 15023.0, 15024.0, 15025.0, 15026.0, 15027.0, 15028.0, 15030.0, 15031.0, 15032.0, 15033.0, 15034.0, 15035.0, 15036.0, 15038.0, 15039.0, 15041.0, 15042.0, 15043.0, 15044.0, 15045.0, 15046.0, 15047.0, 15048.0, 15049.0, 15050.0, 15051.0, 15052.0, 15053.0, 15054.0, 15057.0, 15058.0, 15059.0, 15060.0, 15061.0, 15062.0, 15063.0, 15065.0, 15066.0, 15067.0, 15068.0, 15069.0, 15071.0, 15073.0, 15074.0, 15075.0, 15076.0, 15078.0, 15079.0, 15081.0, 15083.0, 15087.0, 15088.0, 15089.0, 15090.0, 15091.0, 15092.0, 15093.0, 15095.0, 15096.0, 15097.0, 15099.0, 15100.0, 15101.0, 15103.0, 15104.0, 15105.0, 15106.0, 15107.0, 15109.0, 15110.0, 15111.0, 15113.0, 15114.0, 15115.0, 15116.0, 15117.0, 15118.0, 15119.0, 15120.0, 15121.0, 15122.0, 15123.0, 15124.0, 15125.0, 15127.0, 15128.0, 15129.0, 15130.0, 15132.0, 15133.0, 15134.0, 15135.0, 15136.0, 15139.0, 15140.0, 15142.0, 15143.0, 15144.0, 15145.0, 15146.0, 15147.0, 15148.0, 15149.0, 15150.0, 15152.0, 15153.0, 15154.0, 15156.0, 15157.0, 15158.0, 15159.0, 15160.0, 15163.0, 15164.0, 15167.0, 15168.0, 15171.0, 15172.0, 15174.0, 15175.0, 15178.0, 15179.0, 15181.0, 15182.0, 15184.0, 15185.0, 15186.0, 15187.0, 15189.0, 15192.0, 15193.0, 15194.0, 15197.0, 15198.0, 15199.0, 15201.0, 15203.0, 15204.0, 15205.0, 15206.0, 15208.0, 15210.0, 15211.0, 15212.0, 15213.0, 15214.0, 15215.0, 15216.0, 15218.0, 15219.0, 15220.0, 15222.0, 15223.0, 15224.0, 15225.0, 15226.0, 15227.0, 15228.0, 15230.0, 15232.0, 15234.0, 15235.0, 15236.0, 15237.0, 15238.0, 15239.0, 15240.0, 15241.0, 15243.0, 15244.0, 15245.0, 15246.0, 15247.0, 15249.0, 15251.0, 15252.0, 15253.0, 15254.0, 15255.0, 15256.0, 15257.0, 15258.0, 15260.0, 15261.0, 15262.0, 15263.0, 15264.0, 15265.0, 15266.0, 15267.0, 15269.0, 15270.0, 15271.0, 15272.0, 15274.0, 15275.0, 15276.0, 15277.0, 15279.0, 15280.0, 15281.0, 15286.0, 15287.0, 15288.0, 15289.0, 15290.0, 15291.0, 15292.0, 15296.0, 15297.0, 15298.0, 15299.0, 15300.0, 15301.0, 15303.0, 15304.0, 15306.0, 15307.0, 15308.0, 15311.0, 15312.0, 15313.0, 15314.0, 15315.0, 15316.0, 15318.0, 15319.0, 15320.0, 15321.0, 15322.0, 15325.0, 15326.0, 15327.0, 15329.0, 15330.0, 15333.0, 15334.0, 15335.0, 15339.0, 15341.0, 15342.0, 15343.0, 15344.0, 15345.0, 15346.0, 15348.0, 15349.0, 15351.0, 15353.0, 15355.0, 15356.0, 15358.0, 15360.0, 15361.0, 15364.0, 15365.0, 15366.0, 15367.0, 15368.0, 15370.0, 15372.0, 15373.0, 15374.0, 15376.0, 15379.0, 15380.0, 15381.0, 15382.0, 15384.0, 15385.0, 15386.0, 15389.0, 15392.0, 15393.0, 15394.0, 15395.0, 15396.0, 15397.0, 15398.0, 15399.0, 15400.0, 15402.0, 15405.0, 15406.0, 15407.0, 15408.0, 15410.0, 15411.0, 15412.0, 15414.0, 15415.0, 15416.0, 15417.0, 15419.0, 15421.0, 15422.0, 15423.0, 15424.0, 15426.0, 15427.0, 15428.0, 15429.0, 15432.0, 15433.0, 15434.0, 15435.0, 15436.0, 15437.0, 15438.0, 15440.0, 15442.0, 15443.0, 15444.0, 15445.0, 15447.0, 15448.0, 15449.0, 15450.0, 15452.0, 15453.0, 15454.0, 15456.0, 15457.0, 15458.0, 15460.0, 15462.0, 15463.0, 15464.0, 15465.0, 15466.0, 15467.0, 15468.0, 15469.0, 15471.0, 15472.0, 15473.0, 15475.0, 15478.0, 15482.0, 15483.0, 15484.0, 15485.0, 15488.0, 15489.0, 15491.0, 15492.0, 15493.0, 15494.0, 15497.0, 15498.0, 15500.0, 15502.0, 15503.0, 15504.0, 15505.0, 15506.0, 15507.0, 15508.0, 15510.0, 15511.0, 15512.0, 15513.0, 15514.0, 15516.0, 15517.0, 15518.0, 15520.0, 15521.0, 15522.0, 15523.0, 15524.0, 15525.0, 15526.0, 15527.0, 15528.0, 15529.0, 15530.0, 15531.0, 15532.0, 15533.0, 15535.0, 15537.0, 15539.0, 15540.0, 15541.0, 15543.0, 15544.0, 15545.0, 15547.0, 15549.0, 15550.0, 15551.0, 15552.0, 15553.0, 15554.0, 15555.0, 15556.0, 15557.0, 15561.0, 15562.0, 15563.0, 15565.0, 15567.0, 15568.0, 15569.0, 15570.0, 15571.0, 15572.0, 15573.0, 15574.0, 15576.0, 15577.0, 15578.0, 15579.0, 15581.0, 15582.0, 15584.0, 15585.0, 15587.0, 15589.0, 15592.0, 15593.0, 15594.0, 15596.0, 15597.0, 15598.0, 15599.0, 15601.0, 15602.0, 15603.0, 15604.0, 15605.0, 15606.0, 15607.0, 15608.0, 15609.0, 15610.0, 15611.0, 15612.0, 15615.0, 15618.0, 15619.0, 15620.0, 15621.0, 15622.0, 15623.0, 15624.0, 15625.0, 15626.0, 15628.0, 15630.0, 15632.0, 15634.0, 15636.0, 15637.0, 15639.0, 15640.0, 15641.0, 15643.0, 15644.0, 15645.0, 15646.0, 15648.0, 15649.0, 15651.0, 15652.0, 15653.0, 15654.0, 15655.0, 15656.0, 15657.0, 15658.0, 15659.0, 15660.0, 15661.0, 15663.0, 15664.0, 15665.0, 15667.0, 15668.0, 15669.0, 15670.0, 15671.0, 15673.0, 15674.0, 15675.0, 15676.0, 15677.0, 15678.0, 15679.0, 15680.0, 15681.0, 15683.0, 15687.0, 15689.0, 15690.0, 15691.0, 15692.0, 15694.0, 15695.0, 15696.0, 15699.0, 15700.0, 15701.0, 15703.0, 15704.0, 15705.0, 15706.0, 15707.0, 15708.0, 15709.0, 15712.0, 15713.0, 15714.0, 15716.0, 15717.0, 15719.0, 15720.0, 15721.0, 15722.0, 15723.0, 15724.0, 15725.0, 15727.0, 15729.0, 15730.0, 15732.0, 15733.0, 15734.0, 15737.0, 15738.0, 15739.0, 15740.0, 15743.0, 15744.0, 15745.0, 15746.0, 15747.0, 15748.0, 15750.0, 15752.0, 15753.0, 15754.0, 15755.0, 15756.0, 15757.0, 15758.0, 15759.0, 15762.0, 15763.0, 15764.0, 15766.0, 15768.0, 15769.0, 15773.0, 15774.0, 15775.0, 15776.0, 15777.0, 15780.0, 15781.0, 15782.0, 15783.0, 15785.0, 15786.0, 15787.0, 15789.0, 15790.0, 15791.0, 15793.0, 15795.0, 15796.0, 15797.0, 15799.0, 15800.0, 15801.0, 15802.0, 15803.0, 15804.0, 15805.0, 15806.0, 15807.0, 15808.0, 15809.0, 15810.0, 15811.0, 15812.0, 15813.0, 15814.0, 15815.0, 15819.0, 15820.0, 15821.0, 15822.0, 15825.0, 15826.0, 15827.0, 15829.0, 15830.0, 15831.0, 15832.0, 15834.0, 15835.0, 15836.0, 15837.0, 15838.0, 15839.0, 15840.0, 15841.0, 15843.0, 15844.0, 15845.0, 15847.0, 15850.0, 15852.0, 15853.0, 15854.0, 15855.0, 15856.0, 15857.0, 15858.0, 15860.0, 15861.0, 15862.0, 15863.0, 15864.0, 15865.0, 15866.0, 15867.0, 15869.0, 15870.0, 15872.0, 15874.0, 15877.0, 15881.0, 15882.0, 15883.0, 15885.0, 15886.0, 15888.0, 15889.0, 15891.0, 15894.0, 15895.0, 15897.0, 15898.0, 15900.0, 15901.0, 15903.0, 15904.0, 15906.0, 15907.0, 15909.0, 15910.0, 15912.0, 15916.0, 15917.0, 15918.0, 15919.0, 15920.0, 15921.0, 15925.0, 15930.0, 15932.0, 15933.0, 15935.0, 15937.0, 15938.0, 15939.0, 15940.0, 15942.0, 15944.0, 15945.0, 15947.0, 15948.0, 15949.0, 15950.0, 15951.0, 15952.0, 15953.0, 15955.0, 15957.0, 15958.0, 15963.0, 15965.0, 15967.0, 15969.0, 15970.0, 15971.0, 15974.0, 15975.0, 15976.0, 15977.0, 15978.0, 15980.0, 15981.0, 15983.0, 15984.0, 15985.0, 15986.0, 15987.0, 15988.0, 15990.0, 15992.0, 15993.0, 15994.0, 15996.0, 15998.0, 16000.0, 16003.0, 16005.0, 16006.0, 16007.0, 16008.0, 16009.0, 16010.0, 16011.0, 16012.0, 16013.0, 16014.0, 16015.0, 16016.0, 16017.0, 16018.0, 16019.0, 16020.0, 16022.0, 16023.0, 16024.0, 16025.0, 16026.0, 16027.0, 16029.0, 16030.0, 16031.0, 16033.0, 16034.0, 16036.0, 16037.0, 16038.0, 16040.0, 16041.0, 16042.0, 16043.0, 16045.0, 16049.0, 16050.0, 16052.0, 16053.0, 16054.0, 16055.0, 16056.0, 16057.0, 16059.0, 16062.0, 16063.0, 16065.0, 16066.0, 16070.0, 16071.0, 16072.0, 16073.0, 16076.0, 16078.0, 16079.0, 16080.0, 16081.0, 16083.0, 16084.0, 16085.0, 16086.0, 16091.0, 16092.0, 16093.0, 16094.0, 16096.0, 16097.0, 16098.0, 16099.0, 16101.0, 16102.0, 16103.0, 16104.0, 16105.0, 16106.0, 16107.0, 16108.0, 16109.0, 16110.0, 16112.0, 16113.0, 16114.0, 16115.0, 16116.0, 16117.0, 16119.0, 16120.0, 16121.0, 16122.0, 16123.0, 16124.0, 16126.0, 16127.0, 16128.0, 16131.0, 16133.0, 16134.0, 16135.0, 16136.0, 16139.0, 16140.0, 16141.0, 16142.0, 16143.0, 16144.0, 16145.0, 16146.0, 16147.0, 16148.0, 16149.0, 16150.0, 16152.0, 16153.0, 16156.0, 16157.0, 16159.0, 16160.0, 16161.0, 16162.0, 16163.0, 16164.0, 16168.0, 16169.0, 16170.0, 16171.0, 16172.0, 16173.0, 16174.0, 16175.0, 16177.0, 16178.0, 16179.0, 16180.0, 16181.0, 16182.0, 16183.0, 16184.0, 16185.0, 16186.0, 16187.0, 16188.0, 16189.0, 16190.0, 16191.0, 16193.0, 16198.0, 16200.0, 16201.0, 16202.0, 16203.0, 16204.0, 16205.0, 16206.0, 16207.0, 16208.0, 16209.0, 16210.0, 16211.0, 16212.0, 16213.0, 16214.0, 16215.0, 16216.0, 16217.0, 16218.0, 16221.0, 16222.0, 16224.0, 16225.0, 16226.0, 16227.0, 16229.0, 16230.0, 16232.0, 16233.0, 16235.0, 16236.0, 16239.0, 16240.0, 16241.0, 16242.0, 16243.0, 16244.0, 16245.0, 16247.0, 16248.0, 16249.0, 16250.0, 16253.0, 16255.0, 16256.0, 16257.0, 16258.0, 16260.0, 16261.0, 16265.0, 16266.0, 16268.0, 16270.0, 16271.0, 16272.0, 16275.0, 16276.0, 16278.0, 16279.0, 16281.0, 16282.0, 16283.0, 16284.0, 16287.0, 16292.0, 16293.0, 16295.0, 16297.0, 16298.0, 16302.0, 16303.0, 16305.0, 16306.0, 16308.0, 16309.0, 16311.0, 16313.0, 16315.0, 16316.0, 16317.0, 16318.0, 16319.0, 16322.0, 16323.0, 16324.0, 16325.0, 16326.0, 16327.0, 16330.0, 16332.0, 16333.0, 16337.0, 16338.0, 16339.0, 16340.0, 16341.0, 16342.0, 16343.0, 16344.0, 16345.0, 16347.0, 16348.0, 16349.0, 16350.0, 16351.0, 16352.0, 16353.0, 16354.0, 16356.0, 16357.0, 16358.0, 16359.0, 16360.0, 16361.0, 16362.0, 16363.0, 16364.0, 16365.0, 16366.0, 16367.0, 16368.0, 16369.0, 16370.0, 16372.0, 16374.0, 16376.0, 16377.0, 16378.0, 16379.0, 16380.0, 16383.0, 16384.0, 16385.0, 16386.0, 16387.0, 16389.0, 16392.0, 16393.0, 16394.0, 16395.0, 16398.0, 16399.0, 16400.0, 16401.0, 16402.0, 16403.0, 16404.0, 16405.0, 16406.0, 16407.0, 16409.0, 16411.0, 16412.0, 16413.0, 16414.0, 16415.0, 16416.0, 16418.0, 16419.0, 16422.0, 16423.0, 16424.0, 16425.0, 16426.0, 16427.0, 16429.0, 16430.0, 16431.0, 16432.0, 16433.0, 16434.0, 16438.0, 16440.0, 16441.0, 16442.0, 16444.0, 16445.0, 16446.0, 16447.0, 16448.0, 16449.0, 16450.0, 16451.0, 16454.0, 16455.0, 16456.0, 16457.0, 16458.0, 16460.0, 16461.0, 16462.0, 16463.0, 16464.0, 16466.0, 16468.0, 16469.0, 16470.0, 16471.0, 16473.0, 16474.0, 16475.0, 16477.0, 16478.0, 16479.0, 16480.0, 16482.0, 16483.0, 16484.0, 16485.0, 16488.0, 16491.0, 16493.0, 16494.0, 16495.0, 16496.0, 16497.0, 16498.0, 16499.0, 16500.0, 16503.0, 16504.0, 16505.0, 16506.0, 16509.0, 16511.0, 16513.0, 16515.0, 16516.0, 16517.0, 16518.0, 16519.0, 16520.0, 16523.0, 16525.0, 16526.0, 16527.0, 16528.0, 16529.0, 16531.0, 16532.0, 16533.0, 16535.0, 16536.0, 16539.0, 16542.0, 16545.0, 16546.0, 16549.0, 16550.0, 16551.0, 16552.0, 16553.0, 16554.0, 16555.0, 16556.0, 16557.0, 16558.0, 16560.0, 16561.0, 16563.0, 16565.0, 16566.0, 16567.0, 16569.0, 16570.0, 16571.0, 16572.0, 16573.0, 16574.0, 16581.0, 16582.0, 16584.0, 16586.0, 16587.0, 16589.0, 16591.0, 16592.0, 16593.0, 16594.0, 16595.0, 16596.0, 16597.0, 16598.0, 16600.0, 16601.0, 16602.0, 16603.0, 16607.0, 16609.0, 16610.0, 16611.0, 16612.0, 16613.0, 16614.0, 16616.0, 16617.0, 16618.0, 16619.0, 16620.0, 16621.0, 16623.0, 16624.0, 16625.0, 16626.0, 16627.0, 16628.0, 16629.0, 16633.0, 16634.0, 16637.0, 16638.0, 16639.0, 16641.0, 16642.0, 16643.0, 16644.0, 16647.0, 16648.0, 16650.0, 16652.0, 16653.0, 16654.0, 16655.0, 16656.0, 16657.0, 16659.0, 16660.0, 16665.0, 16666.0, 16667.0, 16668.0, 16669.0, 16670.0, 16671.0, 16672.0, 16674.0, 16676.0, 16678.0, 16680.0, 16681.0, 16682.0, 16684.0, 16685.0, 16686.0, 16688.0, 16689.0, 16690.0, 16692.0, 16693.0, 16696.0, 16697.0, 16698.0, 16700.0, 16701.0, 16705.0, 16706.0, 16708.0, 16709.0, 16710.0, 16711.0, 16712.0, 16713.0, 16714.0, 16715.0, 16716.0, 16717.0, 16719.0, 16720.0, 16721.0, 16722.0, 16723.0, 16725.0, 16726.0, 16727.0, 16728.0, 16729.0, 16730.0, 16732.0, 16734.0, 16735.0, 16737.0, 16738.0, 16739.0, 16742.0, 16743.0, 16744.0, 16745.0, 16746.0, 16747.0, 16748.0, 16750.0, 16751.0, 16753.0, 16755.0, 16756.0, 16757.0, 16758.0, 16759.0, 16761.0, 16762.0, 16763.0, 16764.0, 16765.0, 16766.0, 16767.0, 16768.0, 16769.0, 16770.0, 16771.0, 16773.0, 16774.0, 16775.0, 16776.0, 16777.0, 16778.0, 16779.0, 16780.0, 16782.0, 16784.0, 16788.0, 16789.0, 16790.0, 16791.0, 16792.0, 16793.0, 16794.0, 16795.0, 16796.0, 16800.0, 16801.0, 16803.0, 16804.0, 16805.0, 16806.0, 16807.0, 16808.0, 16809.0, 16810.0, 16811.0, 16812.0, 16813.0, 16814.0, 16816.0, 16817.0, 16818.0, 16820.0, 16823.0, 16824.0, 16825.0, 16826.0, 16828.0, 16829.0, 16830.0, 16832.0, 16833.0, 16834.0, 16835.0, 16836.0, 16837.0, 16838.0, 16839.0, 16841.0, 16842.0, 16843.0, 16846.0, 16847.0, 16848.0, 16849.0, 16850.0, 16851.0, 16852.0, 16855.0, 16856.0, 16859.0, 16861.0, 16863.0, 16866.0, 16869.0, 16871.0, 16872.0, 16873.0, 16875.0, 16877.0, 16878.0, 16880.0, 16881.0, 16882.0, 16883.0, 16884.0, 16885.0, 16887.0, 16889.0, 16891.0, 16892.0, 16895.0, 16897.0, 16898.0, 16899.0, 16900.0, 16902.0, 16903.0, 16904.0, 16905.0, 16906.0, 16907.0, 16909.0, 16910.0, 16912.0, 16913.0, 16914.0, 16915.0, 16916.0, 16917.0, 16918.0, 16919.0, 16921.0, 16923.0, 16924.0, 16927.0, 16928.0, 16929.0, 16930.0, 16931.0, 16932.0, 16933.0, 16934.0, 16936.0, 16938.0, 16940.0, 16942.0, 16943.0, 16945.0, 16947.0, 16948.0, 16949.0, 16950.0, 16951.0, 16952.0, 16953.0, 16954.0, 16955.0, 16956.0, 16957.0, 16959.0, 16960.0, 16961.0, 16963.0, 16965.0, 16966.0, 16967.0, 16968.0, 16969.0, 16971.0, 16976.0, 16978.0, 16979.0, 16980.0, 16982.0, 16983.0, 16984.0, 16985.0, 16986.0, 16987.0, 16988.0, 16989.0, 16990.0, 16992.0, 16996.0, 16997.0, 16998.0, 16999.0, 17001.0, 17002.0, 17004.0, 17006.0, 17007.0, 17010.0, 17011.0, 17014.0, 17015.0, 17017.0, 17018.0, 17019.0, 17022.0, 17024.0, 17025.0, 17026.0, 17027.0, 17029.0, 17030.0, 17031.0, 17033.0, 17034.0, 17035.0, 17037.0, 17038.0, 17040.0, 17041.0, 17042.0, 17043.0, 17044.0, 17045.0, 17046.0, 17047.0, 17048.0, 17049.0, 17050.0, 17051.0, 17052.0, 17053.0, 17054.0, 17058.0, 17059.0, 17060.0, 17061.0, 17062.0, 17063.0, 17064.0, 17068.0, 17069.0, 17070.0, 17071.0, 17073.0, 17075.0, 17076.0, 17078.0, 17079.0, 17080.0, 17081.0, 17082.0, 17083.0, 17084.0, 17085.0, 17086.0, 17088.0, 17090.0, 17091.0, 17092.0, 17094.0, 17095.0, 17096.0, 17100.0, 17101.0, 17102.0, 17105.0, 17107.0, 17109.0, 17110.0, 17111.0, 17114.0, 17115.0, 17117.0, 17118.0, 17119.0, 17120.0, 17122.0, 17123.0, 17124.0, 17125.0, 17126.0, 17128.0, 17131.0, 17133.0, 17134.0, 17135.0, 17138.0, 17139.0, 17140.0, 17142.0, 17144.0, 17146.0, 17147.0, 17148.0, 17152.0, 17153.0, 17154.0, 17155.0, 17157.0, 17158.0, 17159.0, 17160.0, 17162.0, 17163.0, 17164.0, 17165.0, 17166.0, 17169.0, 17171.0, 17172.0, 17173.0, 17174.0, 17175.0, 17176.0, 17179.0, 17180.0, 17181.0, 17183.0, 17186.0, 17187.0, 17188.0, 17189.0, 17190.0, 17191.0, 17193.0, 17194.0, 17197.0, 17198.0, 17201.0, 17203.0, 17204.0, 17205.0, 17206.0, 17211.0, 17212.0, 17213.0, 17214.0, 17217.0, 17218.0, 17219.0, 17220.0, 17221.0, 17222.0, 17223.0, 17226.0, 17227.0, 17228.0, 17229.0, 17230.0, 17231.0, 17232.0, 17233.0, 17234.0, 17235.0, 17236.0, 17237.0, 17238.0, 17239.0, 17242.0, 17243.0, 17244.0, 17245.0, 17247.0, 17248.0, 17250.0, 17251.0, 17252.0, 17253.0, 17254.0, 17255.0, 17256.0, 17259.0, 17262.0, 17263.0, 17265.0, 17266.0, 17267.0, 17268.0, 17272.0, 17274.0, 17277.0, 17278.0, 17279.0, 17282.0, 17284.0, 17286.0, 17287.0, 17288.0, 17289.0, 17290.0, 17291.0, 17293.0, 17295.0, 17297.0, 17298.0, 17299.0, 17301.0, 17302.0, 17303.0, 17306.0, 17309.0, 17311.0, 17312.0, 17313.0, 17314.0, 17315.0, 17317.0, 17320.0, 17321.0, 17323.0, 17324.0, 17325.0, 17329.0, 17330.0, 17331.0, 17333.0, 17334.0, 17337.0, 17338.0, 17339.0, 17340.0, 17341.0, 17343.0, 17344.0, 17345.0, 17346.0, 17347.0, 17348.0, 17349.0, 17350.0, 17351.0, 17353.0, 17354.0, 17356.0, 17357.0, 17358.0, 17359.0, 17360.0, 17361.0, 17362.0, 17364.0, 17365.0, 17367.0, 17368.0, 17370.0, 17371.0, 17372.0, 17373.0, 17374.0, 17375.0, 17376.0, 17377.0, 17379.0, 17381.0, 17382.0, 17383.0, 17384.0, 17385.0, 17386.0, 17387.0, 17388.0, 17389.0, 17391.0, 17392.0, 17394.0, 17396.0, 17397.0, 17398.0, 17400.0, 17402.0, 17403.0, 17405.0, 17406.0, 17408.0, 17409.0, 17410.0, 17411.0, 17412.0, 17414.0, 17415.0, 17416.0, 17418.0, 17419.0, 17420.0, 17422.0, 17423.0, 17425.0, 17426.0, 17427.0, 17428.0, 17429.0, 17430.0, 17431.0, 17432.0, 17433.0, 17434.0, 17436.0, 17438.0, 17440.0, 17442.0, 17446.0, 17447.0, 17449.0, 17450.0, 17451.0, 17453.0, 17454.0, 17455.0, 17456.0, 17457.0, 17458.0, 17459.0, 17460.0, 17461.0, 17462.0, 17463.0, 17464.0, 17466.0, 17468.0, 17469.0, 17470.0, 17472.0, 17475.0, 17480.0, 17481.0, 17483.0, 17486.0, 17489.0, 17490.0, 17491.0, 17492.0, 17495.0, 17496.0, 17498.0, 17499.0, 17500.0, 17501.0, 17502.0, 17503.0, 17504.0, 17505.0, 17506.0, 17507.0, 17509.0, 17510.0, 17511.0, 17512.0, 17513.0, 17514.0, 17515.0, 17516.0, 17517.0, 17519.0, 17520.0, 17521.0, 17522.0, 17523.0, 17524.0, 17525.0, 17526.0, 17527.0, 17528.0, 17530.0, 17531.0, 17534.0, 17535.0, 17536.0, 17537.0, 17538.0, 17540.0, 17542.0, 17545.0, 17548.0, 17549.0, 17550.0, 17551.0, 17552.0, 17553.0, 17554.0, 17555.0, 17556.0, 17557.0, 17560.0, 17561.0, 17562.0, 17564.0, 17566.0, 17567.0, 17569.0, 17571.0, 17572.0, 17573.0, 17574.0, 17576.0, 17578.0, 17579.0, 17580.0, 17581.0, 17582.0, 17584.0, 17585.0, 17588.0, 17589.0, 17590.0, 17591.0, 17593.0, 17594.0, 17595.0, 17596.0, 17597.0, 17600.0, 17601.0, 17602.0, 17603.0, 17604.0, 17608.0, 17609.0, 17611.0, 17612.0, 17613.0, 17614.0, 17615.0, 17616.0, 17618.0, 17619.0, 17620.0, 17621.0, 17623.0, 17624.0, 17625.0, 17628.0, 17629.0, 17630.0, 17631.0, 17633.0, 17634.0, 17636.0, 17637.0, 17639.0, 17640.0, 17642.0, 17644.0, 17646.0, 17647.0, 17648.0, 17649.0, 17650.0, 17651.0, 17652.0, 17653.0, 17654.0, 17655.0, 17656.0, 17658.0, 17659.0, 17660.0, 17663.0, 17664.0, 17666.0, 17667.0, 17668.0, 17669.0, 17670.0, 17671.0, 17672.0, 17673.0, 17674.0, 17675.0, 17676.0, 17677.0, 17678.0, 17679.0, 17680.0, 17682.0, 17684.0, 17685.0, 17686.0, 17690.0, 17691.0, 17692.0, 17693.0, 17694.0, 17695.0, 17696.0, 17697.0, 17698.0, 17700.0, 17701.0, 17702.0, 17703.0, 17704.0, 17705.0, 17706.0, 17707.0, 17708.0, 17709.0, 17711.0, 17712.0, 17714.0, 17715.0, 17716.0, 17718.0, 17719.0, 17720.0, 17722.0, 17723.0, 17724.0, 17725.0, 17727.0, 17728.0, 17730.0, 17731.0, 17733.0, 17734.0, 17735.0, 17736.0, 17737.0, 17738.0, 17739.0, 17742.0, 17744.0, 17746.0, 17747.0, 17749.0, 17750.0, 17752.0, 17754.0, 17757.0, 17758.0, 17759.0, 17760.0, 17761.0, 17763.0, 17764.0, 17765.0, 17767.0, 17768.0, 17769.0, 17770.0, 17771.0, 17772.0, 17774.0, 17775.0, 17777.0, 17779.0, 17781.0, 17783.0, 17785.0, 17786.0, 17787.0, 17788.0, 17789.0, 17790.0, 17791.0, 17793.0, 17795.0, 17796.0, 17797.0, 17799.0, 17800.0, 17802.0, 17805.0, 17806.0, 17809.0, 17811.0, 17812.0, 17813.0, 17816.0, 17817.0, 17819.0, 17824.0, 17827.0, 17830.0, 17831.0, 17832.0, 17835.0, 17836.0, 17837.0, 17838.0, 17839.0, 17843.0, 17846.0, 17848.0, 17849.0, 17852.0, 17854.0, 17856.0, 17857.0, 17858.0, 17859.0, 17861.0, 17862.0, 17863.0, 17864.0, 17865.0, 17866.0, 17867.0, 17869.0, 17870.0, 17871.0, 17873.0, 17874.0, 17877.0, 17878.0, 17879.0, 17880.0, 17881.0, 17883.0, 17884.0, 17885.0, 17886.0, 17887.0, 17888.0, 17889.0, 17890.0, 17891.0, 17892.0, 17893.0, 17894.0, 17895.0, 17896.0, 17897.0, 17898.0, 17899.0, 17900.0, 17901.0, 17904.0, 17905.0, 17906.0, 17911.0, 17912.0, 17913.0, 17914.0, 17917.0, 17919.0, 17920.0, 17921.0, 17923.0, 17924.0, 17926.0, 17928.0, 17929.0, 17930.0, 17931.0, 17932.0, 17934.0, 17935.0, 17936.0, 17937.0, 17939.0, 17940.0, 17941.0, 17942.0, 17946.0, 17947.0, 17948.0, 17949.0, 17950.0, 17951.0, 17954.0, 17955.0, 17956.0, 17957.0, 17958.0, 17960.0, 17961.0, 17962.0, 17964.0, 17965.0, 17966.0, 17969.0, 17970.0, 17972.0, 17973.0, 17974.0, 17975.0, 17977.0, 17978.0, 17979.0, 17980.0, 17984.0, 17985.0, 17986.0, 17987.0, 17988.0, 17990.0, 17991.0, 17994.0, 17995.0, 17997.0, 17999.0, 18001.0, 18004.0, 18005.0, 18006.0, 18008.0, 18009.0, 18010.0, 18013.0, 18014.0, 18015.0, 18016.0, 18017.0, 18018.0, 18019.0, 18022.0, 18024.0, 18027.0, 18030.0, 18032.0, 18033.0, 18034.0, 18035.0, 18036.0, 18037.0, 18040.0, 18041.0, 18042.0, 18043.0, 18044.0, 18045.0, 18048.0, 18050.0, 18053.0, 18055.0, 18056.0, 18058.0, 18059.0, 18061.0, 18062.0, 18064.0, 18065.0, 18066.0, 18067.0, 18068.0, 18069.0, 18071.0, 18072.0, 18073.0, 18075.0, 18077.0, 18078.0, 18079.0, 18080.0, 18081.0, 18082.0, 18084.0, 18085.0, 18086.0, 18088.0, 18092.0, 18093.0, 18094.0, 18095.0, 18096.0, 18097.0, 18099.0, 18101.0, 18102.0, 18104.0, 18105.0, 18106.0, 18108.0, 18109.0, 18110.0, 18112.0, 18114.0, 18116.0, 18117.0, 18118.0, 18120.0, 18121.0, 18122.0, 18123.0, 18125.0, 18126.0, 18127.0, 18129.0, 18130.0, 18133.0, 18135.0, 18136.0, 18138.0, 18139.0, 18142.0, 18143.0, 18144.0, 18145.0, 18146.0, 18147.0, 18149.0, 18150.0, 18151.0, 18154.0, 18155.0, 18156.0, 18158.0, 18159.0, 18160.0, 18161.0, 18164.0, 18165.0, 18167.0, 18168.0, 18169.0, 18170.0, 18171.0, 18172.0, 18173.0, 18174.0, 18176.0, 18177.0, 18178.0, 18179.0, 18180.0, 18181.0, 18183.0, 18184.0, 18185.0, 18188.0, 18189.0, 18190.0, 18191.0, 18192.0, 18193.0, 18194.0, 18196.0, 18198.0, 18200.0, 18202.0, 18203.0, 18204.0, 18205.0, 18209.0, 18210.0, 18211.0, 18212.0, 18213.0, 18215.0, 18216.0, 18217.0, 18218.0, 18219.0, 18220.0, 18221.0, 18222.0, 18223.0, 18224.0, 18225.0, 18226.0, 18227.0, 18228.0, 18229.0, 18230.0, 18231.0, 18232.0, 18233.0, 18235.0, 18236.0, 18237.0, 18239.0, 18240.0, 18241.0, 18242.0, 18245.0, 18246.0, 18248.0, 18249.0, 18250.0, 18251.0, 18252.0, 18255.0, 18257.0, 18259.0, 18260.0, 18261.0, 18262.0, 18263.0, 18265.0, 18268.0, 18270.0, 18272.0, 18273.0, 18274.0, 18276.0, 18277.0, 18278.0, 18280.0, 18281.0, 18282.0, 18283.0, 18287.0]\n",
      "\n",
      "\n",
      "Cluster 1: \n",
      "[12748.0, 14096.0, 17841.0]\n",
      "\n",
      "\n",
      "Cluster 2: \n",
      "[13135.0, 15195.0, 15749.0, 18087.0]\n",
      "\n",
      "\n"
     ]
    }
   ],
   "source": [
    "#Run a kmeans clustering with a total of 3 clusters for the non-normalised data first\n",
    "nonStdCluster = cluster.KMeans(n_clusters = 3, init='k-means++', n_init = 50)\n",
    "nonStdCluster.fit(customers)\n",
    "\n",
    "labels = nonStdCluster.predict(customers)\n",
    "\n",
    "print('Cluster 0: \\n' + str([customers.index[i] for i,item in enumerate(labels) if item==0]))\n",
    "print( '\\n')\n",
    "print('Cluster 1: \\n' + str([customers.index[i] for i,item in enumerate(labels) if item==1]))\n",
    "print( '\\n')\n",
    "print('Cluster 2: \\n' + str([customers.index[i] for i,item in enumerate(labels) if item==2]))\n",
    "print( '\\n')"
   ]
  },
  {
   "cell_type": "code",
   "execution_count": 26,
   "metadata": {
    "scrolled": true
   },
   "outputs": [
    {
     "name": "stdout",
     "output_type": "stream",
     "text": [
      "Cluster 0: \n",
      "[12821.0, 12822.0, 12824.0, 12827.0, 12831.0, 12832.0, 12833.0, 12834.0, 12837.0, 12842.0, 12845.0, 12847.0, 12852.0, 12857.0, 12871.0, 12881.0, 12883.0, 12893.0, 12895.0, 12902.0, 12906.0, 12913.0, 12915.0, 12920.0, 12922.0, 12923.0, 12924.0, 12925.0, 12929.0, 12930.0, 12936.0, 12938.0, 12944.0, 12945.0, 12953.0, 12956.0, 12962.0, 12966.0, 12968.0, 12974.0, 12976.0, 12977.0, 12981.0, 12982.0, 12984.0, 12987.0, 12990.0, 12991.0, 12993.0, 12999.0, 13000.0, 13002.0, 13003.0, 13005.0, 13006.0, 13008.0, 13016.0, 13023.0, 13026.0, 13028.0, 13030.0, 13033.0, 13034.0, 13035.0, 13038.0, 13043.0, 13044.0, 13045.0, 13046.0, 13052.0, 13058.0, 13059.0, 13060.0, 13061.0, 13067.0, 13070.0, 13072.0, 13075.0, 13079.0, 13080.0, 13083.0, 13085.0, 13091.0, 13092.0, 13095.0, 13101.0, 13103.0, 13116.0, 13127.0, 13131.0, 13132.0, 13133.0, 13140.0, 13142.0, 13144.0, 13146.0, 13155.0, 13160.0, 13161.0, 13165.0, 13170.0, 13173.0, 13177.0, 13182.0, 13187.0, 13189.0, 13193.0, 13194.0, 13200.0, 13203.0, 13207.0, 13210.0, 13218.0, 13220.0, 13226.0, 13227.0, 13229.0, 13233.0, 13235.0, 13236.0, 13238.0, 13239.0, 13242.0, 13244.0, 13245.0, 13247.0, 13248.0, 13249.0, 13255.0, 13258.0, 13262.0, 13272.0, 13273.0, 13276.0, 13278.0, 13279.0, 13282.0, 13283.0, 13284.0, 13291.0, 13292.0, 13295.0, 13296.0, 13299.0, 13300.0, 13304.0, 13307.0, 13311.0, 13318.0, 13322.0, 13323.0, 13332.0, 13336.0, 13338.0, 13341.0, 13343.0, 13345.0, 13348.0, 13349.0, 13350.0, 13351.0, 13352.0, 13354.0, 13355.0, 13356.0, 13358.0, 13359.0, 13363.0, 13364.0, 13368.0, 13369.0, 13372.0, 13382.0, 13385.0, 13388.0, 13390.0, 13395.0, 13396.0, 13397.0, 13398.0, 13402.0, 13403.0, 13404.0, 13405.0, 13410.0, 13411.0, 13416.0, 13417.0, 13419.0, 13420.0, 13427.0, 13428.0, 13429.0, 13430.0, 13431.0, 13436.0, 13441.0, 13449.0, 13452.0, 13453.0, 13455.0, 13460.0, 13462.0, 13466.0, 13470.0, 13473.0, 13479.0, 13482.0, 13483.0, 13484.0, 13485.0, 13487.0, 13494.0, 13495.0, 13496.0, 13497.0, 13499.0, 13502.0, 13503.0, 13504.0, 13506.0, 13508.0, 13512.0, 13513.0, 13514.0, 13516.0, 13518.0, 13519.0, 13522.0, 13524.0, 13529.0, 13531.0, 13538.0, 13539.0, 13551.0, 13557.0, 13561.0, 13563.0, 13564.0, 13565.0, 13569.0, 13570.0, 13572.0, 13573.0, 13575.0, 13579.0, 13581.0, 13584.0, 13589.0, 13592.0, 13594.0, 13598.0, 13600.0, 13602.0, 13603.0, 13615.0, 13617.0, 13618.0, 13621.0, 13626.0, 13638.0, 13639.0, 13643.0, 13649.0, 13651.0, 13655.0, 13657.0, 13663.0, 13666.0, 13669.0, 13670.0, 13672.0, 13675.0, 13678.0, 13682.0, 13686.0, 13690.0, 13697.0, 13699.0, 13705.0, 13706.0, 13710.0, 13711.0, 13716.0, 13718.0, 13720.0, 13721.0, 13723.0, 13726.0, 13727.0, 13731.0, 13732.0, 13737.0, 13740.0, 13741.0, 13745.0, 13748.0, 13751.0, 13753.0, 13754.0, 13759.0, 13774.0, 13778.0, 13781.0, 13787.0, 13792.0, 13799.0, 13800.0, 13801.0, 13803.0, 13806.0, 13819.0, 13823.0, 13824.0, 13826.0, 13828.0, 13832.0, 13833.0, 13837.0, 13844.0, 13853.0, 13858.0, 13859.0, 13863.0, 13865.0, 13866.0, 13873.0, 13874.0, 13876.0, 13878.0, 13885.0, 13886.0, 13887.0, 13888.0, 13889.0, 13892.0, 13893.0, 13894.0, 13897.0, 13898.0, 13899.0, 13900.0, 13904.0, 13914.0, 13917.0, 13922.0, 13923.0, 13925.0, 13926.0, 13927.0, 13928.0, 13930.0, 13932.0, 13933.0, 13934.0, 13936.0, 13937.0, 13938.0, 13940.0, 13947.0, 13950.0, 13951.0, 13954.0, 13955.0, 13960.0, 13962.0, 13963.0, 13972.0, 13973.0, 13974.0, 13976.0, 13978.0, 13979.0, 13980.0, 13986.0, 13989.0, 13990.0, 13992.0, 14000.0, 14002.0, 14006.0, 14009.0, 14012.0, 14013.0, 14014.0, 14015.0, 14020.0, 14021.0, 14022.0, 14023.0, 14024.0, 14027.0, 14029.0, 14036.0, 14039.0, 14041.0, 14046.0, 14047.0, 14050.0, 14052.0, 14054.0, 14059.0, 14066.0, 14068.0, 14073.0, 14075.0, 14079.0, 14080.0, 14089.0, 14098.0, 14100.0, 14104.0, 14108.0, 14109.0, 14114.0, 14133.0, 14138.0, 14139.0, 14141.0, 14143.0, 14148.0, 14149.0, 14150.0, 14155.0, 14158.0, 14162.0, 14163.0, 14165.0, 14173.0, 14174.0, 14176.0, 14177.0, 14184.0, 14185.0, 14193.0, 14198.0, 14201.0, 14205.0, 14206.0, 14208.0, 14218.0, 14219.0, 14220.0, 14222.0, 14229.0, 14233.0, 14236.0, 14238.0, 14240.0, 14241.0, 14242.0, 14247.0, 14248.0, 14259.0, 14261.0, 14264.0, 14270.0, 14271.0, 14272.0, 14273.0, 14280.0, 14284.0, 14288.0, 14293.0, 14295.0, 14297.0, 14300.0, 14304.0, 14311.0, 14314.0, 14317.0, 14320.0, 14323.0, 14326.0, 14327.0, 14331.0, 14332.0, 14333.0, 14338.0, 14339.0, 14340.0, 14342.0, 14345.0, 14348.0, 14349.0, 14350.0, 14352.0, 14353.0, 14354.0, 14355.0, 14356.0, 14357.0, 14359.0, 14362.0, 14368.0, 14371.0, 14373.0, 14385.0, 14386.0, 14393.0, 14396.0, 14400.0, 14406.0, 14412.0, 14413.0, 14416.0, 14420.0, 14421.0, 14427.0, 14431.0, 14436.0, 14437.0, 14438.0, 14448.0, 14453.0, 14459.0, 14473.0, 14474.0, 14475.0, 14476.0, 14479.0, 14480.0, 14481.0, 14483.0, 14484.0, 14488.0, 14489.0, 14491.0, 14494.0, 14495.0, 14496.0, 14497.0, 14501.0, 14508.0, 14512.0, 14517.0, 14518.0, 14523.0, 14528.0, 14536.0, 14537.0, 14538.0, 14539.0, 14542.0, 14550.0, 14551.0, 14552.0, 14555.0, 14567.0, 14569.0, 14570.0, 14578.0, 14581.0, 14582.0, 14585.0, 14586.0, 14594.0, 14598.0, 14600.0, 14601.0, 14618.0, 14619.0, 14620.0, 14622.0, 14624.0, 14628.0, 14631.0, 14632.0, 14633.0, 14636.0, 14638.0, 14641.0, 14643.0, 14644.0, 14645.0, 14647.0, 14652.0, 14658.0, 14660.0, 14661.0, 14666.0, 14689.0, 14690.0, 14693.0, 14697.0, 14699.0, 14703.0, 14708.0, 14712.0, 14714.0, 14720.0, 14722.0, 14725.0, 14727.0, 14744.0, 14747.0, 14748.0, 14753.0, 14754.0, 14756.0, 14757.0, 14760.0, 14761.0, 14762.0, 14765.0, 14768.0, 14772.0, 14775.0, 14778.0, 14780.0, 14784.0, 14788.0, 14789.0, 14792.0, 14793.0, 14795.0, 14798.0, 14799.0, 14804.0, 14806.0, 14816.0, 14819.0, 14820.0, 14824.0, 14829.0, 14830.0, 14836.0, 14840.0, 14847.0, 14850.0, 14851.0, 14853.0, 14855.0, 14860.0, 14861.0, 14862.0, 14863.0, 14867.0, 14870.0, 14873.0, 14875.0, 14881.0, 14886.0, 14888.0, 14889.0, 14890.0, 14891.0, 14893.0, 14894.0, 14902.0, 14905.0, 14908.0, 14910.0, 14915.0, 14918.0, 14920.0, 14923.0, 14924.0, 14929.0, 14946.0, 14947.0, 14950.0, 14951.0, 14953.0, 14954.0, 14957.0, 14958.0, 14960.0, 14962.0, 14964.0, 14966.0, 14968.0, 14970.0, 14972.0, 14973.0, 14974.0, 14975.0, 14981.0, 14984.0, 14988.0, 14997.0, 15007.0, 15010.0, 15014.0, 15016.0, 15017.0, 15018.0, 15027.0, 15028.0, 15035.0, 15042.0, 15045.0, 15047.0, 15052.0, 15066.0, 15071.0, 15074.0, 15075.0, 15076.0, 15081.0, 15083.0, 15087.0, 15090.0, 15091.0, 15092.0, 15095.0, 15096.0, 15097.0, 15099.0, 15103.0, 15107.0, 15109.0, 15110.0, 15115.0, 15116.0, 15119.0, 15120.0, 15121.0, 15124.0, 15127.0, 15130.0, 15133.0, 15135.0, 15139.0, 15142.0, 15143.0, 15147.0, 15148.0, 15149.0, 15153.0, 15163.0, 15168.0, 15174.0, 15175.0, 15178.0, 15182.0, 15185.0, 15186.0, 15193.0, 15197.0, 15198.0, 15205.0, 15210.0, 15212.0, 15213.0, 15215.0, 15219.0, 15223.0, 15224.0, 15225.0, 15226.0, 15230.0, 15232.0, 15234.0, 15236.0, 15238.0, 15239.0, 15243.0, 15244.0, 15246.0, 15254.0, 15256.0, 15257.0, 15258.0, 15261.0, 15262.0, 15263.0, 15264.0, 15266.0, 15275.0, 15277.0, 15279.0, 15280.0, 15287.0, 15292.0, 15297.0, 15300.0, 15303.0, 15304.0, 15307.0, 15308.0, 15314.0, 15315.0, 15318.0, 15319.0, 15320.0, 15322.0, 15326.0, 15327.0, 15335.0, 15342.0, 15343.0, 15344.0, 15345.0, 15346.0, 15348.0, 15355.0, 15360.0, 15364.0, 15380.0, 15385.0, 15386.0, 15393.0, 15395.0, 15396.0, 15397.0, 15399.0, 15402.0, 15408.0, 15412.0, 15414.0, 15417.0, 15419.0, 15422.0, 15424.0, 15428.0, 15432.0, 15435.0, 15438.0, 15445.0, 15447.0, 15448.0, 15450.0, 15454.0, 15458.0, 15462.0, 15463.0, 15468.0, 15469.0, 15475.0, 15478.0, 15489.0, 15492.0, 15504.0, 15512.0, 15516.0, 15517.0, 15520.0, 15523.0, 15526.0, 15528.0, 15537.0, 15540.0, 15541.0, 15543.0, 15545.0, 15551.0, 15552.0, 15553.0, 15554.0, 15556.0, 15557.0, 15561.0, 15565.0, 15567.0, 15569.0, 15577.0, 15578.0, 15585.0, 15589.0, 15592.0, 15593.0, 15597.0, 15598.0, 15602.0, 15604.0, 15607.0, 15608.0, 15609.0, 15610.0, 15611.0, 15612.0, 15618.0, 15623.0, 15624.0, 15634.0, 15636.0, 15637.0, 15639.0, 15643.0, 15645.0, 15646.0, 15648.0, 15651.0, 15652.0, 15654.0, 15655.0, 15658.0, 15659.0, 15663.0, 15664.0, 15667.0, 15669.0, 15670.0, 15675.0, 15677.0, 15678.0, 15680.0, 15683.0, 15689.0, 15690.0, 15692.0, 15695.0, 15699.0, 15705.0, 15709.0, 15713.0, 15714.0, 15717.0, 15721.0, 15724.0, 15725.0, 15729.0, 15732.0, 15733.0, 15734.0, 15740.0, 15746.0, 15748.0, 15754.0, 15757.0, 15758.0, 15759.0, 15762.0, 15766.0, 15768.0, 15774.0, 15775.0, 15776.0, 15777.0, 15780.0, 15781.0, 15782.0, 15783.0, 15789.0, 15790.0, 15795.0, 15806.0, 15807.0, 15809.0, 15812.0, 15813.0, 15820.0, 15822.0, 15825.0, 15830.0, 15836.0, 15837.0, 15840.0, 15841.0, 15843.0, 15844.0, 15847.0, 15852.0, 15853.0, 15857.0, 15863.0, 15865.0, 15866.0, 15869.0, 15881.0, 15882.0, 15885.0, 15886.0, 15888.0, 15889.0, 15895.0, 15897.0, 15898.0, 15900.0, 15909.0, 15912.0, 15917.0, 15921.0, 15925.0, 15930.0, 15935.0, 15937.0, 15938.0, 15940.0, 15942.0, 15944.0, 15949.0, 15957.0, 15958.0, 15963.0, 15969.0, 15970.0, 15975.0, 15977.0, 15978.0, 15985.0, 15986.0, 15988.0, 15992.0, 15994.0, 16006.0, 16008.0, 16017.0, 16018.0, 16020.0, 16024.0, 16025.0, 16026.0, 16030.0, 16034.0, 16037.0, 16038.0, 16043.0, 16050.0, 16052.0, 16055.0, 16056.0, 16063.0, 16070.0, 16071.0, 16072.0, 16080.0, 16086.0, 16091.0, 16096.0, 16097.0, 16099.0, 16104.0, 16105.0, 16106.0, 16108.0, 16112.0, 16113.0, 16114.0, 16116.0, 16117.0, 16119.0, 16120.0, 16122.0, 16123.0, 16124.0, 16127.0, 16134.0, 16135.0, 16136.0, 16139.0, 16140.0, 16142.0, 16146.0, 16147.0, 16149.0, 16157.0, 16159.0, 16162.0, 16164.0, 16171.0, 16177.0, 16178.0, 16179.0, 16181.0, 16183.0, 16184.0, 16185.0, 16189.0, 16190.0, 16193.0, 16198.0, 16202.0, 16203.0, 16204.0, 16207.0, 16209.0, 16213.0, 16215.0, 16216.0, 16217.0, 16229.0, 16230.0, 16232.0, 16233.0, 16236.0, 16239.0, 16244.0, 16247.0, 16248.0, 16250.0, 16257.0, 16260.0, 16268.0, 16272.0, 16275.0, 16278.0, 16282.0, 16292.0, 16297.0, 16298.0, 16302.0, 16305.0, 16306.0, 16309.0, 16311.0, 16313.0, 16315.0, 16318.0, 16325.0, 16330.0, 16337.0, 16338.0, 16339.0, 16342.0, 16343.0, 16345.0, 16349.0, 16351.0, 16352.0, 16354.0, 16356.0, 16357.0, 16363.0, 16366.0, 16378.0, 16384.0, 16385.0, 16387.0, 16400.0, 16403.0, 16404.0, 16406.0, 16411.0, 16412.0, 16413.0, 16414.0, 16415.0, 16416.0, 16423.0, 16425.0, 16427.0, 16433.0, 16441.0, 16446.0, 16447.0, 16448.0, 16449.0, 16450.0, 16451.0, 16454.0, 16457.0, 16461.0, 16462.0, 16471.0, 16473.0, 16475.0, 16478.0, 16479.0, 16480.0, 16482.0, 16483.0, 16484.0, 16485.0, 16488.0, 16491.0, 16498.0, 16499.0, 16500.0, 16506.0, 16509.0, 16513.0, 16516.0, 16517.0, 16519.0, 16526.0, 16527.0, 16528.0, 16529.0, 16535.0, 16539.0, 16542.0, 16546.0, 16551.0, 16552.0, 16555.0, 16557.0, 16561.0, 16566.0, 16567.0, 16569.0, 16574.0, 16581.0, 16584.0, 16587.0, 16589.0, 16591.0, 16593.0, 16596.0, 16597.0, 16598.0, 16601.0, 16602.0, 16603.0, 16610.0, 16611.0, 16613.0, 16614.0, 16616.0, 16619.0, 16620.0, 16621.0, 16623.0, 16624.0, 16625.0, 16627.0, 16641.0, 16642.0, 16643.0, 16647.0, 16648.0, 16650.0, 16653.0, 16654.0, 16665.0, 16666.0, 16668.0, 16680.0, 16681.0, 16689.0, 16690.0, 16697.0, 16708.0, 16715.0, 16720.0, 16723.0, 16732.0, 16734.0, 16738.0, 16739.0, 16747.0, 16756.0, 16757.0, 16758.0, 16759.0, 16761.0, 16763.0, 16765.0, 16766.0, 16773.0, 16778.0, 16784.0, 16789.0, 16792.0, 16793.0, 16796.0, 16803.0, 16808.0, 16810.0, 16811.0, 16812.0, 16816.0, 16820.0, 16823.0, 16824.0, 16825.0, 16826.0, 16828.0, 16829.0, 16830.0, 16832.0, 16834.0, 16835.0, 16836.0, 16838.0, 16846.0, 16847.0, 16848.0, 16849.0, 16850.0, 16851.0, 16852.0, 16855.0, 16856.0, 16863.0, 16866.0, 16878.0, 16882.0, 16883.0, 16884.0, 16902.0, 16909.0, 16913.0, 16934.0, 16936.0, 16943.0, 16947.0, 16950.0, 16952.0, 16953.0, 16955.0, 16956.0, 16957.0, 16959.0, 16961.0, 16963.0, 16965.0, 16967.0, 16968.0, 16978.0, 16982.0, 16988.0, 16996.0, 16999.0, 17004.0, 17006.0, 17010.0, 17011.0, 17018.0, 17022.0, 17030.0, 17031.0, 17033.0, 17034.0, 17035.0, 17038.0, 17040.0, 17045.0, 17046.0, 17048.0, 17053.0, 17076.0, 17078.0, 17094.0, 17100.0, 17101.0, 17102.0, 17110.0, 17111.0, 17115.0, 17117.0, 17118.0, 17119.0, 17120.0, 17122.0, 17124.0, 17125.0, 17128.0, 17134.0, 17135.0, 17138.0, 17140.0, 17142.0, 17144.0, 17146.0, 17148.0, 17153.0, 17154.0, 17155.0, 17157.0, 17165.0, 17166.0, 17169.0, 17171.0, 17172.0, 17174.0, 17176.0, 17181.0, 17187.0, 17190.0, 17194.0, 17197.0, 17201.0, 17206.0, 17217.0, 17219.0, 17222.0, 17223.0, 17226.0, 17227.0, 17232.0, 17233.0, 17234.0, 17235.0, 17237.0, 17239.0, 17242.0, 17244.0, 17245.0, 17247.0, 17248.0, 17253.0, 17256.0, 17259.0, 17263.0, 17274.0, 17278.0, 17279.0, 17286.0, 17297.0, 17298.0, 17301.0, 17309.0, 17324.0, 17325.0, 17329.0, 17333.0, 17339.0, 17341.0, 17343.0, 17344.0, 17349.0, 17351.0, 17356.0, 17357.0, 17359.0, 17361.0, 17362.0, 17370.0, 17374.0, 17376.0, 17379.0, 17384.0, 17385.0, 17398.0, 17402.0, 17403.0, 17408.0, 17409.0, 17411.0, 17415.0, 17418.0, 17420.0, 17423.0, 17425.0, 17429.0, 17430.0, 17436.0, 17438.0, 17446.0, 17447.0, 17453.0, 17455.0, 17456.0, 17458.0, 17460.0, 17462.0, 17466.0, 17468.0, 17475.0, 17480.0, 17483.0, 17486.0, 17489.0, 17492.0, 17495.0, 17496.0, 17498.0, 17499.0, 17501.0, 17502.0, 17503.0, 17506.0, 17510.0, 17517.0, 17520.0, 17521.0, 17523.0, 17524.0, 17525.0, 17527.0, 17531.0, 17534.0, 17535.0, 17536.0, 17538.0, 17540.0, 17542.0, 17548.0, 17552.0, 17556.0, 17557.0, 17560.0, 17561.0, 17564.0, 17569.0, 17572.0, 17573.0, 17574.0, 17582.0, 17584.0, 17597.0, 17600.0, 17601.0, 17603.0, 17615.0, 17620.0, 17623.0, 17628.0, 17630.0, 17631.0, 17636.0, 17637.0, 17639.0, 17642.0, 17647.0, 17649.0, 17650.0, 17653.0, 17654.0, 17658.0, 17664.0, 17668.0, 17670.0, 17674.0, 17678.0, 17680.0, 17684.0, 17691.0, 17693.0, 17694.0, 17695.0, 17697.0, 17698.0, 17701.0, 17704.0, 17709.0, 17711.0, 17712.0, 17714.0, 17718.0, 17720.0, 17724.0, 17727.0, 17733.0, 17734.0, 17736.0, 17737.0, 17739.0, 17742.0, 17746.0, 17749.0, 17760.0, 17761.0, 17767.0, 17770.0, 17772.0, 17781.0, 17785.0, 17789.0, 17791.0, 17793.0, 17806.0, 17816.0, 17817.0, 17824.0, 17830.0, 17831.0, 17836.0, 17839.0, 17843.0, 17849.0, 17852.0, 17854.0, 17859.0, 17862.0, 17869.0, 17871.0, 17873.0, 17877.0, 17878.0, 17879.0, 17880.0, 17881.0, 17885.0, 17887.0, 17889.0, 17891.0, 17892.0, 17893.0, 17895.0, 17898.0, 17899.0, 17900.0, 17901.0, 17904.0, 17906.0, 17911.0, 17926.0, 17928.0, 17934.0, 17935.0, 17939.0, 17946.0, 17947.0, 17955.0, 17956.0, 17957.0, 17960.0, 17962.0, 17969.0, 17970.0, 17972.0, 17973.0, 17977.0, 17980.0, 17985.0, 17986.0, 17987.0, 17990.0, 17991.0, 18006.0, 18009.0, 18010.0, 18013.0, 18014.0, 18018.0, 18019.0, 18024.0, 18027.0, 18030.0, 18032.0, 18033.0, 18037.0, 18040.0, 18042.0, 18045.0, 18048.0, 18050.0, 18053.0, 18056.0, 18059.0, 18061.0, 18062.0, 18066.0, 18067.0, 18071.0, 18072.0, 18078.0, 18081.0, 18082.0, 18085.0, 18086.0, 18088.0, 18095.0, 18099.0, 18104.0, 18105.0, 18108.0, 18110.0, 18112.0, 18114.0, 18117.0, 18120.0, 18121.0, 18123.0, 18129.0, 18130.0, 18135.0, 18136.0, 18138.0, 18146.0, 18149.0, 18150.0, 18151.0, 18154.0, 18155.0, 18156.0, 18158.0, 18159.0, 18160.0, 18164.0, 18167.0, 18169.0, 18170.0, 18176.0, 18181.0, 18183.0, 18185.0, 18190.0, 18192.0, 18193.0, 18200.0, 18203.0, 18205.0, 18209.0, 18211.0, 18213.0, 18215.0, 18216.0, 18217.0, 18218.0, 18222.0, 18224.0, 18227.0, 18228.0, 18232.0, 18248.0, 18249.0, 18250.0, 18255.0, 18259.0, 18261.0, 18262.0, 18268.0, 18270.0, 18274.0, 18276.0, 18278.0, 18280.0, 18281.0, 18282.0]\n",
      "\n",
      "\n",
      "Cluster 1: \n",
      "[12823.0, 12829.0, 12830.0, 12863.0, 12864.0, 12873.0, 12875.0, 12879.0, 12882.0, 12888.0, 12891.0, 12897.0, 12901.0, 12908.0, 12912.0, 12917.0, 12931.0, 12939.0, 12950.0, 12967.0, 12980.0, 12989.0, 12995.0, 13017.0, 13027.0, 13029.0, 13049.0, 13062.0, 13068.0, 13082.0, 13094.0, 13099.0, 13104.0, 13106.0, 13120.0, 13130.0, 13135.0, 13145.0, 13147.0, 13153.0, 13169.0, 13185.0, 13188.0, 13216.0, 13217.0, 13223.0, 13225.0, 13228.0, 13253.0, 13260.0, 13261.0, 13277.0, 13298.0, 13302.0, 13316.0, 13321.0, 13324.0, 13325.0, 13328.0, 13329.0, 13347.0, 13366.0, 13391.0, 13414.0, 13434.0, 13461.0, 13489.0, 13525.0, 13587.0, 13629.0, 13631.0, 13645.0, 13685.0, 13689.0, 13703.0, 13712.0, 13739.0, 13743.0, 13750.0, 13762.0, 13763.0, 13784.0, 13791.0, 13802.0, 13805.0, 13841.0, 13845.0, 13848.0, 13856.0, 13868.0, 13877.0, 13918.0, 13929.0, 13941.0, 13946.0, 13948.0, 13953.0, 13967.0, 13984.0, 14001.0, 14045.0, 14053.0, 14055.0, 14062.0, 14090.0, 14101.0, 14111.0, 14113.0, 14117.0, 14124.0, 14126.0, 14145.0, 14147.0, 14164.0, 14195.0, 14196.0, 14199.0, 14212.0, 14258.0, 14285.0, 14287.0, 14301.0, 14306.0, 14351.0, 14377.0, 14403.0, 14411.0, 14423.0, 14424.0, 14434.0, 14457.0, 14460.0, 14463.0, 14477.0, 14500.0, 14513.0, 14520.0, 14522.0, 14533.0, 14548.0, 14557.0, 14603.0, 14607.0, 14608.0, 14609.0, 14616.0, 14676.0, 14681.0, 14682.0, 14687.0, 14705.0, 14737.0, 14739.0, 14752.0, 14764.0, 14782.0, 14785.0, 14828.0, 14865.0, 14866.0, 14882.0, 14885.0, 14887.0, 14967.0, 14987.0, 15030.0, 15032.0, 15043.0, 15049.0, 15057.0, 15063.0, 15100.0, 15101.0, 15118.0, 15158.0, 15160.0, 15171.0, 15181.0, 15195.0, 15199.0, 15204.0, 15206.0, 15216.0, 15222.0, 15247.0, 15251.0, 15267.0, 15269.0, 15270.0, 15286.0, 15299.0, 15313.0, 15316.0, 15330.0, 15333.0, 15341.0, 15361.0, 15368.0, 15372.0, 15374.0, 15381.0, 15389.0, 15400.0, 15405.0, 15423.0, 15442.0, 15473.0, 15482.0, 15488.0, 15497.0, 15510.0, 15524.0, 15562.0, 15587.0, 15603.0, 15619.0, 15621.0, 15649.0, 15653.0, 15657.0, 15661.0, 15668.0, 15691.0, 15703.0, 15739.0, 15744.0, 15749.0, 15753.0, 15769.0, 15773.0, 15793.0, 15797.0, 15802.0, 15803.0, 15815.0, 15838.0, 15864.0, 15894.0, 15939.0, 15945.0, 15947.0, 15971.0, 15980.0, 16000.0, 16013.0, 16027.0, 16029.0, 16041.0, 16073.0, 16078.0, 16079.0, 16083.0, 16093.0, 16107.0, 16109.0, 16144.0, 16148.0, 16152.0, 16160.0, 16163.0, 16174.0, 16182.0, 16210.0, 16226.0, 16227.0, 16256.0, 16276.0, 16281.0, 16287.0, 16308.0, 16319.0, 16323.0, 16333.0, 16344.0, 16377.0, 16380.0, 16389.0, 16402.0, 16405.0, 16424.0, 16429.0, 16430.0, 16432.0, 16468.0, 16505.0, 16532.0, 16545.0, 16553.0, 16563.0, 16565.0, 16582.0, 16586.0, 16617.0, 16634.0, 16656.0, 16659.0, 16660.0, 16671.0, 16682.0, 16684.0, 16692.0, 16696.0, 16698.0, 16711.0, 16716.0, 16737.0, 16742.0, 16751.0, 16861.0, 16872.0, 16881.0, 16917.0, 16927.0, 16948.0, 16966.0, 16976.0, 16986.0, 16989.0, 16990.0, 16997.0, 16998.0, 17024.0, 17025.0, 17026.0, 17029.0, 17044.0, 17060.0, 17079.0, 17080.0, 17123.0, 17133.0, 17152.0, 17163.0, 17186.0, 17193.0, 17205.0, 17212.0, 17262.0, 17268.0, 17291.0, 17306.0, 17312.0, 17313.0, 17317.0, 17330.0, 17331.0, 17334.0, 17347.0, 17353.0, 17354.0, 17381.0, 17382.0, 17386.0, 17388.0, 17391.0, 17394.0, 17396.0, 17414.0, 17427.0, 17440.0, 17450.0, 17457.0, 17464.0, 17500.0, 17513.0, 17526.0, 17549.0, 17553.0, 17578.0, 17588.0, 17616.0, 17621.0, 17640.0, 17666.0, 17679.0, 17707.0, 17715.0, 17723.0, 17747.0, 17752.0, 17763.0, 17775.0, 17788.0, 17805.0, 17809.0, 17819.0, 17846.0, 17856.0, 17857.0, 17866.0, 17896.0, 17905.0, 17923.0, 17924.0, 17929.0, 17930.0, 17937.0, 17940.0, 17941.0, 17942.0, 17948.0, 17949.0, 17951.0, 17958.0, 17978.0, 17995.0, 18008.0, 18017.0, 18058.0, 18064.0, 18068.0, 18080.0, 18084.0, 18087.0, 18092.0, 18093.0, 18102.0, 18133.0, 18142.0, 18144.0, 18147.0, 18165.0, 18173.0, 18174.0, 18184.0, 18191.0, 18194.0, 18220.0, 18233.0, 18240.0, 18246.0, 18251.0, 18273.0]\n",
      "\n",
      "\n"
     ]
    },
    {
     "name": "stdout",
     "output_type": "stream",
     "text": [
      "Cluster 2: \n",
      "[12747.0, 12748.0, 12749.0, 12820.0, 12826.0, 12828.0, 12836.0, 12838.0, 12839.0, 12840.0, 12841.0, 12843.0, 12844.0, 12849.0, 12851.0, 12853.0, 12854.0, 12856.0, 12867.0, 12868.0, 12872.0, 12877.0, 12878.0, 12885.0, 12886.0, 12890.0, 12904.0, 12909.0, 12910.0, 12916.0, 12919.0, 12921.0, 12928.0, 12933.0, 12935.0, 12937.0, 12940.0, 12942.0, 12947.0, 12948.0, 12949.0, 12951.0, 12952.0, 12955.0, 12957.0, 12963.0, 12965.0, 12970.0, 12971.0, 12985.0, 12988.0, 12994.0, 12997.0, 13001.0, 13004.0, 13012.0, 13013.0, 13014.0, 13015.0, 13018.0, 13021.0, 13032.0, 13037.0, 13040.0, 13047.0, 13048.0, 13050.0, 13055.0, 13064.0, 13066.0, 13069.0, 13077.0, 13078.0, 13081.0, 13089.0, 13090.0, 13093.0, 13097.0, 13098.0, 13102.0, 13107.0, 13109.0, 13110.0, 13113.0, 13115.0, 13117.0, 13118.0, 13121.0, 13122.0, 13124.0, 13126.0, 13134.0, 13136.0, 13137.0, 13138.0, 13139.0, 13141.0, 13148.0, 13149.0, 13151.0, 13157.0, 13158.0, 13159.0, 13162.0, 13166.0, 13167.0, 13168.0, 13171.0, 13174.0, 13176.0, 13178.0, 13183.0, 13184.0, 13186.0, 13192.0, 13196.0, 13198.0, 13199.0, 13208.0, 13209.0, 13211.0, 13212.0, 13213.0, 13221.0, 13224.0, 13230.0, 13232.0, 13240.0, 13243.0, 13246.0, 13259.0, 13263.0, 13265.0, 13266.0, 13267.0, 13268.0, 13269.0, 13271.0, 13280.0, 13285.0, 13294.0, 13297.0, 13301.0, 13305.0, 13308.0, 13309.0, 13310.0, 13313.0, 13314.0, 13317.0, 13319.0, 13320.0, 13327.0, 13330.0, 13334.0, 13339.0, 13340.0, 13344.0, 13357.0, 13362.0, 13365.0, 13373.0, 13376.0, 13379.0, 13381.0, 13384.0, 13389.0, 13394.0, 13408.0, 13418.0, 13421.0, 13422.0, 13425.0, 13426.0, 13435.0, 13437.0, 13439.0, 13447.0, 13448.0, 13450.0, 13451.0, 13456.0, 13458.0, 13467.0, 13468.0, 13471.0, 13474.0, 13475.0, 13476.0, 13477.0, 13481.0, 13486.0, 13488.0, 13491.0, 13500.0, 13507.0, 13509.0, 13510.0, 13515.0, 13517.0, 13521.0, 13523.0, 13527.0, 13532.0, 13533.0, 13534.0, 13536.0, 13544.0, 13546.0, 13548.0, 13549.0, 13552.0, 13555.0, 13558.0, 13560.0, 13562.0, 13566.0, 13568.0, 13571.0, 13576.0, 13577.0, 13583.0, 13588.0, 13590.0, 13591.0, 13593.0, 13596.0, 13599.0, 13601.0, 13606.0, 13607.0, 13610.0, 13611.0, 13614.0, 13623.0, 13627.0, 13630.0, 13632.0, 13634.0, 13635.0, 13636.0, 13637.0, 13642.0, 13644.0, 13647.0, 13650.0, 13652.0, 13654.0, 13656.0, 13658.0, 13659.0, 13662.0, 13667.0, 13668.0, 13673.0, 13680.0, 13681.0, 13684.0, 13692.0, 13694.0, 13695.0, 13700.0, 13704.0, 13707.0, 13708.0, 13709.0, 13715.0, 13717.0, 13719.0, 13722.0, 13725.0, 13728.0, 13730.0, 13735.0, 13736.0, 13742.0, 13744.0, 13752.0, 13755.0, 13756.0, 13758.0, 13760.0, 13761.0, 13764.0, 13767.0, 13769.0, 13771.0, 13772.0, 13777.0, 13780.0, 13782.0, 13790.0, 13798.0, 13804.0, 13808.0, 13821.0, 13822.0, 13827.0, 13831.0, 13835.0, 13838.0, 13842.0, 13846.0, 13849.0, 13850.0, 13851.0, 13854.0, 13860.0, 13862.0, 13867.0, 13869.0, 13870.0, 13871.0, 13875.0, 13880.0, 13881.0, 13882.0, 13883.0, 13884.0, 13890.0, 13895.0, 13901.0, 13908.0, 13911.0, 13924.0, 13931.0, 13939.0, 13949.0, 13952.0, 13956.0, 13959.0, 13969.0, 13971.0, 13975.0, 13982.0, 13983.0, 13985.0, 13988.0, 13991.0, 13993.0, 13994.0, 13995.0, 13999.0, 14004.0, 14005.0, 14019.0, 14030.0, 14031.0, 14032.0, 14034.0, 14035.0, 14037.0, 14038.0, 14040.0, 14044.0, 14048.0, 14049.0, 14051.0, 14056.0, 14057.0, 14060.0, 14064.0, 14067.0, 14071.0, 14076.0, 14077.0, 14078.0, 14081.0, 14082.0, 14083.0, 14085.0, 14087.0, 14088.0, 14092.0, 14093.0, 14096.0, 14099.0, 14102.0, 14105.0, 14107.0, 14110.0, 14112.0, 14116.0, 14121.0, 14125.0, 14127.0, 14128.0, 14129.0, 14130.0, 14132.0, 14135.0, 14140.0, 14146.0, 14152.0, 14154.0, 14157.0, 14159.0, 14161.0, 14167.0, 14171.0, 14175.0, 14178.0, 14179.0, 14180.0, 14188.0, 14189.0, 14191.0, 14194.0, 14204.0, 14209.0, 14210.0, 14211.0, 14214.0, 14215.0, 14216.0, 14217.0, 14221.0, 14223.0, 14224.0, 14226.0, 14227.0, 14231.0, 14232.0, 14234.0, 14235.0, 14239.0, 14243.0, 14245.0, 14246.0, 14250.0, 14251.0, 14256.0, 14257.0, 14262.0, 14267.0, 14276.0, 14282.0, 14286.0, 14289.0, 14290.0, 14291.0, 14292.0, 14298.0, 14299.0, 14305.0, 14307.0, 14309.0, 14312.0, 14315.0, 14321.0, 14329.0, 14334.0, 14336.0, 14341.0, 14344.0, 14346.0, 14360.0, 14364.0, 14367.0, 14375.0, 14379.0, 14381.0, 14382.0, 14383.0, 14387.0, 14388.0, 14389.0, 14390.0, 14395.0, 14397.0, 14401.0, 14404.0, 14407.0, 14408.0, 14409.0, 14410.0, 14414.0, 14415.0, 14418.0, 14419.0, 14422.0, 14426.0, 14428.0, 14432.0, 14440.0, 14441.0, 14443.0, 14446.0, 14447.0, 14449.0, 14450.0, 14451.0, 14452.0, 14456.0, 14461.0, 14462.0, 14465.0, 14466.0, 14467.0, 14470.0, 14472.0, 14482.0, 14485.0, 14487.0, 14493.0, 14498.0, 14499.0, 14502.0, 14503.0, 14504.0, 14505.0, 14506.0, 14507.0, 14511.0, 14514.0, 14515.0, 14524.0, 14525.0, 14527.0, 14529.0, 14530.0, 14532.0, 14534.0, 14535.0, 14540.0, 14541.0, 14543.0, 14544.0, 14546.0, 14547.0, 14549.0, 14553.0, 14554.0, 14560.0, 14561.0, 14562.0, 14565.0, 14572.0, 14573.0, 14577.0, 14583.0, 14584.0, 14587.0, 14591.0, 14592.0, 14593.0, 14595.0, 14597.0, 14606.0, 14621.0, 14623.0, 14625.0, 14626.0, 14629.0, 14639.0, 14640.0, 14649.0, 14651.0, 14653.0, 14655.0, 14656.0, 14657.0, 14659.0, 14662.0, 14664.0, 14665.0, 14667.0, 14669.0, 14670.0, 14672.0, 14673.0, 14675.0, 14680.0, 14684.0, 14688.0, 14691.0, 14692.0, 14696.0, 14698.0, 14700.0, 14701.0, 14702.0, 14704.0, 14709.0, 14710.0, 14711.0, 14713.0, 14715.0, 14716.0, 14719.0, 14723.0, 14730.0, 14731.0, 14732.0, 14733.0, 14735.0, 14738.0, 14740.0, 14741.0, 14745.0, 14755.0, 14758.0, 14759.0, 14766.0, 14769.0, 14770.0, 14776.0, 14779.0, 14790.0, 14794.0, 14796.0, 14800.0, 14801.0, 14803.0, 14805.0, 14808.0, 14810.0, 14815.0, 14817.0, 14818.0, 14823.0, 14825.0, 14834.0, 14837.0, 14841.0, 14842.0, 14844.0, 14849.0, 14852.0, 14854.0, 14856.0, 14857.0, 14859.0, 14868.0, 14869.0, 14871.0, 14878.0, 14880.0, 14883.0, 14895.0, 14896.0, 14897.0, 14898.0, 14901.0, 14903.0, 14904.0, 14907.0, 14913.0, 14916.0, 14921.0, 14944.0, 14948.0, 14952.0, 14959.0, 14961.0, 14963.0, 14965.0, 14971.0, 14976.0, 14978.0, 14985.0, 14995.0, 14998.0, 15000.0, 15002.0, 15004.0, 15005.0, 15006.0, 15009.0, 15012.0, 15019.0, 15021.0, 15022.0, 15023.0, 15024.0, 15025.0, 15026.0, 15031.0, 15033.0, 15034.0, 15036.0, 15038.0, 15039.0, 15041.0, 15044.0, 15046.0, 15048.0, 15050.0, 15051.0, 15053.0, 15054.0, 15058.0, 15059.0, 15060.0, 15061.0, 15062.0, 15065.0, 15067.0, 15068.0, 15069.0, 15073.0, 15078.0, 15079.0, 15088.0, 15089.0, 15093.0, 15104.0, 15105.0, 15106.0, 15111.0, 15113.0, 15114.0, 15117.0, 15122.0, 15123.0, 15125.0, 15128.0, 15129.0, 15132.0, 15134.0, 15136.0, 15140.0, 15144.0, 15145.0, 15146.0, 15150.0, 15152.0, 15154.0, 15156.0, 15157.0, 15159.0, 15164.0, 15167.0, 15172.0, 15179.0, 15184.0, 15187.0, 15189.0, 15192.0, 15194.0, 15201.0, 15203.0, 15208.0, 15211.0, 15214.0, 15218.0, 15220.0, 15227.0, 15228.0, 15235.0, 15237.0, 15240.0, 15241.0, 15245.0, 15249.0, 15252.0, 15253.0, 15255.0, 15260.0, 15265.0, 15271.0, 15272.0, 15274.0, 15276.0, 15281.0, 15288.0, 15289.0, 15290.0, 15291.0, 15296.0, 15298.0, 15301.0, 15306.0, 15311.0, 15312.0, 15321.0, 15325.0, 15329.0, 15334.0, 15339.0, 15349.0, 15351.0, 15353.0, 15356.0, 15358.0, 15365.0, 15366.0, 15367.0, 15370.0, 15373.0, 15376.0, 15379.0, 15382.0, 15384.0, 15392.0, 15394.0, 15398.0, 15406.0, 15407.0, 15410.0, 15411.0, 15415.0, 15416.0, 15421.0, 15426.0, 15427.0, 15429.0, 15433.0, 15434.0, 15436.0, 15437.0, 15440.0, 15443.0, 15444.0, 15449.0, 15452.0, 15453.0, 15456.0, 15457.0, 15460.0, 15464.0, 15465.0, 15466.0, 15467.0, 15471.0, 15472.0, 15483.0, 15484.0, 15485.0, 15491.0, 15493.0, 15494.0, 15498.0, 15500.0, 15502.0, 15503.0, 15505.0, 15506.0, 15507.0, 15508.0, 15511.0, 15513.0, 15514.0, 15518.0, 15521.0, 15522.0, 15525.0, 15527.0, 15529.0, 15530.0, 15531.0, 15532.0, 15533.0, 15535.0, 15539.0, 15544.0, 15547.0, 15549.0, 15550.0, 15555.0, 15563.0, 15568.0, 15570.0, 15571.0, 15572.0, 15573.0, 15574.0, 15576.0, 15579.0, 15581.0, 15582.0, 15584.0, 15594.0, 15596.0, 15599.0, 15601.0, 15605.0, 15606.0, 15615.0, 15620.0, 15622.0, 15625.0, 15626.0, 15628.0, 15630.0, 15632.0, 15640.0, 15641.0, 15644.0, 15656.0, 15660.0, 15665.0, 15671.0, 15673.0, 15674.0, 15676.0, 15679.0, 15681.0, 15687.0, 15694.0, 15696.0, 15700.0, 15701.0, 15704.0, 15706.0, 15707.0, 15708.0, 15712.0, 15716.0, 15719.0, 15720.0, 15722.0, 15723.0, 15727.0, 15730.0, 15737.0, 15738.0, 15743.0, 15745.0, 15747.0, 15750.0, 15752.0, 15755.0, 15756.0, 15763.0, 15764.0, 15785.0, 15786.0, 15787.0, 15791.0, 15796.0, 15799.0, 15800.0, 15801.0, 15804.0, 15805.0, 15808.0, 15810.0, 15811.0, 15814.0, 15819.0, 15821.0, 15826.0, 15827.0, 15829.0, 15831.0, 15832.0, 15834.0, 15835.0, 15839.0, 15845.0, 15850.0, 15854.0, 15855.0, 15856.0, 15858.0, 15860.0, 15861.0, 15862.0, 15867.0, 15870.0, 15872.0, 15874.0, 15877.0, 15883.0, 15891.0, 15901.0, 15903.0, 15904.0, 15906.0, 15907.0, 15910.0, 15916.0, 15918.0, 15919.0, 15920.0, 15932.0, 15933.0, 15948.0, 15950.0, 15951.0, 15952.0, 15953.0, 15955.0, 15965.0, 15967.0, 15974.0, 15976.0, 15981.0, 15983.0, 15984.0, 15987.0, 15990.0, 15993.0, 15996.0, 15998.0, 16003.0, 16005.0, 16007.0, 16009.0, 16010.0, 16011.0, 16012.0, 16014.0, 16015.0, 16016.0, 16019.0, 16022.0, 16023.0, 16031.0, 16033.0, 16036.0, 16040.0, 16042.0, 16045.0, 16049.0, 16053.0, 16054.0, 16057.0, 16059.0, 16062.0, 16065.0, 16066.0, 16076.0, 16081.0, 16084.0, 16085.0, 16092.0, 16094.0, 16098.0, 16101.0, 16102.0, 16103.0, 16110.0, 16115.0, 16121.0, 16126.0, 16128.0, 16131.0, 16133.0, 16143.0, 16145.0, 16150.0, 16153.0, 16156.0, 16161.0, 16168.0, 16169.0, 16170.0, 16172.0, 16173.0, 16175.0, 16180.0, 16186.0, 16187.0, 16188.0, 16191.0, 16200.0, 16201.0, 16205.0, 16206.0, 16208.0, 16212.0, 16214.0, 16218.0, 16221.0, 16222.0, 16224.0, 16225.0, 16235.0, 16240.0, 16241.0, 16242.0, 16243.0, 16245.0, 16249.0, 16253.0, 16255.0, 16258.0, 16261.0, 16265.0, 16266.0, 16270.0, 16271.0, 16279.0, 16283.0, 16284.0, 16293.0, 16295.0, 16303.0, 16316.0, 16317.0, 16322.0, 16324.0, 16326.0, 16327.0, 16332.0, 16340.0, 16341.0, 16347.0, 16348.0, 16350.0, 16353.0, 16358.0, 16359.0, 16360.0, 16361.0, 16362.0, 16364.0, 16365.0, 16367.0, 16368.0, 16369.0, 16370.0, 16372.0, 16374.0, 16376.0, 16379.0, 16383.0, 16386.0, 16392.0, 16393.0, 16394.0, 16395.0, 16398.0, 16399.0, 16401.0, 16407.0, 16409.0, 16418.0, 16419.0, 16422.0, 16426.0, 16431.0, 16434.0, 16438.0, 16440.0, 16442.0, 16444.0, 16445.0, 16455.0, 16456.0, 16458.0, 16460.0, 16463.0, 16464.0, 16466.0, 16469.0, 16470.0, 16474.0, 16477.0, 16493.0, 16494.0, 16495.0, 16496.0, 16497.0, 16503.0, 16504.0, 16511.0, 16515.0, 16518.0, 16520.0, 16523.0, 16525.0, 16531.0, 16533.0, 16536.0, 16549.0, 16550.0, 16554.0, 16556.0, 16558.0, 16560.0, 16570.0, 16571.0, 16572.0, 16573.0, 16592.0, 16594.0, 16595.0, 16600.0, 16607.0, 16609.0, 16612.0, 16618.0, 16626.0, 16628.0, 16629.0, 16633.0, 16637.0, 16638.0, 16639.0, 16644.0, 16652.0, 16655.0, 16657.0, 16667.0, 16669.0, 16670.0, 16672.0, 16674.0, 16676.0, 16678.0, 16685.0, 16686.0, 16688.0, 16693.0, 16700.0, 16701.0, 16705.0, 16706.0, 16709.0, 16710.0, 16712.0, 16713.0, 16714.0, 16717.0, 16719.0, 16721.0, 16722.0, 16725.0, 16726.0, 16727.0, 16728.0, 16729.0, 16730.0, 16735.0, 16743.0, 16744.0, 16745.0, 16746.0, 16748.0, 16750.0, 16755.0, 16762.0, 16764.0, 16767.0, 16768.0, 16769.0, 16770.0, 16771.0, 16774.0, 16775.0, 16776.0, 16777.0, 16779.0, 16780.0, 16782.0, 16788.0, 16790.0, 16791.0, 16794.0, 16795.0, 16800.0, 16801.0, 16804.0, 16805.0, 16806.0, 16807.0, 16809.0, 16813.0, 16814.0, 16817.0, 16818.0, 16833.0, 16837.0, 16839.0, 16841.0, 16842.0, 16843.0, 16859.0, 16869.0, 16871.0, 16873.0, 16875.0, 16877.0, 16880.0, 16885.0, 16887.0, 16889.0, 16891.0, 16892.0, 16895.0, 16897.0, 16898.0, 16899.0, 16900.0, 16903.0, 16904.0, 16905.0, 16906.0, 16907.0, 16910.0, 16912.0, 16914.0, 16915.0, 16916.0, 16918.0, 16919.0, 16921.0, 16923.0, 16924.0, 16928.0, 16929.0, 16930.0, 16931.0, 16932.0, 16933.0, 16938.0, 16940.0, 16942.0, 16945.0, 16949.0, 16951.0, 16954.0, 16960.0, 16969.0, 16971.0, 16979.0, 16980.0, 16983.0, 16984.0, 16985.0, 16987.0, 16992.0, 17001.0, 17002.0, 17007.0, 17014.0, 17015.0, 17017.0, 17019.0, 17027.0, 17037.0, 17041.0, 17042.0, 17043.0, 17047.0, 17049.0, 17050.0, 17051.0, 17052.0, 17054.0, 17058.0, 17059.0, 17061.0, 17062.0, 17063.0, 17064.0, 17068.0, 17069.0, 17070.0, 17071.0, 17073.0, 17075.0, 17081.0, 17082.0, 17083.0, 17084.0, 17085.0, 17086.0, 17088.0, 17090.0, 17091.0, 17092.0, 17095.0, 17096.0, 17105.0, 17107.0, 17109.0, 17114.0, 17126.0, 17131.0, 17139.0, 17147.0, 17158.0, 17159.0, 17160.0, 17162.0, 17164.0, 17173.0, 17175.0, 17179.0, 17180.0, 17183.0, 17188.0, 17189.0, 17191.0, 17198.0, 17203.0, 17204.0, 17211.0, 17213.0, 17214.0, 17218.0, 17220.0, 17221.0, 17228.0, 17229.0, 17230.0, 17231.0, 17236.0, 17238.0, 17243.0, 17250.0, 17251.0, 17252.0, 17254.0, 17255.0, 17265.0, 17266.0, 17267.0, 17272.0, 17277.0, 17282.0, 17284.0, 17287.0, 17288.0, 17289.0, 17290.0, 17293.0, 17295.0, 17299.0, 17302.0, 17303.0, 17311.0, 17314.0, 17315.0, 17320.0, 17321.0, 17323.0, 17337.0, 17338.0, 17340.0, 17345.0, 17346.0, 17348.0, 17350.0, 17358.0, 17360.0, 17364.0, 17365.0, 17367.0, 17368.0, 17371.0, 17372.0, 17373.0, 17375.0, 17377.0, 17383.0, 17387.0, 17389.0, 17392.0, 17397.0, 17400.0, 17405.0, 17406.0, 17410.0, 17412.0, 17416.0, 17419.0, 17422.0, 17426.0, 17428.0, 17431.0, 17432.0, 17434.0, 17442.0, 17449.0, 17451.0, 17454.0, 17459.0, 17461.0, 17463.0, 17469.0, 17470.0, 17472.0, 17481.0, 17490.0, 17491.0, 17504.0, 17505.0, 17507.0, 17509.0, 17511.0, 17512.0, 17514.0, 17515.0, 17516.0, 17519.0, 17522.0, 17528.0, 17530.0, 17537.0, 17545.0, 17550.0, 17551.0, 17554.0, 17555.0, 17562.0, 17566.0, 17567.0, 17571.0, 17576.0, 17579.0, 17580.0, 17581.0, 17585.0, 17589.0, 17590.0, 17591.0, 17593.0, 17594.0, 17595.0, 17596.0, 17602.0, 17604.0, 17608.0, 17609.0, 17611.0, 17612.0, 17613.0, 17614.0, 17618.0, 17619.0, 17624.0, 17625.0, 17629.0, 17633.0, 17634.0, 17644.0, 17646.0, 17648.0, 17651.0, 17652.0, 17655.0, 17656.0, 17659.0, 17660.0, 17663.0, 17667.0, 17669.0, 17671.0, 17672.0, 17673.0, 17675.0, 17676.0, 17677.0, 17682.0, 17685.0, 17686.0, 17690.0, 17692.0, 17696.0, 17700.0, 17702.0, 17703.0, 17705.0, 17706.0, 17708.0, 17716.0, 17719.0, 17722.0, 17725.0, 17728.0, 17730.0, 17731.0, 17735.0, 17738.0, 17744.0, 17750.0, 17754.0, 17757.0, 17758.0, 17759.0, 17764.0, 17765.0, 17768.0, 17769.0, 17771.0, 17774.0, 17777.0, 17779.0, 17783.0, 17786.0, 17787.0, 17790.0, 17795.0, 17796.0, 17797.0, 17799.0, 17800.0, 17802.0, 17811.0, 17812.0, 17813.0, 17827.0, 17832.0, 17835.0, 17837.0, 17838.0, 17841.0, 17848.0, 17858.0, 17861.0, 17863.0, 17864.0, 17865.0, 17867.0, 17870.0, 17874.0, 17883.0, 17884.0, 17886.0, 17888.0, 17890.0, 17894.0, 17897.0, 17912.0, 17913.0, 17914.0, 17917.0, 17920.0, 17921.0, 17931.0, 17932.0, 17936.0, 17950.0, 17954.0, 17961.0, 17964.0, 17965.0, 17966.0, 17974.0, 17975.0, 17979.0, 17984.0, 17988.0, 17994.0, 17997.0, 17999.0, 18001.0, 18004.0, 18005.0, 18015.0, 18016.0, 18022.0, 18034.0, 18035.0, 18036.0, 18041.0, 18043.0, 18044.0, 18055.0, 18065.0, 18069.0, 18073.0, 18075.0, 18077.0, 18079.0, 18094.0, 18096.0, 18097.0, 18101.0, 18106.0, 18109.0, 18116.0, 18118.0, 18122.0, 18125.0, 18126.0, 18127.0, 18139.0, 18143.0, 18145.0, 18161.0, 18168.0, 18171.0, 18172.0, 18177.0, 18178.0, 18179.0, 18180.0, 18188.0, 18189.0, 18196.0, 18198.0, 18202.0, 18204.0, 18210.0, 18212.0, 18219.0, 18221.0, 18223.0, 18225.0, 18226.0, 18229.0, 18230.0, 18231.0, 18235.0, 18236.0, 18237.0, 18239.0, 18241.0, 18242.0, 18245.0, 18252.0, 18257.0, 18260.0, 18263.0, 18265.0, 18272.0, 18283.0, 18287.0]\n",
      "\n",
      "\n"
     ]
    }
   ],
   "source": [
    "#Run the kmeans clustering on the normalised \n",
    "stdCluster = cluster.KMeans(n_clusters = 3, init='k-means++',)\n",
    "stdCluster.fit(customersLog)\n",
    "\n",
    "labels = stdCluster.predict(customersLog)\n",
    "\n",
    "print('Cluster 0: \\n' + str([customersLog.index[i] for i,item in enumerate(labels) if item==0]))\n",
    "print( '\\n')\n",
    "print('Cluster 1: \\n' + str([customersLog.index[i] for i,item in enumerate(labels) if item==1]))\n",
    "print( '\\n')\n",
    "print('Cluster 2: \\n' + str([customersLog.index[i] for i,item in enumerate(labels) if item==2]))\n",
    "print( '\\n')"
   ]
  },
  {
   "cell_type": "markdown",
   "metadata": {},
   "source": [
    "I used a Principal Component Analysis (PCA) in order to identify patterns on a smaller scale that is easier to visualise and interpret by reducing the dataset. This should reperesent the overall data well with minimal loss of information.\n",
    "\n",
    "I gave a reference plot of the data to base the clustering off of, to check how well the labels predict and cluster the model.\n",
    "\n",
    "I also describe each of the clusters to help interpet the visulaisations of the clusters, and see where the clusters are occuring.\n",
    "\n",
    "I do this for bot the normalised and non-normalised data."
   ]
  },
  {
   "cell_type": "code",
   "execution_count": 27,
   "metadata": {},
   "outputs": [
    {
     "data": {
      "text/plain": [
       "<matplotlib.collections.PathCollection at 0x114b26630>"
      ]
     },
     "execution_count": 27,
     "metadata": {},
     "output_type": "execute_result"
    },
    {
     "data": {
      "image/png": "[encoded data removed]",
      "text/plain": [
       "<matplotlib.figure.Figure at 0x12896b048>"
      ]
     },
     "metadata": {},
     "output_type": "display_data"
    }
   ],
   "source": [
    "#Use a PCA to reduce the dimensions of the dataset into something that represents the overall data well\n",
    "pca = PCA(n_components=2).fit(customersLog)\n",
    "#First look at the normalised data\n",
    "pca_2d = pca.transform(customersLog)\n",
    "#Use this scatter plot as a reference for the clustering prediction\n",
    "plt.title('Reference Plot')\n",
    "plt.scatter(pca_2d[:, 0], pca_2d[:, 1])"
   ]
  },
  {
   "cell_type": "code",
   "execution_count": 28,
   "metadata": {},
   "outputs": [
    {
     "data": {
      "image/png": "[encoded data removed]",
      "text/plain": [
       "<matplotlib.figure.Figure at 0x114b7a518>"
      ]
     },
     "metadata": {},
     "output_type": "display_data"
    }
   ],
   "source": [
    "#Loop through each point in the dataframe\n",
    "for i in range(0, customersLog.shape[0]):\n",
    "    #If its label is a part of cluster 0, plot in red and as +\n",
    "    if labels[i] == 0:\n",
    "        c1 = plt.scatter(pca_2d[i,0],pca_2d[i,1],c='r',marker='+')\n",
    "    #If its label is a part of cluster 1, plot in green and as o\n",
    "    elif labels[i] == 1:\n",
    "        c2 = plt.scatter(pca_2d[i,0],pca_2d[i,1],c='g', marker='o')\n",
    "    #If its label is a part of cluster 2, plot in blue and as *\n",
    "    elif labels[i] == 2:  \n",
    "        c3 = plt.scatter(pca_2d[i,0],pca_2d[i,1],c='b', marker='*')\n",
    "plt.legend([c1, c2, c3],['Cluster 0', 'Cluster 1', 'Cluster 2'])\n",
    "plt.title('K-means clusters for customer spending')\n",
    "#Plot the clusters\n",
    "plt.show()\n"
   ]
  },
  {
   "cell_type": "code",
   "execution_count": 29,
   "metadata": {},
   "outputs": [
    {
     "data": {
      "text/html": [
       "<div>\n",
       "<style>\n",
       "    .dataframe thead tr:only-child th {\n",
       "        text-align: right;\n",
       "    }\n",
       "\n",
       "    .dataframe thead th {\n",
       "        text-align: left;\n",
       "    }\n",
       "\n",
       "    .dataframe tbody tr th {\n",
       "        vertical-align: top;\n",
       "    }\n",
       "</style>\n",
       "<table border=\"1\" class=\"dataframe\">\n",
       "  <thead>\n",
       "    <tr style=\"text-align: right;\">\n",
       "      <th></th>\n",
       "      <th>Quantity</th>\n",
       "      <th>UnitPrice</th>\n",
       "      <th>value</th>\n",
       "      <th>count</th>\n",
       "      <th>recency</th>\n",
       "    </tr>\n",
       "  </thead>\n",
       "  <tbody>\n",
       "    <tr>\n",
       "      <th>count</th>\n",
       "      <td>1703.000000</td>\n",
       "      <td>1703.000000</td>\n",
       "      <td>1703.000000</td>\n",
       "      <td>1703.000000</td>\n",
       "      <td>1703.000000</td>\n",
       "    </tr>\n",
       "    <tr>\n",
       "      <th>mean</th>\n",
       "      <td>0.940605</td>\n",
       "      <td>0.478212</td>\n",
       "      <td>1.217050</td>\n",
       "      <td>1.273485</td>\n",
       "      <td>2.104025</td>\n",
       "    </tr>\n",
       "    <tr>\n",
       "      <th>std</th>\n",
       "      <td>0.278419</td>\n",
       "      <td>0.234513</td>\n",
       "      <td>0.232184</td>\n",
       "      <td>0.306474</td>\n",
       "      <td>0.419522</td>\n",
       "    </tr>\n",
       "    <tr>\n",
       "      <th>min</th>\n",
       "      <td>0.000000</td>\n",
       "      <td>-0.407020</td>\n",
       "      <td>0.161368</td>\n",
       "      <td>0.000000</td>\n",
       "      <td>0.000000</td>\n",
       "    </tr>\n",
       "    <tr>\n",
       "      <th>25%</th>\n",
       "      <td>0.812913</td>\n",
       "      <td>0.335517</td>\n",
       "      <td>1.148700</td>\n",
       "      <td>1.079181</td>\n",
       "      <td>1.857332</td>\n",
       "    </tr>\n",
       "    <tr>\n",
       "      <th>50%</th>\n",
       "      <td>0.985277</td>\n",
       "      <td>0.479876</td>\n",
       "      <td>1.238539</td>\n",
       "      <td>1.322219</td>\n",
       "      <td>2.255273</td>\n",
       "    </tr>\n",
       "    <tr>\n",
       "      <th>75%</th>\n",
       "      <td>1.111206</td>\n",
       "      <td>0.606991</td>\n",
       "      <td>1.337793</td>\n",
       "      <td>1.491362</td>\n",
       "      <td>2.425696</td>\n",
       "    </tr>\n",
       "    <tr>\n",
       "      <th>max</th>\n",
       "      <td>1.761552</td>\n",
       "      <td>2.469822</td>\n",
       "      <td>2.469822</td>\n",
       "      <td>1.959041</td>\n",
       "      <td>2.656098</td>\n",
       "    </tr>\n",
       "  </tbody>\n",
       "</table>\n",
       "</div>"
      ],
      "text/plain": [
       "          Quantity    UnitPrice        value        count      recency\n",
       "count  1703.000000  1703.000000  1703.000000  1703.000000  1703.000000\n",
       "mean      0.940605     0.478212     1.217050     1.273485     2.104025\n",
       "std       0.278419     0.234513     0.232184     0.306474     0.419522\n",
       "min       0.000000    -0.407020     0.161368     0.000000     0.000000\n",
       "25%       0.812913     0.335517     1.148700     1.079181     1.857332\n",
       "50%       0.985277     0.479876     1.238539     1.322219     2.255273\n",
       "75%       1.111206     0.606991     1.337793     1.491362     2.425696\n",
       "max       1.761552     2.469822     2.469822     1.959041     2.656098"
      ]
     },
     "execution_count": 29,
     "metadata": {},
     "output_type": "execute_result"
    }
   ],
   "source": [
    "#seperate each cluster and look at the mean values of each to see how they cluster\n",
    "c0 = [ customersLog.index[i] for i,item in enumerate(labels) if item==0]\n",
    "c1 = [ customersLog.index[i] for i,item in enumerate(labels) if item==1]\n",
    "c2 = [ customersLog.index[i] for i,item in enumerate(labels) if item==2]\n",
    "customersLog.loc[c0].describe()"
   ]
  },
  {
   "cell_type": "code",
   "execution_count": 30,
   "metadata": {},
   "outputs": [
    {
     "data": {
      "text/html": [
       "<div>\n",
       "<style>\n",
       "    .dataframe thead tr:only-child th {\n",
       "        text-align: right;\n",
       "    }\n",
       "\n",
       "    .dataframe thead th {\n",
       "        text-align: left;\n",
       "    }\n",
       "\n",
       "    .dataframe tbody tr th {\n",
       "        vertical-align: top;\n",
       "    }\n",
       "</style>\n",
       "<table border=\"1\" class=\"dataframe\">\n",
       "  <thead>\n",
       "    <tr style=\"text-align: right;\">\n",
       "      <th></th>\n",
       "      <th>Quantity</th>\n",
       "      <th>UnitPrice</th>\n",
       "      <th>value</th>\n",
       "      <th>count</th>\n",
       "      <th>recency</th>\n",
       "    </tr>\n",
       "  </thead>\n",
       "  <tbody>\n",
       "    <tr>\n",
       "      <th>count</th>\n",
       "      <td>433.000000</td>\n",
       "      <td>433.000000</td>\n",
       "      <td>433.000000</td>\n",
       "      <td>433.000000</td>\n",
       "      <td>433.000000</td>\n",
       "    </tr>\n",
       "    <tr>\n",
       "      <th>mean</th>\n",
       "      <td>1.677668</td>\n",
       "      <td>0.435877</td>\n",
       "      <td>1.960525</td>\n",
       "      <td>0.872791</td>\n",
       "      <td>2.274871</td>\n",
       "    </tr>\n",
       "    <tr>\n",
       "      <th>std</th>\n",
       "      <td>0.484562</td>\n",
       "      <td>0.455995</td>\n",
       "      <td>0.393977</td>\n",
       "      <td>0.564835</td>\n",
       "      <td>0.328865</td>\n",
       "    </tr>\n",
       "    <tr>\n",
       "      <th>min</th>\n",
       "      <td>0.000000</td>\n",
       "      <td>-0.911864</td>\n",
       "      <td>1.064458</td>\n",
       "      <td>0.000000</td>\n",
       "      <td>0.903090</td>\n",
       "    </tr>\n",
       "    <tr>\n",
       "      <th>25%</th>\n",
       "      <td>1.385606</td>\n",
       "      <td>0.209962</td>\n",
       "      <td>1.709533</td>\n",
       "      <td>0.477121</td>\n",
       "      <td>2.127105</td>\n",
       "    </tr>\n",
       "    <tr>\n",
       "      <th>50%</th>\n",
       "      <td>1.605011</td>\n",
       "      <td>0.406540</td>\n",
       "      <td>1.882638</td>\n",
       "      <td>0.845098</td>\n",
       "      <td>2.403121</td>\n",
       "    </tr>\n",
       "    <tr>\n",
       "      <th>75%</th>\n",
       "      <td>1.857332</td>\n",
       "      <td>0.614792</td>\n",
       "      <td>2.165066</td>\n",
       "      <td>1.230449</td>\n",
       "      <td>2.502427</td>\n",
       "    </tr>\n",
       "    <tr>\n",
       "      <th>max</th>\n",
       "      <td>3.633468</td>\n",
       "      <td>3.308159</td>\n",
       "      <td>3.648695</td>\n",
       "      <td>2.617000</td>\n",
       "      <td>2.656098</td>\n",
       "    </tr>\n",
       "  </tbody>\n",
       "</table>\n",
       "</div>"
      ],
      "text/plain": [
       "         Quantity   UnitPrice       value       count     recency\n",
       "count  433.000000  433.000000  433.000000  433.000000  433.000000\n",
       "mean     1.677668    0.435877    1.960525    0.872791    2.274871\n",
       "std      0.484562    0.455995    0.393977    0.564835    0.328865\n",
       "min      0.000000   -0.911864    1.064458    0.000000    0.903090\n",
       "25%      1.385606    0.209962    1.709533    0.477121    2.127105\n",
       "50%      1.605011    0.406540    1.882638    0.845098    2.403121\n",
       "75%      1.857332    0.614792    2.165066    1.230449    2.502427\n",
       "max      3.633468    3.308159    3.648695    2.617000    2.656098"
      ]
     },
     "execution_count": 30,
     "metadata": {},
     "output_type": "execute_result"
    }
   ],
   "source": [
    "customersLog.loc[c1].describe()"
   ]
  },
  {
   "cell_type": "code",
   "execution_count": 31,
   "metadata": {},
   "outputs": [
    {
     "data": {
      "text/html": [
       "<div>\n",
       "<style>\n",
       "    .dataframe thead tr:only-child th {\n",
       "        text-align: right;\n",
       "    }\n",
       "\n",
       "    .dataframe thead th {\n",
       "        text-align: left;\n",
       "    }\n",
       "\n",
       "    .dataframe tbody tr th {\n",
       "        vertical-align: top;\n",
       "    }\n",
       "</style>\n",
       "<table border=\"1\" class=\"dataframe\">\n",
       "  <thead>\n",
       "    <tr style=\"text-align: right;\">\n",
       "      <th></th>\n",
       "      <th>Quantity</th>\n",
       "      <th>UnitPrice</th>\n",
       "      <th>value</th>\n",
       "      <th>count</th>\n",
       "      <th>recency</th>\n",
       "    </tr>\n",
       "  </thead>\n",
       "  <tbody>\n",
       "    <tr>\n",
       "      <th>count</th>\n",
       "      <td>1714.000000</td>\n",
       "      <td>1714.000000</td>\n",
       "      <td>1714.000000</td>\n",
       "      <td>1714.000000</td>\n",
       "      <td>1714.000000</td>\n",
       "    </tr>\n",
       "    <tr>\n",
       "      <th>mean</th>\n",
       "      <td>0.861924</td>\n",
       "      <td>0.436854</td>\n",
       "      <td>1.098167</td>\n",
       "      <td>2.080537</td>\n",
       "      <td>2.408421</td>\n",
       "    </tr>\n",
       "    <tr>\n",
       "      <th>std</th>\n",
       "      <td>0.318516</td>\n",
       "      <td>0.148132</td>\n",
       "      <td>0.304714</td>\n",
       "      <td>0.317083</td>\n",
       "      <td>0.208999</td>\n",
       "    </tr>\n",
       "    <tr>\n",
       "      <th>min</th>\n",
       "      <td>0.024134</td>\n",
       "      <td>-0.178925</td>\n",
       "      <td>0.322485</td>\n",
       "      <td>1.447158</td>\n",
       "      <td>1.041393</td>\n",
       "    </tr>\n",
       "    <tr>\n",
       "      <th>25%</th>\n",
       "      <td>0.615064</td>\n",
       "      <td>0.344790</td>\n",
       "      <td>0.858423</td>\n",
       "      <td>1.838849</td>\n",
       "      <td>2.371068</td>\n",
       "    </tr>\n",
       "    <tr>\n",
       "      <th>50%</th>\n",
       "      <td>0.923290</td>\n",
       "      <td>0.439655</td>\n",
       "      <td>1.175460</td>\n",
       "      <td>2.025306</td>\n",
       "      <td>2.472756</td>\n",
       "    </tr>\n",
       "    <tr>\n",
       "      <th>75%</th>\n",
       "      <td>1.078012</td>\n",
       "      <td>0.525897</td>\n",
       "      <td>1.291286</td>\n",
       "      <td>2.267172</td>\n",
       "      <td>2.528917</td>\n",
       "    </tr>\n",
       "    <tr>\n",
       "      <th>max</th>\n",
       "      <td>2.044807</td>\n",
       "      <td>1.407010</td>\n",
       "      <td>2.174507</td>\n",
       "      <td>3.886885</td>\n",
       "      <td>2.656098</td>\n",
       "    </tr>\n",
       "  </tbody>\n",
       "</table>\n",
       "</div>"
      ],
      "text/plain": [
       "          Quantity    UnitPrice        value        count      recency\n",
       "count  1714.000000  1714.000000  1714.000000  1714.000000  1714.000000\n",
       "mean      0.861924     0.436854     1.098167     2.080537     2.408421\n",
       "std       0.318516     0.148132     0.304714     0.317083     0.208999\n",
       "min       0.024134    -0.178925     0.322485     1.447158     1.041393\n",
       "25%       0.615064     0.344790     0.858423     1.838849     2.371068\n",
       "50%       0.923290     0.439655     1.175460     2.025306     2.472756\n",
       "75%       1.078012     0.525897     1.291286     2.267172     2.528917\n",
       "max       2.044807     1.407010     2.174507     3.886885     2.656098"
      ]
     },
     "execution_count": 31,
     "metadata": {},
     "output_type": "execute_result"
    }
   ],
   "source": [
    "customersLog.loc[c2].describe()"
   ]
  },
  {
   "cell_type": "markdown",
   "metadata": {},
   "source": [
    "Overall we've ended up with three clusters.\n",
    "\n",
    "Cluster 0 contains customers that have a resonably low value per transaction, and have a low count but seem to be making transaction more frequently than the other two clusters. We are able to see this as the count and frequency combined lower these points on the plot and the transactions keep it fairly central around the 0.\n",
    "\n",
    "Cluster 1 contains customers that place the highest values per transaction which is indicated by the data being more to the right of the plot past the first cluster. We also can see a low count for the amount of transaction and it is also the lowest of the three but a fairly resonable recency of there transaction in terms of how long apart they spend between each. Together we see that they make slight more purchases. This is shown well on the plot with a lot of customers in the cluster 1 trending upward the y axis above the customers in cluster 0.\n",
    "\n",
    "Cluster 2 contains customers that place a low value on there transaction, making it the lowest between all three clusters as indicated by the fact that these customers are the furthest to the left on the x axis. However a high count and recency shows that these customers make plenty of transactions, which is more that both other clusters, showing similar to cluster 1 on the y axis but above cluster 0.\n",
    "\n",
    "Overall we can see that Cluster 0 had low value on there transaction and a low and a low amount of transactions as well, making them low spenders, low users. Cluster 1 had a high value on there transactions, but a low amount of transactions, making them  high spenders, low users. Cluster 2 placed a low value on there transactions, but were constantly making transactions making them, low spenders, high users.\n",
    "\n",
    "This sort of information can be useful to a marketing company to see how there customers use there money. It is important to recognise that you aren't likely to make someone from cluster 0 buy in to whatever you are trying to sell them since they don't spend much or make many transactions.You should focus on the other two. with cluster 2 more likely to make lots of small transactions, and you can push for bigger and more expensive items onto customers from cluster 1."
   ]
  }
 ],
 "metadata": {
  "kernelspec": {
   "display_name": "Python 3",
   "language": "python",
   "name": "python3"
  },
  "language_info": {
   "codemirror_mode": {
    "name": "ipython",
    "version": 3
   },
   "file_extension": ".py",
   "mimetype": "text/x-python",
   "name": "python",
   "nbconvert_exporter": "python",
   "pygments_lexer": "ipython3",
   "version": "3.6.1"
  }
 },
 "nbformat": 4,
 "nbformat_minor": 2
}
