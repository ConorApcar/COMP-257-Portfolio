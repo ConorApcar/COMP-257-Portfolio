{
 "cells": [
  {
   "cell_type": "markdown",
   "metadata": {},
   "source": [
    "Student Name: Conor Apcar\n",
    "\n",
    "Student Number: 44624336"
   ]
  },
  {
   "cell_type": "code",
   "execution_count": 85,
   "metadata": {},
   "outputs": [
    {
     "data": {
      "text/html": [
       "<div>\n",
       "<style>\n",
       "    .dataframe thead tr:only-child th {\n",
       "        text-align: right;\n",
       "    }\n",
       "\n",
       "    .dataframe thead th {\n",
       "        text-align: left;\n",
       "    }\n",
       "\n",
       "    .dataframe tbody tr th {\n",
       "        vertical-align: top;\n",
       "    }\n",
       "</style>\n",
       "<table border=\"1\" class=\"dataframe\">\n",
       "  <thead>\n",
       "    <tr style=\"text-align: right;\">\n",
       "      <th></th>\n",
       "      <th>Year</th>\n",
       "      <th>LogPrice</th>\n",
       "      <th>WinterRain</th>\n",
       "      <th>Temperature</th>\n",
       "      <th>HarvestRain</th>\n",
       "      <th>TimeYears</th>\n",
       "    </tr>\n",
       "  </thead>\n",
       "  <tbody>\n",
       "    <tr>\n",
       "      <th>0</th>\n",
       "      <td>1952</td>\n",
       "      <td>-0.99868</td>\n",
       "      <td>600</td>\n",
       "      <td>17.1167</td>\n",
       "      <td>160</td>\n",
       "      <td>31</td>\n",
       "    </tr>\n",
       "    <tr>\n",
       "      <th>1</th>\n",
       "      <td>1953</td>\n",
       "      <td>-0.45440</td>\n",
       "      <td>690</td>\n",
       "      <td>16.7333</td>\n",
       "      <td>80</td>\n",
       "      <td>30</td>\n",
       "    </tr>\n",
       "    <tr>\n",
       "      <th>2</th>\n",
       "      <td>1955</td>\n",
       "      <td>-0.80796</td>\n",
       "      <td>502</td>\n",
       "      <td>17.1500</td>\n",
       "      <td>130</td>\n",
       "      <td>28</td>\n",
       "    </tr>\n",
       "    <tr>\n",
       "      <th>3</th>\n",
       "      <td>1957</td>\n",
       "      <td>-1.50926</td>\n",
       "      <td>420</td>\n",
       "      <td>16.1333</td>\n",
       "      <td>110</td>\n",
       "      <td>26</td>\n",
       "    </tr>\n",
       "    <tr>\n",
       "      <th>4</th>\n",
       "      <td>1958</td>\n",
       "      <td>-1.71655</td>\n",
       "      <td>582</td>\n",
       "      <td>16.4167</td>\n",
       "      <td>187</td>\n",
       "      <td>25</td>\n",
       "    </tr>\n",
       "  </tbody>\n",
       "</table>\n",
       "</div>"
      ],
      "text/plain": [
       "   Year  LogPrice  WinterRain  Temperature  HarvestRain  TimeYears\n",
       "0  1952  -0.99868         600      17.1167          160         31\n",
       "1  1953  -0.45440         690      16.7333           80         30\n",
       "2  1955  -0.80796         502      17.1500          130         28\n",
       "3  1957  -1.50926         420      16.1333          110         26\n",
       "4  1958  -1.71655         582      16.4167          187         25"
      ]
     },
     "execution_count": 85,
     "metadata": {},
     "output_type": "execute_result"
    }
   ],
   "source": [
    "import seaborn as sns\n",
    "sns.set_style(\"whitegrid\")\n",
    "sns.set_context(\"notebook\", font_scale=1, rc={\"lines.linewidth\": 2,'font.family': [u'times']})\n",
    "import pandas as pd\n",
    "import numpy as np\n",
    "import matplotlib.pylab as plt\n",
    "from pandas.plotting import scatter_matrix\n",
    "%matplotlib inline \n",
    "import statsmodels.api as sm\n",
    "from sklearn.linear_model import LinearRegression\n",
    "from sklearn import metrics\n",
    "from scipy.stats.stats import pearsonr\n",
    "\n",
    "wine = pd.read_csv('wine_train.csv') #Create a dataframe for the wine_train data\n",
    "wine.head()"
   ]
  },
  {
   "cell_type": "markdown",
   "metadata": {},
   "source": [
    "Went through to look at all the data in different ways to check for any outliers. Looked at the data as a whole first but nothing stood out. \n",
    "\n",
    "Checked the data collectively in the describe() function to see if anything looked strange but it all seemed ok to me. "
   ]
  },
  {
   "cell_type": "code",
   "execution_count": 81,
   "metadata": {},
   "outputs": [
    {
     "data": {
      "text/html": [
       "<div>\n",
       "<style>\n",
       "    .dataframe thead tr:only-child th {\n",
       "        text-align: right;\n",
       "    }\n",
       "\n",
       "    .dataframe thead th {\n",
       "        text-align: left;\n",
       "    }\n",
       "\n",
       "    .dataframe tbody tr th {\n",
       "        vertical-align: top;\n",
       "    }\n",
       "</style>\n",
       "<table border=\"1\" class=\"dataframe\">\n",
       "  <thead>\n",
       "    <tr style=\"text-align: right;\">\n",
       "      <th></th>\n",
       "      <th>Year</th>\n",
       "      <th>LogPrice</th>\n",
       "      <th>WinterRain</th>\n",
       "      <th>Temperature</th>\n",
       "      <th>HarvestRain</th>\n",
       "      <th>TimeYears</th>\n",
       "    </tr>\n",
       "  </thead>\n",
       "  <tbody>\n",
       "    <tr>\n",
       "      <th>0</th>\n",
       "      <td>1952</td>\n",
       "      <td>-0.99868</td>\n",
       "      <td>600</td>\n",
       "      <td>17.1167</td>\n",
       "      <td>160</td>\n",
       "      <td>31</td>\n",
       "    </tr>\n",
       "    <tr>\n",
       "      <th>1</th>\n",
       "      <td>1953</td>\n",
       "      <td>-0.45440</td>\n",
       "      <td>690</td>\n",
       "      <td>16.7333</td>\n",
       "      <td>80</td>\n",
       "      <td>30</td>\n",
       "    </tr>\n",
       "    <tr>\n",
       "      <th>2</th>\n",
       "      <td>1955</td>\n",
       "      <td>-0.80796</td>\n",
       "      <td>502</td>\n",
       "      <td>17.1500</td>\n",
       "      <td>130</td>\n",
       "      <td>28</td>\n",
       "    </tr>\n",
       "    <tr>\n",
       "      <th>3</th>\n",
       "      <td>1957</td>\n",
       "      <td>-1.50926</td>\n",
       "      <td>420</td>\n",
       "      <td>16.1333</td>\n",
       "      <td>110</td>\n",
       "      <td>26</td>\n",
       "    </tr>\n",
       "    <tr>\n",
       "      <th>4</th>\n",
       "      <td>1958</td>\n",
       "      <td>-1.71655</td>\n",
       "      <td>582</td>\n",
       "      <td>16.4167</td>\n",
       "      <td>187</td>\n",
       "      <td>25</td>\n",
       "    </tr>\n",
       "    <tr>\n",
       "      <th>5</th>\n",
       "      <td>1959</td>\n",
       "      <td>-0.41800</td>\n",
       "      <td>485</td>\n",
       "      <td>17.4833</td>\n",
       "      <td>187</td>\n",
       "      <td>24</td>\n",
       "    </tr>\n",
       "    <tr>\n",
       "      <th>6</th>\n",
       "      <td>1960</td>\n",
       "      <td>-1.97491</td>\n",
       "      <td>763</td>\n",
       "      <td>16.4167</td>\n",
       "      <td>290</td>\n",
       "      <td>23</td>\n",
       "    </tr>\n",
       "    <tr>\n",
       "      <th>7</th>\n",
       "      <td>1961</td>\n",
       "      <td>0.00000</td>\n",
       "      <td>830</td>\n",
       "      <td>17.3333</td>\n",
       "      <td>38</td>\n",
       "      <td>22</td>\n",
       "    </tr>\n",
       "    <tr>\n",
       "      <th>8</th>\n",
       "      <td>1962</td>\n",
       "      <td>-1.10572</td>\n",
       "      <td>697</td>\n",
       "      <td>16.3000</td>\n",
       "      <td>52</td>\n",
       "      <td>21</td>\n",
       "    </tr>\n",
       "    <tr>\n",
       "      <th>9</th>\n",
       "      <td>1963</td>\n",
       "      <td>-1.78098</td>\n",
       "      <td>608</td>\n",
       "      <td>15.7167</td>\n",
       "      <td>155</td>\n",
       "      <td>20</td>\n",
       "    </tr>\n",
       "    <tr>\n",
       "      <th>10</th>\n",
       "      <td>1964</td>\n",
       "      <td>-1.18435</td>\n",
       "      <td>402</td>\n",
       "      <td>17.2667</td>\n",
       "      <td>96</td>\n",
       "      <td>19</td>\n",
       "    </tr>\n",
       "    <tr>\n",
       "      <th>11</th>\n",
       "      <td>1965</td>\n",
       "      <td>-2.24194</td>\n",
       "      <td>602</td>\n",
       "      <td>15.3667</td>\n",
       "      <td>267</td>\n",
       "      <td>18</td>\n",
       "    </tr>\n",
       "    <tr>\n",
       "      <th>12</th>\n",
       "      <td>1966</td>\n",
       "      <td>-0.74943</td>\n",
       "      <td>819</td>\n",
       "      <td>16.5333</td>\n",
       "      <td>86</td>\n",
       "      <td>17</td>\n",
       "    </tr>\n",
       "    <tr>\n",
       "      <th>13</th>\n",
       "      <td>1967</td>\n",
       "      <td>-1.65388</td>\n",
       "      <td>714</td>\n",
       "      <td>16.2333</td>\n",
       "      <td>118</td>\n",
       "      <td>16</td>\n",
       "    </tr>\n",
       "    <tr>\n",
       "      <th>14</th>\n",
       "      <td>1968</td>\n",
       "      <td>-2.25018</td>\n",
       "      <td>610</td>\n",
       "      <td>16.2000</td>\n",
       "      <td>292</td>\n",
       "      <td>15</td>\n",
       "    </tr>\n",
       "    <tr>\n",
       "      <th>15</th>\n",
       "      <td>1969</td>\n",
       "      <td>-2.14784</td>\n",
       "      <td>575</td>\n",
       "      <td>16.5500</td>\n",
       "      <td>244</td>\n",
       "      <td>14</td>\n",
       "    </tr>\n",
       "    <tr>\n",
       "      <th>16</th>\n",
       "      <td>1970</td>\n",
       "      <td>-0.90544</td>\n",
       "      <td>622</td>\n",
       "      <td>16.6667</td>\n",
       "      <td>89</td>\n",
       "      <td>13</td>\n",
       "    </tr>\n",
       "    <tr>\n",
       "      <th>17</th>\n",
       "      <td>1971</td>\n",
       "      <td>-1.30031</td>\n",
       "      <td>551</td>\n",
       "      <td>16.7667</td>\n",
       "      <td>112</td>\n",
       "      <td>12</td>\n",
       "    </tr>\n",
       "    <tr>\n",
       "      <th>18</th>\n",
       "      <td>1972</td>\n",
       "      <td>-2.28879</td>\n",
       "      <td>536</td>\n",
       "      <td>14.9833</td>\n",
       "      <td>158</td>\n",
       "      <td>11</td>\n",
       "    </tr>\n",
       "    <tr>\n",
       "      <th>19</th>\n",
       "      <td>1973</td>\n",
       "      <td>-1.85700</td>\n",
       "      <td>376</td>\n",
       "      <td>17.0667</td>\n",
       "      <td>123</td>\n",
       "      <td>10</td>\n",
       "    </tr>\n",
       "    <tr>\n",
       "      <th>20</th>\n",
       "      <td>1974</td>\n",
       "      <td>-2.19958</td>\n",
       "      <td>574</td>\n",
       "      <td>16.3000</td>\n",
       "      <td>184</td>\n",
       "      <td>9</td>\n",
       "    </tr>\n",
       "    <tr>\n",
       "      <th>21</th>\n",
       "      <td>1975</td>\n",
       "      <td>-1.20168</td>\n",
       "      <td>572</td>\n",
       "      <td>16.9500</td>\n",
       "      <td>171</td>\n",
       "      <td>8</td>\n",
       "    </tr>\n",
       "    <tr>\n",
       "      <th>22</th>\n",
       "      <td>1976</td>\n",
       "      <td>-1.37264</td>\n",
       "      <td>418</td>\n",
       "      <td>17.6500</td>\n",
       "      <td>247</td>\n",
       "      <td>7</td>\n",
       "    </tr>\n",
       "    <tr>\n",
       "      <th>23</th>\n",
       "      <td>1977</td>\n",
       "      <td>-2.23503</td>\n",
       "      <td>821</td>\n",
       "      <td>15.5833</td>\n",
       "      <td>87</td>\n",
       "      <td>6</td>\n",
       "    </tr>\n",
       "  </tbody>\n",
       "</table>\n",
       "</div>"
      ],
      "text/plain": [
       "    Year  LogPrice  WinterRain  Temperature  HarvestRain  TimeYears\n",
       "0   1952  -0.99868         600      17.1167          160         31\n",
       "1   1953  -0.45440         690      16.7333           80         30\n",
       "2   1955  -0.80796         502      17.1500          130         28\n",
       "3   1957  -1.50926         420      16.1333          110         26\n",
       "4   1958  -1.71655         582      16.4167          187         25\n",
       "5   1959  -0.41800         485      17.4833          187         24\n",
       "6   1960  -1.97491         763      16.4167          290         23\n",
       "7   1961   0.00000         830      17.3333           38         22\n",
       "8   1962  -1.10572         697      16.3000           52         21\n",
       "9   1963  -1.78098         608      15.7167          155         20\n",
       "10  1964  -1.18435         402      17.2667           96         19\n",
       "11  1965  -2.24194         602      15.3667          267         18\n",
       "12  1966  -0.74943         819      16.5333           86         17\n",
       "13  1967  -1.65388         714      16.2333          118         16\n",
       "14  1968  -2.25018         610      16.2000          292         15\n",
       "15  1969  -2.14784         575      16.5500          244         14\n",
       "16  1970  -0.90544         622      16.6667           89         13\n",
       "17  1971  -1.30031         551      16.7667          112         12\n",
       "18  1972  -2.28879         536      14.9833          158         11\n",
       "19  1973  -1.85700         376      17.0667          123         10\n",
       "20  1974  -2.19958         574      16.3000          184          9\n",
       "21  1975  -1.20168         572      16.9500          171          8\n",
       "22  1976  -1.37264         418      17.6500          247          7\n",
       "23  1977  -2.23503         821      15.5833           87          6"
      ]
     },
     "execution_count": 81,
     "metadata": {},
     "output_type": "execute_result"
    }
   ],
   "source": [
    "wine #Check the full data"
   ]
  },
  {
   "cell_type": "code",
   "execution_count": 2,
   "metadata": {},
   "outputs": [
    {
     "data": {
      "text/plain": [
       "(24, 6)"
      ]
     },
     "execution_count": 2,
     "metadata": {},
     "output_type": "execute_result"
    }
   ],
   "source": [
    "wine.shape #Check the Shape"
   ]
  },
  {
   "cell_type": "code",
   "execution_count": 9,
   "metadata": {},
   "outputs": [
    {
     "data": {
      "text/html": [
       "<div>\n",
       "<style>\n",
       "    .dataframe thead tr:only-child th {\n",
       "        text-align: right;\n",
       "    }\n",
       "\n",
       "    .dataframe thead th {\n",
       "        text-align: left;\n",
       "    }\n",
       "\n",
       "    .dataframe tbody tr th {\n",
       "        vertical-align: top;\n",
       "    }\n",
       "</style>\n",
       "<table border=\"1\" class=\"dataframe\">\n",
       "  <thead>\n",
       "    <tr style=\"text-align: right;\">\n",
       "      <th></th>\n",
       "      <th>Year</th>\n",
       "      <th>LogPrice</th>\n",
       "      <th>WinterRain</th>\n",
       "      <th>Temperature</th>\n",
       "      <th>HarvestRain</th>\n",
       "      <th>TimeYears</th>\n",
       "    </tr>\n",
       "  </thead>\n",
       "  <tbody>\n",
       "    <tr>\n",
       "      <th>count</th>\n",
       "      <td>24.000000</td>\n",
       "      <td>24.000000</td>\n",
       "      <td>24.000000</td>\n",
       "      <td>24.000000</td>\n",
       "      <td>24.00000</td>\n",
       "      <td>24.000000</td>\n",
       "    </tr>\n",
       "    <tr>\n",
       "      <th>mean</th>\n",
       "      <td>1965.291667</td>\n",
       "      <td>-1.431440</td>\n",
       "      <td>598.708333</td>\n",
       "      <td>16.538196</td>\n",
       "      <td>152.62500</td>\n",
       "      <td>17.708333</td>\n",
       "    </tr>\n",
       "    <tr>\n",
       "      <th>std</th>\n",
       "      <td>7.416076</td>\n",
       "      <td>0.663845</td>\n",
       "      <td>130.887764</td>\n",
       "      <td>0.673993</td>\n",
       "      <td>73.12991</td>\n",
       "      <td>7.416076</td>\n",
       "    </tr>\n",
       "    <tr>\n",
       "      <th>min</th>\n",
       "      <td>1952.000000</td>\n",
       "      <td>-2.288790</td>\n",
       "      <td>376.000000</td>\n",
       "      <td>14.983300</td>\n",
       "      <td>38.00000</td>\n",
       "      <td>6.000000</td>\n",
       "    </tr>\n",
       "    <tr>\n",
       "      <th>25%</th>\n",
       "      <td>1959.750000</td>\n",
       "      <td>-2.018143</td>\n",
       "      <td>527.500000</td>\n",
       "      <td>16.224975</td>\n",
       "      <td>94.25000</td>\n",
       "      <td>11.750000</td>\n",
       "    </tr>\n",
       "    <tr>\n",
       "      <th>50%</th>\n",
       "      <td>1965.500000</td>\n",
       "      <td>-1.440950</td>\n",
       "      <td>591.000000</td>\n",
       "      <td>16.541650</td>\n",
       "      <td>142.50000</td>\n",
       "      <td>17.500000</td>\n",
       "    </tr>\n",
       "    <tr>\n",
       "      <th>75%</th>\n",
       "      <td>1971.250000</td>\n",
       "      <td>-0.975370</td>\n",
       "      <td>691.750000</td>\n",
       "      <td>17.079200</td>\n",
       "      <td>187.00000</td>\n",
       "      <td>23.250000</td>\n",
       "    </tr>\n",
       "    <tr>\n",
       "      <th>max</th>\n",
       "      <td>1977.000000</td>\n",
       "      <td>0.000000</td>\n",
       "      <td>830.000000</td>\n",
       "      <td>17.650000</td>\n",
       "      <td>292.00000</td>\n",
       "      <td>31.000000</td>\n",
       "    </tr>\n",
       "  </tbody>\n",
       "</table>\n",
       "</div>"
      ],
      "text/plain": [
       "              Year   LogPrice  WinterRain  Temperature  HarvestRain  TimeYears\n",
       "count    24.000000  24.000000   24.000000    24.000000     24.00000  24.000000\n",
       "mean   1965.291667  -1.431440  598.708333    16.538196    152.62500  17.708333\n",
       "std       7.416076   0.663845  130.887764     0.673993     73.12991   7.416076\n",
       "min    1952.000000  -2.288790  376.000000    14.983300     38.00000   6.000000\n",
       "25%    1959.750000  -2.018143  527.500000    16.224975     94.25000  11.750000\n",
       "50%    1965.500000  -1.440950  591.000000    16.541650    142.50000  17.500000\n",
       "75%    1971.250000  -0.975370  691.750000    17.079200    187.00000  23.250000\n",
       "max    1977.000000   0.000000  830.000000    17.650000    292.00000  31.000000"
      ]
     },
     "execution_count": 9,
     "metadata": {},
     "output_type": "execute_result"
    }
   ],
   "source": [
    "wine.describe() #Check the data"
   ]
  },
  {
   "cell_type": "code",
   "execution_count": 4,
   "metadata": {},
   "outputs": [
    {
     "data": {
      "text/plain": [
       "Year           1965.291667\n",
       "LogPrice         -1.431440\n",
       "WinterRain      598.708333\n",
       "Temperature      16.538196\n",
       "HarvestRain     152.625000\n",
       "TimeYears        17.708333\n",
       "dtype: float64"
      ]
     },
     "execution_count": 4,
     "metadata": {},
     "output_type": "execute_result"
    }
   ],
   "source": [
    "wine.mean() #Check just the means"
   ]
  },
  {
   "cell_type": "markdown",
   "metadata": {},
   "source": [
    "Created a scatterplot to check how the price of the wines change along with the average temperature in the year. \n",
    "\n",
    "Decided to see if taking the 0 out would change anything. did not make any difference."
   ]
  },
  {
   "cell_type": "code",
   "execution_count": 83,
   "metadata": {},
   "outputs": [
    {
     "data": {
      "text/plain": [
       "<matplotlib.text.Text at 0x112753cf8>"
      ]
     },
     "execution_count": 83,
     "metadata": {},
     "output_type": "execute_result"
    },
    {
     "data": {
      "image/png": "[encoded data removed]",
      "text/plain": [
       "<matplotlib.figure.Figure at 0x112955b70>"
      ]
     },
     "metadata": {},
     "output_type": "display_data"
    }
   ],
   "source": [
    "x = wine['Temperature']\n",
    "y = wine['LogPrice']\n",
    "plt.scatter(x, y) #Create a Scatterplot\n",
    "plt.title('Wine Price Change For Temperature')\n",
    "plt.xlabel('Temperature')\n",
    "plt.ylabel('LogPrice')"
   ]
  },
  {
   "cell_type": "code",
   "execution_count": 24,
   "metadata": {},
   "outputs": [
    {
     "data": {
      "text/plain": [
       "(23, 6)"
      ]
     },
     "execution_count": 24,
     "metadata": {},
     "output_type": "execute_result"
    }
   ],
   "source": [
    "wine2 = wine.drop(wine.index[wine['LogPrice'] == 0]) #Drop the 0\n",
    "wine2.shape #Check it's been dropped"
   ]
  },
  {
   "cell_type": "code",
   "execution_count": 84,
   "metadata": {},
   "outputs": [
    {
     "data": {
      "text/plain": [
       "<matplotlib.text.Text at 0x112a43cf8>"
      ]
     },
     "execution_count": 84,
     "metadata": {},
     "output_type": "execute_result"
    },
    {
     "data": {
      "image/png": "[encoded data removed]",
      "text/plain": [
       "<matplotlib.figure.Figure at 0x1134e4668>"
      ]
     },
     "metadata": {},
     "output_type": "display_data"
    }
   ],
   "source": [
    "x = wine2['Temperature']\n",
    "y = wine2['LogPrice']\n",
    "plt.scatter(x, y) #Create ScatterPlot without the 0\n",
    "plt.title('Wine Price Change For Temperature')\n",
    "plt.xlabel('Temperature')\n",
    "plt.ylabel('LogPrice')"
   ]
  },
  {
   "cell_type": "markdown",
   "metadata": {},
   "source": [
    "created plots with a regression line to check the relationship between all the variables and the LogPrice. Want to see if any of the data needs to be normalised.\n",
    "\n",
    "Although some of the relationships aren't particularly strong, they all seem normal enough to continue with a linear regression model."
   ]
  },
  {
   "cell_type": "code",
   "execution_count": 47,
   "metadata": {},
   "outputs": [
    {
     "data": {
      "image/png": "[encoded data removed]",
      "text/plain": [
       "<matplotlib.figure.Figure at 0x1126bbf98>"
      ]
     },
     "metadata": {},
     "output_type": "display_data"
    }
   ],
   "source": [
    "sns.lmplot(\"Temperature\", \"LogPrice\", wine, size = 5.2, aspect = 2);\n",
    "plt.savefig(\"WineTemperatureLogPrice.png\", dpi = 300, bbox_inches = 'tight')\n"
   ]
  },
  {
   "cell_type": "code",
   "execution_count": 30,
   "metadata": {},
   "outputs": [
    {
     "data": {
      "image/png": "[encoded data removed]",
      "text/plain": [
       "<matplotlib.figure.Figure at 0x1126f5630>"
      ]
     },
     "metadata": {},
     "output_type": "display_data"
    }
   ],
   "source": [
    "sns.lmplot(\"Year\", \"LogPrice\", wine, size = 5.2, aspect = 2);\n",
    "plt.savefig(\"WineYearLogPrice.png\", dpi = 300, bbox_inches = 'tight')"
   ]
  },
  {
   "cell_type": "code",
   "execution_count": 31,
   "metadata": {},
   "outputs": [
    {
     "data": {
      "image/png": "[encoded data removed]",
      "text/plain": [
       "<matplotlib.figure.Figure at 0x11272e748>"
      ]
     },
     "metadata": {},
     "output_type": "display_data"
    }
   ],
   "source": [
    "sns.lmplot(\"WinterRain\", \"LogPrice\", wine, size = 5.2, aspect = 2);\n",
    "plt.savefig(\"WineLogPriceWinterRain.png\", dpi = 300, bbox_inches = 'tight')"
   ]
  },
  {
   "cell_type": "code",
   "execution_count": 32,
   "metadata": {},
   "outputs": [
    {
     "data": {
      "image/png": "[encoded data removed]",
      "text/plain": [
       "<matplotlib.figure.Figure at 0x11284b710>"
      ]
     },
     "metadata": {},
     "output_type": "display_data"
    }
   ],
   "source": [
    "sns.lmplot(\"HarvestRain\", \"LogPrice\", wine, size = 5.2, aspect = 2);\n",
    "plt.savefig(\"WineLogPriceHarvestRain.png\", dpi = 300, bbox_inches = 'tight')"
   ]
  },
  {
   "cell_type": "code",
   "execution_count": 33,
   "metadata": {},
   "outputs": [
    {
     "data": {
      "image/png": "[encoded data removed]",
      "text/plain": [
       "<matplotlib.figure.Figure at 0x1128ff438>"
      ]
     },
     "metadata": {},
     "output_type": "display_data"
    }
   ],
   "source": [
    "sns.lmplot(\"TimeYears\", \"LogPrice\", wine, size = 5.2, aspect = 2);\n",
    "plt.savefig(\"WineLogPriceTimeYears.png\", dpi = 300, bbox_inches = 'tight')"
   ]
  },
  {
   "cell_type": "markdown",
   "metadata": {},
   "source": [
    "Looking at the OLS regression results from the linear model the first thing I notice is the R-Squared values with it being at 0.468, meaning that the model explains just below half of the vairiablity for the LogPrice data. The F-Stastic of 19.34 indicates a resonably significant fit between the two variables.\n",
    "\n",
    "We have a correlation coefficient of 0.6944 indicates a moderately strong relationship and a p-value below 0.05 indicating that it is statisically significant.\n",
    "\n",
    "There is also a positive kurtosis indicating fatter tails on the distribution."
   ]
  },
  {
   "cell_type": "code",
   "execution_count": 69,
   "metadata": {},
   "outputs": [
    {
     "data": {
      "text/html": [
       "<table class=\"simpletable\">\n",
       "<caption>OLS Regression Results</caption>\n",
       "<tr>\n",
       "  <th>Dep. Variable:</th>       <td>Temperature</td>   <th>  R-squared:         </th> <td>   0.468</td>\n",
       "</tr>\n",
       "<tr>\n",
       "  <th>Model:</th>                   <td>OLS</td>       <th>  Adj. R-squared:    </th> <td>   0.444</td>\n",
       "</tr>\n",
       "<tr>\n",
       "  <th>Method:</th>             <td>Least Squares</td>  <th>  F-statistic:       </th> <td>   19.34</td>\n",
       "</tr>\n",
       "<tr>\n",
       "  <th>Date:</th>             <td>Wed, 13 Sep 2017</td> <th>  Prob (F-statistic):</th> <td>0.000228</td>\n",
       "</tr>\n",
       "<tr>\n",
       "  <th>Time:</th>                 <td>17:42:29</td>     <th>  Log-Likelihood:    </th> <td> -16.506</td>\n",
       "</tr>\n",
       "<tr>\n",
       "  <th>No. Observations:</th>      <td>    24</td>      <th>  AIC:               </th> <td>   37.01</td>\n",
       "</tr>\n",
       "<tr>\n",
       "  <th>Df Residuals:</th>          <td>    22</td>      <th>  BIC:               </th> <td>   39.37</td>\n",
       "</tr>\n",
       "<tr>\n",
       "  <th>Df Model:</th>              <td>     1</td>      <th>                     </th>     <td> </td>   \n",
       "</tr>\n",
       "<tr>\n",
       "  <th>Covariance Type:</th>      <td>nonrobust</td>    <th>                     </th>     <td> </td>   \n",
       "</tr>\n",
       "</table>\n",
       "<table class=\"simpletable\">\n",
       "<tr>\n",
       "      <td></td>        <th>coef</th>     <th>std err</th>      <th>t</th>      <th>P>|t|</th>  <th>[0.025</th>    <th>0.975]</th>  \n",
       "</tr>\n",
       "<tr>\n",
       "  <th>const</th>    <td>   17.5322</td> <td>    0.248</td> <td>   70.625</td> <td> 0.000</td> <td>   17.017</td> <td>   18.047</td>\n",
       "</tr>\n",
       "<tr>\n",
       "  <th>LogPrice</th> <td>    0.6944</td> <td>    0.158</td> <td>    4.398</td> <td> 0.000</td> <td>    0.367</td> <td>    1.022</td>\n",
       "</tr>\n",
       "</table>\n",
       "<table class=\"simpletable\">\n",
       "<tr>\n",
       "  <th>Omnibus:</th>       <td> 0.180</td> <th>  Durbin-Watson:     </th> <td>   2.335</td>\n",
       "</tr>\n",
       "<tr>\n",
       "  <th>Prob(Omnibus):</th> <td> 0.914</td> <th>  Jarque-Bera (JB):  </th> <td>   0.331</td>\n",
       "</tr>\n",
       "<tr>\n",
       "  <th>Skew:</th>          <td> 0.169</td> <th>  Prob(JB):          </th> <td>   0.848</td>\n",
       "</tr>\n",
       "<tr>\n",
       "  <th>Kurtosis:</th>      <td> 2.535</td> <th>  Cond. No.          </th> <td>    5.15</td>\n",
       "</tr>\n",
       "</table>"
      ],
      "text/plain": [
       "<class 'statsmodels.iolib.summary.Summary'>\n",
       "\"\"\"\n",
       "                            OLS Regression Results                            \n",
       "==============================================================================\n",
       "Dep. Variable:            Temperature   R-squared:                       0.468\n",
       "Model:                            OLS   Adj. R-squared:                  0.444\n",
       "Method:                 Least Squares   F-statistic:                     19.34\n",
       "Date:                Wed, 13 Sep 2017   Prob (F-statistic):           0.000228\n",
       "Time:                        17:42:29   Log-Likelihood:                -16.506\n",
       "No. Observations:                  24   AIC:                             37.01\n",
       "Df Residuals:                      22   BIC:                             39.37\n",
       "Df Model:                           1                                         \n",
       "Covariance Type:            nonrobust                                         \n",
       "==============================================================================\n",
       "                 coef    std err          t      P>|t|      [0.025      0.975]\n",
       "------------------------------------------------------------------------------\n",
       "const         17.5322      0.248     70.625      0.000      17.017      18.047\n",
       "LogPrice       0.6944      0.158      4.398      0.000       0.367       1.022\n",
       "==============================================================================\n",
       "Omnibus:                        0.180   Durbin-Watson:                   2.335\n",
       "Prob(Omnibus):                  0.914   Jarque-Bera (JB):                0.331\n",
       "Skew:                           0.169   Prob(JB):                        0.848\n",
       "Kurtosis:                       2.535   Cond. No.                         5.15\n",
       "==============================================================================\n",
       "\n",
       "Warnings:\n",
       "[1] Standard Errors assume that the covariance matrix of the errors is correctly specified.\n",
       "\"\"\""
      ]
     },
     "execution_count": 69,
     "metadata": {},
     "output_type": "execute_result"
    }
   ],
   "source": [
    "x = wine[['Temperature']]  #Independent variable\n",
    "y = wine[['LogPrice']] #Dependent Variable\n",
    "X = sm.add_constant(x) #Add an intercept to the model\n",
    "model = sm.OLS(y, x).fit() \n",
    "predictions = model.predict(x) #Make the predictions by the model\n",
    "\n",
    "model.summary() #print out the statistics"
   ]
  },
  {
   "cell_type": "code",
   "execution_count": 91,
   "metadata": {},
   "outputs": [
    {
     "name": "stdout",
     "output_type": "stream",
     "text": [
      "Coefficients: [[ 0.67366881]]\n",
      "Intercept: [-12.57270629]\n",
      "MSE: 0.224758806931\n",
      "R^2: -0.13761847304\n",
      "var: LogPrice    0.44069\n",
      "dtype: float64\n"
     ]
    }
   ],
   "source": [
    "est = LinearRegression(fit_intercept = True) \n",
    "\n",
    "x = wine[['Temperature']]\n",
    "y = wine[['LogPrice']]\n",
    "\n",
    "est.fit(x, y)\n",
    "model = LinearRegression()  #Fit the model to get MSE and R^2\n",
    "model.fit(x, y)\n",
    "y_hat = model.predict(x)\n",
    "\n",
    "print (\"Coefficients:\", est.coef_)\n",
    "print (\"Intercept:\", est.intercept_)\n",
    "print (\"MSE:\", metrics.mean_squared_error(y_hat, y))\n",
    "print (\"R^2:\", metrics.r2_score(y_hat, y))\n",
    "print (\"var:\", y.var())"
   ]
  },
  {
   "cell_type": "markdown",
   "metadata": {},
   "source": [
    "Once the addition of the second independent variable, we see changes in the data with the most significant being the change to the R2 error value. First off in the OLS regression result we see R-Squared jump up to 0.6 meaning that with the second variable we can explain more of the variablity which is always the case when adding a second independent variable. The R^2 erro is now actually positive with the second independent variable indicating a much better model fit with the LogPrice that with just one."
   ]
  },
  {
   "cell_type": "code",
   "execution_count": 65,
   "metadata": {},
   "outputs": [
    {
     "data": {
      "text/html": [
       "<table class=\"simpletable\">\n",
       "<caption>OLS Regression Results</caption>\n",
       "<tr>\n",
       "  <th>Dep. Variable:</th>        <td>LogPrice</td>     <th>  R-squared:         </th> <td>   0.600</td>\n",
       "</tr>\n",
       "<tr>\n",
       "  <th>Model:</th>                   <td>OLS</td>       <th>  Adj. R-squared:    </th> <td>   0.562</td>\n",
       "</tr>\n",
       "<tr>\n",
       "  <th>Method:</th>             <td>Least Squares</td>  <th>  F-statistic:       </th> <td>   15.77</td>\n",
       "</tr>\n",
       "<tr>\n",
       "  <th>Date:</th>             <td>Wed, 13 Sep 2017</td> <th>  Prob (F-statistic):</th> <td>6.58e-05</td>\n",
       "</tr>\n",
       "<tr>\n",
       "  <th>Time:</th>                 <td>17:10:09</td>     <th>  Log-Likelihood:    </th> <td> -12.706</td>\n",
       "</tr>\n",
       "<tr>\n",
       "  <th>No. Observations:</th>      <td>    24</td>      <th>  AIC:               </th> <td>   31.41</td>\n",
       "</tr>\n",
       "<tr>\n",
       "  <th>Df Residuals:</th>          <td>    21</td>      <th>  BIC:               </th> <td>   34.95</td>\n",
       "</tr>\n",
       "<tr>\n",
       "  <th>Df Model:</th>              <td>     2</td>      <th>                     </th>     <td> </td>   \n",
       "</tr>\n",
       "<tr>\n",
       "  <th>Covariance Type:</th>      <td>nonrobust</td>    <th>                     </th>     <td> </td>   \n",
       "</tr>\n",
       "</table>\n",
       "<table class=\"simpletable\">\n",
       "<tr>\n",
       "       <td></td>          <th>coef</th>     <th>std err</th>      <th>t</th>      <th>P>|t|</th>  <th>[0.025</th>    <th>0.975]</th>  \n",
       "</tr>\n",
       "<tr>\n",
       "  <th>const</th>       <td>   53.8237</td> <td>   25.264</td> <td>    2.130</td> <td> 0.045</td> <td>    1.283</td> <td>  106.364</td>\n",
       "</tr>\n",
       "<tr>\n",
       "  <th>Temperature</th> <td>    0.6038</td> <td>    0.138</td> <td>    4.362</td> <td> 0.000</td> <td>    0.316</td> <td>    0.892</td>\n",
       "</tr>\n",
       "<tr>\n",
       "  <th>Year</th>        <td>   -0.0332</td> <td>    0.013</td> <td>   -2.639</td> <td> 0.015</td> <td>   -0.059</td> <td>   -0.007</td>\n",
       "</tr>\n",
       "</table>\n",
       "<table class=\"simpletable\">\n",
       "<tr>\n",
       "  <th>Omnibus:</th>       <td> 1.574</td> <th>  Durbin-Watson:     </th> <td>   2.337</td>\n",
       "</tr>\n",
       "<tr>\n",
       "  <th>Prob(Omnibus):</th> <td> 0.455</td> <th>  Jarque-Bera (JB):  </th> <td>   1.075</td>\n",
       "</tr>\n",
       "<tr>\n",
       "  <th>Skew:</th>          <td> 0.220</td> <th>  Prob(JB):          </th> <td>   0.584</td>\n",
       "</tr>\n",
       "<tr>\n",
       "  <th>Kurtosis:</th>      <td> 2.062</td> <th>  Cond. No.          </th> <td>5.54e+05</td>\n",
       "</tr>\n",
       "</table>"
      ],
      "text/plain": [
       "<class 'statsmodels.iolib.summary.Summary'>\n",
       "\"\"\"\n",
       "                            OLS Regression Results                            \n",
       "==============================================================================\n",
       "Dep. Variable:               LogPrice   R-squared:                       0.600\n",
       "Model:                            OLS   Adj. R-squared:                  0.562\n",
       "Method:                 Least Squares   F-statistic:                     15.77\n",
       "Date:                Wed, 13 Sep 2017   Prob (F-statistic):           6.58e-05\n",
       "Time:                        17:10:09   Log-Likelihood:                -12.706\n",
       "No. Observations:                  24   AIC:                             31.41\n",
       "Df Residuals:                      21   BIC:                             34.95\n",
       "Df Model:                           2                                         \n",
       "Covariance Type:            nonrobust                                         \n",
       "===============================================================================\n",
       "                  coef    std err          t      P>|t|      [0.025      0.975]\n",
       "-------------------------------------------------------------------------------\n",
       "const          53.8237     25.264      2.130      0.045       1.283     106.364\n",
       "Temperature     0.6038      0.138      4.362      0.000       0.316       0.892\n",
       "Year           -0.0332      0.013     -2.639      0.015      -0.059      -0.007\n",
       "==============================================================================\n",
       "Omnibus:                        1.574   Durbin-Watson:                   2.337\n",
       "Prob(Omnibus):                  0.455   Jarque-Bera (JB):                1.075\n",
       "Skew:                           0.220   Prob(JB):                        0.584\n",
       "Kurtosis:                       2.062   Cond. No.                     5.54e+05\n",
       "==============================================================================\n",
       "\n",
       "Warnings:\n",
       "[1] Standard Errors assume that the covariance matrix of the errors is correctly specified.\n",
       "[2] The condition number is large, 5.54e+05. This might indicate that there are\n",
       "strong multicollinearity or other numerical problems.\n",
       "\"\"\""
      ]
     },
     "execution_count": 65,
     "metadata": {},
     "output_type": "execute_result"
    }
   ],
   "source": [
    "X = wine[['Temperature', 'Year']]  \n",
    "y = wine[['LogPrice']] \n",
    "X = sm.add_constant(X) \n",
    "model2 = sm.OLS(y, X).fit() \n",
    "predictions2 = model2.predict(X)\n",
    "\n",
    "model2.summary()"
   ]
  },
  {
   "cell_type": "code",
   "execution_count": 92,
   "metadata": {},
   "outputs": [
    {
     "name": "stdout",
     "output_type": "stream",
     "text": [
      "Coefficients: [[ 0.60381912 -0.03319669]]\n",
      "Intercept: [ 53.82366112]\n",
      "MSE: 0.168799076132\n",
      "R^2: 0.334202921798\n",
      "var: LogPrice    0.44069\n",
      "dtype: float64\n"
     ]
    }
   ],
   "source": [
    "est = LinearRegression(fit_intercept = True)\n",
    "\n",
    "x = wine[['Temperature', 'Year']]\n",
    "y = wine[['LogPrice']]\n",
    "\n",
    "est.fit(x, y)\n",
    "model = LinearRegression()\n",
    "model.fit(x, y)\n",
    "y_hat = model.predict(x)\n",
    "\n",
    "print (\"Coefficients:\", est.coef_)\n",
    "print (\"Intercept:\", est.intercept_)\n",
    "print (\"MSE:\", metrics.mean_squared_error(y_hat, y))\n",
    "print (\"R^2:\", metrics.r2_score(y_hat, y))\n",
    "print (\"var:\", y.var())"
   ]
  },
  {
   "cell_type": "markdown",
   "metadata": {},
   "source": [
    "To check for multicollinearity I looked at the relationship between year and temperature, the two independent variables I used for the linear model before. A very low R-Squared shows that there is not much variablity that can be explained from these tow variables and a coefficient that is very close to 0 that the two variables don't have a relation of any kind. \n",
    "\n",
    "Since it seems that these two variables are not correlated with one another, the previous models are unlikely to have any multicollinearity issues."
   ]
  },
  {
   "cell_type": "code",
   "execution_count": 88,
   "metadata": {},
   "outputs": [
    {
     "data": {
      "text/html": [
       "<table class=\"simpletable\">\n",
       "<caption>OLS Regression Results</caption>\n",
       "<tr>\n",
       "  <th>Dep. Variable:</th>       <td>Temperature</td>   <th>  R-squared:         </th> <td>   0.037</td>\n",
       "</tr>\n",
       "<tr>\n",
       "  <th>Model:</th>                   <td>OLS</td>       <th>  Adj. R-squared:    </th> <td>  -0.007</td>\n",
       "</tr>\n",
       "<tr>\n",
       "  <th>Method:</th>             <td>Least Squares</td>  <th>  F-statistic:       </th> <td>  0.8350</td>\n",
       "</tr>\n",
       "<tr>\n",
       "  <th>Date:</th>             <td>Thu, 14 Sep 2017</td> <th>  Prob (F-statistic):</th>  <td> 0.371</td> \n",
       "</tr>\n",
       "<tr>\n",
       "  <th>Time:</th>                 <td>14:06:20</td>     <th>  Log-Likelihood:    </th> <td> -23.628</td>\n",
       "</tr>\n",
       "<tr>\n",
       "  <th>No. Observations:</th>      <td>    24</td>      <th>  AIC:               </th> <td>   51.26</td>\n",
       "</tr>\n",
       "<tr>\n",
       "  <th>Df Residuals:</th>          <td>    22</td>      <th>  BIC:               </th> <td>   53.61</td>\n",
       "</tr>\n",
       "<tr>\n",
       "  <th>Df Model:</th>              <td>     1</td>      <th>                     </th>     <td> </td>   \n",
       "</tr>\n",
       "<tr>\n",
       "  <th>Covariance Type:</th>      <td>nonrobust</td>    <th>                     </th>     <td> </td>   \n",
       "</tr>\n",
       "</table>\n",
       "<table class=\"simpletable\">\n",
       "<tr>\n",
       "    <td></td>       <th>coef</th>     <th>std err</th>      <th>t</th>      <th>P>|t|</th>  <th>[0.025</th>    <th>0.975]</th>  \n",
       "</tr>\n",
       "<tr>\n",
       "  <th>const</th> <td>   50.6936</td> <td>   37.378</td> <td>    1.356</td> <td> 0.189</td> <td>  -26.823</td> <td>  128.210</td>\n",
       "</tr>\n",
       "<tr>\n",
       "  <th>Year</th>  <td>   -0.0174</td> <td>    0.019</td> <td>   -0.914</td> <td> 0.371</td> <td>   -0.057</td> <td>    0.022</td>\n",
       "</tr>\n",
       "</table>\n",
       "<table class=\"simpletable\">\n",
       "<tr>\n",
       "  <th>Omnibus:</th>       <td> 0.444</td> <th>  Durbin-Watson:     </th> <td>   2.662</td>\n",
       "</tr>\n",
       "<tr>\n",
       "  <th>Prob(Omnibus):</th> <td> 0.801</td> <th>  Jarque-Bera (JB):  </th> <td>   0.388</td>\n",
       "</tr>\n",
       "<tr>\n",
       "  <th>Skew:</th>          <td>-0.273</td> <th>  Prob(JB):          </th> <td>   0.823</td>\n",
       "</tr>\n",
       "<tr>\n",
       "  <th>Kurtosis:</th>      <td> 2.699</td> <th>  Cond. No.          </th> <td>5.32e+05</td>\n",
       "</tr>\n",
       "</table>"
      ],
      "text/plain": [
       "<class 'statsmodels.iolib.summary.Summary'>\n",
       "\"\"\"\n",
       "                            OLS Regression Results                            \n",
       "==============================================================================\n",
       "Dep. Variable:            Temperature   R-squared:                       0.037\n",
       "Model:                            OLS   Adj. R-squared:                 -0.007\n",
       "Method:                 Least Squares   F-statistic:                    0.8350\n",
       "Date:                Thu, 14 Sep 2017   Prob (F-statistic):              0.371\n",
       "Time:                        14:06:20   Log-Likelihood:                -23.628\n",
       "No. Observations:                  24   AIC:                             51.26\n",
       "Df Residuals:                      22   BIC:                             53.61\n",
       "Df Model:                           1                                         \n",
       "Covariance Type:            nonrobust                                         \n",
       "==============================================================================\n",
       "                 coef    std err          t      P>|t|      [0.025      0.975]\n",
       "------------------------------------------------------------------------------\n",
       "const         50.6936     37.378      1.356      0.189     -26.823     128.210\n",
       "Year          -0.0174      0.019     -0.914      0.371      -0.057       0.022\n",
       "==============================================================================\n",
       "Omnibus:                        0.444   Durbin-Watson:                   2.662\n",
       "Prob(Omnibus):                  0.801   Jarque-Bera (JB):                0.388\n",
       "Skew:                          -0.273   Prob(JB):                        0.823\n",
       "Kurtosis:                       2.699   Cond. No.                     5.32e+05\n",
       "==============================================================================\n",
       "\n",
       "Warnings:\n",
       "[1] Standard Errors assume that the covariance matrix of the errors is correctly specified.\n",
       "[2] The condition number is large, 5.32e+05. This might indicate that there are\n",
       "strong multicollinearity or other numerical problems.\n",
       "\"\"\""
      ]
     },
     "execution_count": 88,
     "metadata": {},
     "output_type": "execute_result"
    }
   ],
   "source": [
    "X = wine[['Year']]\n",
    "y = wine[['Temperature']]\n",
    "X = sm.add_constant(X) \n",
    "model = sm.OLS(y, X).fit()\n",
    "predictions = model.predict(X)\n",
    "\n",
    "model.summary()"
   ]
  },
  {
   "cell_type": "code",
   "execution_count": 93,
   "metadata": {},
   "outputs": [
    {
     "name": "stdout",
     "output_type": "stream",
     "text": [
      "Coefficients: [[-0.01737928]]\n",
      "Intercept: [ 50.69355895]\n",
      "MSE: 0.419419149448\n",
      "R^2: -25.3462912178\n",
      "var: Temperature    0.454266\n",
      "dtype: float64\n"
     ]
    }
   ],
   "source": [
    "est = LinearRegression(fit_intercept = True)\n",
    "\n",
    "x = wine[['Year']]\n",
    "y = wine[['Temperature']]\n",
    "\n",
    "est.fit(x, y)\n",
    "model = LinearRegression()\n",
    "model.fit(x, y)\n",
    "y_hat = model.predict(x)\n",
    "\n",
    "print (\"Coefficients:\", est.coef_)\n",
    "print (\"Intercept:\", est.intercept_)\n",
    "print (\"MSE:\", metrics.mean_squared_error(y_hat, y))\n",
    "print (\"R^2:\", metrics.r2_score(y_hat, y))\n",
    "print (\"var:\", y.var())"
   ]
  },
  {
   "cell_type": "code",
   "execution_count": null,
   "metadata": {
    "collapsed": true
   },
   "outputs": [],
   "source": []
  }
 ],
 "metadata": {
  "kernelspec": {
   "display_name": "Python 3",
   "language": "python",
   "name": "python3"
  },
  "language_info": {
   "codemirror_mode": {
    "name": "ipython",
    "version": 3
   },
   "file_extension": ".py",
   "mimetype": "text/x-python",
   "name": "python",
   "nbconvert_exporter": "python",
   "pygments_lexer": "ipython3",
   "version": "3.6.1"
  }
 },
 "nbformat": 4,
 "nbformat_minor": 2
}
